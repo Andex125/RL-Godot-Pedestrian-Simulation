{
 "cells": [
  {
   "cell_type": "markdown",
   "source": [
    "# Analysis of Pedestrian Dynamics in Bottleneck Scenarios using PedPy and Reinforcement Learning\n",
    "\n",
    "This notebook explores the behavior of **pedestrian traffic** in **bottleneck** situations, using simulations trained via **reinforcement learning**. By employing the **PedPy** library, we visualize and analyze trajectories, density, and velocity of pedestrians as they navigate through constrained environments. The objective is to enhance our understanding of pedestrian flow dynamics under stress conditions and to contribute to the development of effective crowd management strategies in bottleneck scenarios."
   ],
   "metadata": {
    "collapsed": false
   },
   "id": "f382ab67dcbc2153"
  },
  {
   "cell_type": "markdown",
   "source": [
    "## Key Studies Utilized\n",
    "\n",
    "To study in deep our analysis, we have selected specific aspects from two studies on pedestrian dynamics in bottleneck scenarios.\n",
    "\n",
    "### 1. [**Crowds in front of bottlenecks at entrances from the perspective of physics and social psychology**](https://royalsocietypublishing.org/doi/10.1098/rsif.2019.0871)\n",
    "\n",
    "This study examines how various factors influence crowd dynamics at bottleneck entrances. For the purpose of our analysis, we specifically focused on how the corridor width at the entrance affects the pedestrian flow and density. The findings from the study indicate that the density of persons per square meter increases with corridor width, which informs our simulations of pedestrian traffic at different entrance widths in bottleneck scenarios.\n",
    "\n",
    "### 2. [**Pedestrian flow through multiple bottlenecks**](https://journals.aps.org/pre/pdf/10.1103/PhysRevE.86.026118)\n",
    "\n",
    "Focusing on the section \"Merging\" from this study, we explore the paradoxical effects of architectural designs on pedestrian flow. The study compares two types of connections—center and corner—and reveals that while corner connections improve local evacuation times, they paradoxically increase the total evacuation time due to higher inflow rates leading to increased density near the exits. This phenomenon highlights the complexity of optimizing pedestrian flow in systems with multiple bottlenecks, which is crucial for our analysis of similar scenarios.\n"
   ],
   "metadata": {
    "collapsed": false
   },
   "id": "ed24318ef51cb8bd"
  },
  {
   "cell_type": "markdown",
   "source": [],
   "metadata": {
    "collapsed": false
   },
   "id": "8018c1dd6e533b53"
  },
  {
   "cell_type": "markdown",
   "source": [
    "## Environment Setup and Library Imports\n",
    "\n",
    "In this section, we set up our Python environment by importing necessary libraries and configuring the plotting settings. This includes importing data handling libraries like `pandas`, geometric operations library `shapely`, and visualization libraries such as `matplotlib`. We also import the `pedpy` library, which provides tools specifically designed for analyzing pedestrian dynamics, including functions for computing density, speed, and flow of pedestrian traffic, as well as visualizing these metrics."
   ],
   "metadata": {
    "collapsed": false
   },
   "id": "180e985b7ef62737"
  },
  {
   "cell_type": "code",
   "outputs": [],
   "source": [
    "%matplotlib inline\n",
    "\n",
    "import re\n",
    "import os\n",
    "import pedpy\n",
    "import shapely\n",
    "import pandas as pd\n",
    "import matplotlib.pyplot as plt\n",
    "import matplotlib as mpl\n",
    "from PIL import Image\n",
    "\n",
    "from pathlib import Path\n",
    "from shapely import Polygon\n",
    "from typing import Collection\n",
    "\n",
    "from pedpy.column_identifier import DENSITY_COL\n",
    "from matplotlib.animation import FuncAnimation\n",
    "\n",
    "from pedpy import (\n",
    "\n",
    "    compute_speed_profile, SpeedMethod,\n",
    "    get_grid_cells, compute_grid_cell_polygon_intersection_area,\n",
    "    compute_individual_voronoi_polygons, compute_individual_speed,\n",
    "    SpeedCalculation, Cutoff, plot_profiles,\n",
    "    TrajectoryData, WalkableArea, plot_measurement_setup,\n",
    "    compute_classic_density, MeasurementArea, compute_voronoi_density,\n",
    "    plot_voronoi_cells, MeasurementLine, compute_density_profile, DensityMethod,\n",
    "    plot_nt, compute_n_t, plot_density_distribution, compute_passing_density,\n",
    "    compute_frame_range_in_area, plot_time_distance, compute_time_distance_line,\n",
    "    compute_flow, plot_flow\n",
    ")"
   ],
   "metadata": {
    "collapsed": false
   },
   "id": "f7c87e88f8436f8",
   "execution_count": null
  },
  {
   "cell_type": "code",
   "outputs": [],
   "source": [],
   "metadata": {
    "collapsed": false
   },
   "id": "74325f67060a93b1"
  },
  {
   "cell_type": "markdown",
   "source": [
    "### Setting save path\n",
    "\n",
    "The next cell contains the variable `group` and `name`, which tells in which folder the plots will be saved into.\n",
    "The full save path will be: *output/runs/{group}/{name}/plots/*"
   ],
   "metadata": {
    "collapsed": false
   },
   "id": "a577c5c5dd8915ca"
  },
  {
   "cell_type": "code",
   "outputs": [],
   "source": [
    "group = 'sensitivity_studies'\n",
    "name = 'net_256_128_64'"
   ],
   "metadata": {
    "collapsed": false
   },
   "id": "64fa60ff328a7039",
   "execution_count": null
  },
  {
   "cell_type": "markdown",
   "source": [
    "## Trajectory Extraction Function\n",
    "\n",
    "The `extract_trajectories` function processes trajectory data from an input file, separating trajectories by group and extracting frame rates for accurate temporal analysis. It reads data, handles different pedestrian groups, and compiles everything into a collection of `TrajectoryData` objects ready for further dynamic analysis.\n"
   ],
   "metadata": {
    "collapsed": false
   },
   "id": "5249623d460a95ba"
  },
  {
   "cell_type": "code",
   "outputs": [],
   "source": [
    "def extract_trajectories(input_file: Path) -> Collection[TrajectoryData]:\n",
    "    df = pd.read_csv(\n",
    "                input_file,\n",
    "                sep=r\"\\s+\",\n",
    "                comment=\"#\",\n",
    "                header=None,\n",
    "                names=['id', 'frame', 'x', 'y', 'group'],\n",
    "                usecols=[0, 1, 2, 3, 5],\n",
    "    )\n",
    "    groups = df['group'].unique()\n",
    "    \n",
    "    dfs = {}\n",
    "    for group in groups:\n",
    "        dfs[group] = df.loc[df['group'] == group]\n",
    "    \n",
    "    with open(input_file, 'r') as file:\n",
    "        first_line = file.readline().strip()\n",
    "    \n",
    "    match = re.search(r'# framerate: (\\d+) fps', first_line)\n",
    "    if not match:\n",
    "        raise Exception('fps not found in trajectory file')\n",
    "    fps = int(match.group(1))\n",
    "    \n",
    "    trajectories = []\n",
    "    for df in dfs.values():\n",
    "        traj = TrajectoryData(df, fps)\n",
    "        trajectories.append(traj)\n",
    "        \n",
    "    return trajectories"
   ],
   "metadata": {
    "collapsed": false
   },
   "id": "9e5598bb18eee71e",
   "execution_count": null
  },
  {
   "cell_type": "markdown",
   "source": [
    "## Unified Trajectory Extraction Function\n",
    "\n",
    "The `extract_trajectories_unified` function reads pedestrian trajectory data from a specified file, consolidating all trajectories into a single collection regardless of group. It extracts the frame rate from the file's first line to ensure accurate temporal measurements and creates a single `TrajectoryData` object that encapsulates all pedestrian data along with the frame rate for subsequent analysis."
   ],
   "metadata": {
    "collapsed": false
   },
   "id": "9a2a8713b29f5d5a"
  },
  {
   "cell_type": "code",
   "outputs": [],
   "source": [
    "def extract_trajectories_unified(input_file: Path) -> Collection[TrajectoryData]:\n",
    "    df = pd.read_csv(\n",
    "                input_file,\n",
    "                sep=r\"\\s+\",\n",
    "                comment=\"#\",\n",
    "                header=None,\n",
    "                names=['id', 'frame', 'x', 'y', 'group'],\n",
    "                usecols=[0, 1, 2, 3, 5],\n",
    "    )\n",
    "    \n",
    "    with open(input_file, 'r') as file:\n",
    "        first_line = file.readline().strip()\n",
    "    \n",
    "    match = re.search(r'# framerate: (\\d+) fps', first_line)\n",
    "    if not match:\n",
    "        raise Exception('fps not found in trajectory file')\n",
    "    fps = int(match.group(1))\n",
    "    \n",
    "    trajectories = [TrajectoryData(df, fps)]\n",
    "        \n",
    "    return trajectories"
   ],
   "metadata": {
    "collapsed": false
   },
   "id": "e80900b578b3a880",
   "execution_count": null
  },
  {
   "cell_type": "markdown",
   "source": [
    "## First ID Extraction Function\n",
    "\n",
    "The `extract_first_id` function reads a specified file to extract the ID of the first pedestrian encountered in the data. It iterates through the file until a non-commented line. It then extracts the ID from the first line and returns it."
   ],
   "metadata": {
    "collapsed": false
   },
   "id": "75e5729bbf1e1815"
  },
  {
   "cell_type": "code",
   "outputs": [],
   "source": [
    "def extract_first_id(file_path):\n",
    "    with open(file_path, 'r') as file:\n",
    "        for line in file:\n",
    "            if not line.startswith('#'):\n",
    "                first_id = int(line.split()[0])\n",
    "                return first_id\n",
    "    return None"
   ],
   "metadata": {
    "collapsed": false
   },
   "id": "e30268f2ced85e6e",
   "execution_count": null
  },
  {
   "cell_type": "markdown",
   "source": [
    "## Trajectory Plotting Function\n",
    "\n",
    "The `plot_trajectories` function visualizes pedestrian trajectories within a specified walkable area. It takes trajectories, a walkable area, a level name, and optional parameters such as final targets, start areas, measurement areas, and measurement lines. It plots these elements and the trajectories, aiding in the visual analysis of pedestrian movement patterns within an environment.\n"
   ],
   "metadata": {
    "collapsed": false
   },
   "id": "8824f7fcf7cec8e1"
  },
  {
   "cell_type": "code",
   "outputs": [],
   "source": [
    "def plot_trajectories(\n",
    "        trajectories: Collection, \n",
    "        walkable_area: WalkableArea, \n",
    "        level_name: str, \n",
    "        final_targets: list = None, \n",
    "        start_areas: list = None, \n",
    "        measurement_areas: dict = None, \n",
    "        measurement_line: MeasurementLine = None\n",
    ") -> None:\n",
    "    fig, ax = plt.subplots(nrows=1, ncols=1)\n",
    "    ax.set_aspect(\"equal\")\n",
    "    \n",
    "    # Plot the walkable area\n",
    "    pedpy.plot_walkable_area(walkable_area=walkable_area, axes=ax)\n",
    "    \n",
    "    # Plot the final targets\n",
    "    if final_targets is not None:\n",
    "        for idx, exit_poly in enumerate(final_targets):\n",
    "            x, y = Polygon(exit_poly).exterior.xy\n",
    "            plt.fill(x, y, alpha=0.3, color=\"purple\")\n",
    "            centroid = Polygon(exit_poly).centroid\n",
    "            plt.text(centroid.x, centroid.y, f\"Target {idx+1}\", ha=\"center\", va=\"center\", fontsize=8)\n",
    "    \n",
    "    # Plot the start areas\n",
    "    if start_areas is not None:\n",
    "        for idx, dp in enumerate(start_areas):\n",
    "            dist_poly = Polygon(dp)\n",
    "            x, y = dist_poly.exterior.xy\n",
    "            plt.fill(x, y, alpha=0.3, color=\"#ADAAAB\")\n",
    "            centroid = dist_poly.centroid\n",
    "            plt.text(centroid.x, centroid.y, f\"Start {idx+1}\", ha=\"center\", va=\"center\", fontsize=8)\n",
    "    \n",
    "    # Plot the measurement areas\n",
    "    if measurement_areas is not None:\n",
    "        for key, ma in measurement_areas.items():\n",
    "            coords = list(ma.polygon.exterior.coords)\n",
    "            x, y = zip(*coords)\n",
    "            plt.fill(x, y, alpha=0.3, color=\"cyan\")\n",
    "            centroid = Polygon(coords).centroid\n",
    "    \n",
    "    # Plot the trajectories\n",
    "    for traj, color in zip(trajectories, ['#FF0000', '#0000FF', '#00FF00', '#FFFFFF']):\n",
    "        plot_measurement_setup(\n",
    "            walkable_area=walkable_area,\n",
    "            measurement_areas=list(measurement_areas.values()) if measurement_areas is not None else [],\n",
    "            measurement_lines=[measurement_line] if measurement_line is not None else [],\n",
    "            traj=traj,\n",
    "            traj_color=color,\n",
    "            traj_alpha=0.5,\n",
    "            traj_width=1,\n",
    "        )\n",
    "    \n",
    "    path = f'../output/runs/{group}/{name}/plots/{level_name}/'\n",
    "    os.makedirs(path, exist_ok=True)\n",
    "    plt.savefig(path + f'trajectories_{level_name}.png', bbox_inches=\"tight\")\n",
    "    plt.show()\n",
    "    "
   ],
   "metadata": {
    "collapsed": false
   },
   "id": "bc222462b988ba1f",
   "execution_count": null
  },
  {
   "cell_type": "markdown",
   "source": [
    "## Speed and Density Profile Plotting Function\n",
    "\n",
    "The `plot_speed_and_density_profiles` function visualizes speed and density profiles within a specified walkable area. It takes trajectory data, a walkable area, maximum density, a level name, minimum and maximum frame numbers, and optional grid parameters. This function computes individual speed and density profiles, combines them with trajectory data, and plots the profiles using different methods: Voronoi, Arithmetic, and Mean for speed, and Voronoi, Classic, and Gaussian for density.\n"
   ],
   "metadata": {
    "collapsed": false
   },
   "id": "5526c5525a20b49a"
  },
  {
   "cell_type": "code",
   "outputs": [],
   "source": [
    "def plot_speed_and_density_profiles(traj_data: TrajectoryData, area: WalkableArea, density_max: float, level_name: str, min_frame: int, max_frame: int, grid: float = 0.5, frame: int = 5) -> None:\n",
    "    individual_cutoff = compute_individual_voronoi_polygons(\n",
    "        traj_data=traj_data,\n",
    "        walkable_area=area,\n",
    "        cut_off=Cutoff(radius=0.8, quad_segments=3),\n",
    "    )\n",
    "\n",
    "    individual_speed = compute_individual_speed(\n",
    "        traj_data=traj_data,\n",
    "        frame_step=frame,\n",
    "        speed_calculation=SpeedCalculation.BORDER_SINGLE_SIDED,\n",
    "    )\n",
    "\n",
    "    profile_data = individual_speed.merge(individual_cutoff)\n",
    "    profile_data = profile_data.merge(traj_data.data)\n",
    "    \n",
    "    grid_cells, _, _ = get_grid_cells(\n",
    "        walkable_area=area, grid_size=grid\n",
    "    )\n",
    "\n",
    "    profile_data = profile_data[\n",
    "        profile_data.frame.between(min_frame, max_frame)\n",
    "    ]\n",
    "\n",
    "    grid_cell_intersection_area, resorted_profile_data = compute_grid_cell_polygon_intersection_area(\n",
    "        data=profile_data, grid_cells=grid_cells\n",
    "    )\n",
    "\n",
    "    voronoi_speed_profile = compute_speed_profile(\n",
    "        data=resorted_profile_data,\n",
    "        walkable_area=area,\n",
    "        grid_intersections_area=grid_cell_intersection_area,\n",
    "        grid_size=grid,\n",
    "        speed_method=SpeedMethod.VORONOI,\n",
    "    )\n",
    "\n",
    "    arithmetic_speed_profile = compute_speed_profile(\n",
    "        data=resorted_profile_data,\n",
    "        walkable_area=area,\n",
    "        grid_intersections_area=grid_cell_intersection_area,\n",
    "        grid_size=grid,\n",
    "        speed_method=SpeedMethod.ARITHMETIC,\n",
    "    )\n",
    "\n",
    "    mean_speed_profile = compute_speed_profile(\n",
    "        data=profile_data,\n",
    "        walkable_area=area,\n",
    "        grid_size=grid,\n",
    "        speed_method=SpeedMethod.MEAN,\n",
    "    )\n",
    "\n",
    "    voronoi_density_profile = compute_density_profile(\n",
    "        data=resorted_profile_data,\n",
    "        walkable_area=area,\n",
    "        grid_intersections_area=grid_cell_intersection_area,\n",
    "        grid_size=grid,\n",
    "        density_method=DensityMethod.VORONOI,\n",
    "    )\n",
    "\n",
    "    classic_density_profile = compute_density_profile(\n",
    "        data=resorted_profile_data,\n",
    "        walkable_area=area,\n",
    "        grid_size=grid,\n",
    "        density_method=DensityMethod.CLASSIC,\n",
    "    )\n",
    "\n",
    "    gaussian_density_profile = compute_density_profile(\n",
    "        data=resorted_profile_data,\n",
    "        walkable_area=area,\n",
    "        grid_size=grid,\n",
    "        density_method=DensityMethod.GAUSSIAN,\n",
    "        gaussian_width=0.5,\n",
    "    )\n",
    "\n",
    "    fig, (ax0, ax1, ax2) = plt.subplots(nrows=1, ncols=3, figsize=(18, 8))\n",
    "\n",
    "    plot_profiles(\n",
    "        walkable_area=area,\n",
    "        profiles=voronoi_speed_profile,\n",
    "        axes=ax0,\n",
    "        label=\"v / m/s\",\n",
    "        vmin=0,\n",
    "        vmax=1.7,\n",
    "        title=\"Voronoi\",\n",
    "    )\n",
    "\n",
    "    plot_profiles(\n",
    "        walkable_area=area,\n",
    "        profiles=arithmetic_speed_profile,\n",
    "        axes=ax1,\n",
    "        label=\"v / m/s\",\n",
    "        vmin=0,\n",
    "        vmax=1.7,\n",
    "        title=\"Arithmetic\",\n",
    "    )\n",
    "\n",
    "    plot_profiles(\n",
    "        walkable_area=area,\n",
    "        profiles=mean_speed_profile,\n",
    "        axes=ax2,\n",
    "        label=\"v / m/s\",\n",
    "        vmin=0,\n",
    "        vmax=1.7,\n",
    "        title=\"Mean\",\n",
    "    )\n",
    "\n",
    "    plt.tight_layout(pad=3) \n",
    "    path = f'../output/runs/{group}/{name}/plots/{level_name}/'\n",
    "    os.makedirs(path, exist_ok=True)\n",
    "    plt.savefig(path + f'speed_profiles_{level_name}.png', bbox_inches=\"tight\")\n",
    "    plt.show()\n",
    "\n",
    "    fig, (ax3, ax4, ax5) = plt.subplots(nrows=1, ncols=3, figsize=(18, 8))\n",
    "\n",
    "    plot_profiles(\n",
    "        walkable_area=area,\n",
    "        profiles=voronoi_density_profile,\n",
    "        axes=ax3,\n",
    "        label=\"$\\\\rho$ / 1/$m^2$\",\n",
    "        vmin=0,\n",
    "        vmax=density_max,\n",
    "        title=\"Voronoi\",\n",
    "    )\n",
    "\n",
    "    plot_profiles(\n",
    "        walkable_area=area,\n",
    "        profiles=classic_density_profile,\n",
    "        axes=ax4,\n",
    "        label=\"$\\\\rho$ / 1/$m^2$\",\n",
    "        vmin=0,\n",
    "        vmax=density_max,\n",
    "        title=\"Classic\",\n",
    "    )\n",
    "\n",
    "    plot_profiles(\n",
    "        walkable_area=area,\n",
    "        profiles=gaussian_density_profile,\n",
    "        axes=ax5,\n",
    "        label=\"$\\\\rho$ / 1/$m^2$\",\n",
    "        vmin=0,\n",
    "        vmax=density_max,\n",
    "        title=\"Gaussian\",\n",
    "    )\n",
    "\n",
    "    plt.tight_layout(pad=3)\n",
    "    path = f'../output/runs/{group}/{name}/plots/{level_name}/'\n",
    "    os.makedirs(path, exist_ok=True)\n",
    "    plt.savefig(path + f'density_profiles_{level_name}.png', bbox_inches=\"tight\")\n",
    "    plt.show()"
   ],
   "metadata": {
    "collapsed": false
   },
   "id": "2bb3ca650a40f3f8",
   "execution_count": null
  },
  {
   "cell_type": "markdown",
   "source": [
    "## Density Comparison Plot Function\n",
    "\n",
    "The `plot_density_comparison` function compares densities of trajectories from different levels over time. It plots these densities on a single graph, facilitating easy visual comparison. The x-axis represents frames, and the y-axis represents density in units of 1/$m^2$.\n"
   ],
   "metadata": {
    "collapsed": false
   },
   "id": "606a4cd27fb22c3"
  },
  {
   "cell_type": "code",
   "outputs": [],
   "source": [
    "def plot_density_comparison(levels_data: dict, colors: dict, level_name: str, main_folder: str) -> None:\n",
    "    fig = plt.figure()\n",
    "    fig.set_size_inches(10, 6)\n",
    "\n",
    "    for level, data in levels_data.items():\n",
    "        plt.plot(\n",
    "            data.index,\n",
    "            data.values,\n",
    "            label=level,\n",
    "            color=colors.get(level, 'blue')\n",
    "        )\n",
    "\n",
    "    plt.xlabel(\"frame\")\n",
    "    plt.ylabel(\"$\\\\rho$ / 1/$m^2$\")\n",
    "    plt.grid()\n",
    "    plt.legend()\n",
    "    path = f'../output/runs/{group}/{name}/plots/{main_folder}/'\n",
    "    os.makedirs(path, exist_ok=True)\n",
    "    plt.savefig(path + f'density_comparison_{level_name}.png', bbox_inches=\"tight\")\n",
    "    plt.show()\n"
   ],
   "metadata": {
    "collapsed": false
   },
   "id": "e81e5ae9599dada4",
   "execution_count": null
  },
  {
   "cell_type": "markdown",
   "source": [
    "## Individual Speed Plot Function\n",
    "\n",
    "The `plot_individual_speed` function visualizes the time-series of speed for a specific pedestrian in a given level. It takes the pedestrian ID, level name, and speed data as input. The function plots the speed of the specified pedestrian over time, with frames on the x-axis and speed in meters per second (m/s) on the y-axis.\n"
   ],
   "metadata": {
    "collapsed": false
   },
   "id": "d0d3096727cf1f09"
  },
  {
   "cell_type": "code",
   "outputs": [],
   "source": [
    "def plot_individual_speed(ped_id: int, level_name: str, speed):\n",
    "    plt.figure()\n",
    "    single_individual_speed = speed[\n",
    "        speed.id == ped_id\n",
    "    ]\n",
    "    plt.plot(\n",
    "        single_individual_speed.frame,\n",
    "        single_individual_speed.speed,\n",
    "    )\n",
    "    \n",
    "    plt.xlabel(\"frame\")\n",
    "    plt.ylabel(\"v / m/s\")\n",
    "    path = f'../output/runs/{group}/{name}/plots/{level_name}/'\n",
    "    os.makedirs(path, exist_ok=True)\n",
    "    plt.savefig(path + f'individual_speed_{level_name}.png', bbox_inches=\"tight\")\n",
    "    plt.show()\n",
    "    return speed"
   ],
   "metadata": {
    "collapsed": false
   },
   "id": "31a14d590c52c160",
   "execution_count": null
  },
  {
   "cell_type": "markdown",
   "source": [
    "## Voronoi Density Static Plot Function\n",
    "\n",
    "The `plot_voronoi_density_static` function creates a static plot comparing the Voronoi density with and without a cutoff for a specific frame. This function is useful for visualizing the density distribution in a walkable area at a given point in time.\n"
   ],
   "metadata": {
    "collapsed": false
   },
   "id": "93c8acc4ef3ecdbc"
  },
  {
   "cell_type": "code",
   "outputs": [],
   "source": [
    "def plot_voronoi_density_static(\n",
    "        voronoi_data_list: list, \n",
    "        voronoi_data_cutoff_list: list, \n",
    "        traj_data_list: list, \n",
    "        walkable_area: WalkableArea, \n",
    "        frame: int, \n",
    "        level_name: str, \n",
    "        vmin: float, \n",
    "        vmax: float) -> None:\n",
    "    fig, (ax1, ax2) = plt.subplots(1, 2, figsize=(18, 10))\n",
    "\n",
    "    ax1.set_aspect('equal')\n",
    "    ax1.set_title(f\"Frame {frame} without cutoff\", fontsize=18)  \n",
    "    ax1.tick_params(axis='both', which='major', labelsize=14)  \n",
    "    for traj_data, voronoi_data in zip(traj_data_list, voronoi_data_list):\n",
    "        plot_voronoi_cells(\n",
    "            voronoi_data=voronoi_data,\n",
    "            traj_data=traj_data,\n",
    "            frame=frame,\n",
    "            walkable_area=walkable_area,\n",
    "            color_by_column=DENSITY_COL,\n",
    "            axes=ax1,\n",
    "            show_colorbar=False,\n",
    "            vmin=vmin,\n",
    "            vmax=vmax,\n",
    "        )\n",
    "\n",
    "    ax2.set_title(f\"Frame {frame} with cutoff\", fontsize=18)  \n",
    "    ax2.set_aspect('equal')\n",
    "    ax2.tick_params(axis='both', which='major', labelsize=14)  \n",
    "    for traj_data, voronoi_data_cutoff in zip(traj_data_list, voronoi_data_cutoff_list):\n",
    "        plot_voronoi_cells(\n",
    "            voronoi_data=voronoi_data_cutoff,\n",
    "            traj_data=traj_data,\n",
    "            frame=frame,\n",
    "            walkable_area=walkable_area,\n",
    "            color_by_column=DENSITY_COL,\n",
    "            axes=ax2,\n",
    "            show_colorbar=False,\n",
    "            vmin=vmin,\n",
    "            vmax=vmax,\n",
    "        )\n",
    "\n",
    "    cbar_ax = fig.add_axes([0.1, 0.05, 0.8, 0.03])\n",
    "    norm = mpl.colors.Normalize(vmin=vmin, vmax=vmax)\n",
    "    sm = plt.cm.ScalarMappable(cmap=plt.get_cmap(\"YlGn\"), norm=norm)\n",
    "    sm.set_array([])\n",
    "    plt.colorbar(\n",
    "        sm,\n",
    "        cax=cbar_ax,\n",
    "        shrink=0.1,\n",
    "        label=\"$\\\\rho$ \\ 1/$m^2$\",\n",
    "        aspect=2,\n",
    "        orientation=\"horizontal\",\n",
    "    )\n",
    "\n",
    "    path = f'../output/runs/{group}/{name}/plots/{level_name}/'\n",
    "    os.makedirs(path, exist_ok=True)\n",
    "    plt.savefig(path + f'voronoi_density_{level_name}.png', bbox_inches=\"tight\")\n",
    "\n",
    "    plt.show()"
   ],
   "metadata": {
    "collapsed": false
   },
   "id": "29d450e47ae4e5c5",
   "execution_count": null
  },
  {
   "cell_type": "markdown",
   "source": [
    "## Voronoi Computation Functions\n",
    "\n",
    "These functions compute Voronoi polygons and density lists for pedestrian trajectories within a specified walkable area.\n",
    "\n",
    "- `compute_voronoi`: Computes Voronoi polygons for individual pedestrian trajectories based on the provided trajectory data and walkable area.\n",
    "\n",
    "- `compute_voronoi_density_list`: Computes Voronoi density lists based on individual Voronoi data and a measurement area.\n"
   ],
   "metadata": {
    "collapsed": false
   },
   "id": "892b12248f25ac0c"
  },
  {
   "cell_type": "code",
   "outputs": [],
   "source": [
    "def compute_voronoi(traj_data, walkable_area, cutoff=None):\n",
    "    return compute_individual_voronoi_polygons(traj_data=traj_data, walkable_area=walkable_area, cut_off=cutoff)\n",
    "\n",
    "def compute_voronoi_density_list(individual_voronoi_data, measurement_area):\n",
    "    return compute_voronoi_density(individual_voronoi_data=individual_voronoi_data, measurement_area=measurement_area)[0]"
   ],
   "metadata": {
    "collapsed": false
   },
   "id": "b0d95050de252127",
   "execution_count": null
  },
  {
   "cell_type": "markdown",
   "source": [
    "# Base Model Experiment\n",
    "\n",
    "Before entering the actual study, we check that the model has learned the behaviors of the standard model with normal scenarios at low and medium density"
   ],
   "metadata": {
    "collapsed": false
   },
   "id": "cbbb2abde25f9757"
  },
  {
   "cell_type": "code",
   "outputs": [],
   "source": [
    "complete_area = Polygon(\n",
    "    # Room\n",
    "    [\n",
    "        (10, -10),\n",
    "        (10, 10),\n",
    "        (-10, 10),\n",
    "        (-10, -10),\n",
    "    ],\n",
    ")\n",
    "obstacles = [\n",
    "    Polygon(\n",
    "        # bottom right barrier\n",
    "        [\n",
    "            (9.999, -4.0),\n",
    "            (6.5, -4.0),\n",
    "            (6.5, -3.0),\n",
    "            (9.999, -3.0)\n",
    "        ]\n",
    "    ),\n",
    "    Polygon(\n",
    "        # bottom left barrier\n",
    "        [\n",
    "            (-9.999, -4.0),\n",
    "            (3.5, -4.0),\n",
    "            (3.5, -3.0),\n",
    "            (-9.999, -3.0)\n",
    "        ]\n",
    "    ),\n",
    "    Polygon(\n",
    "        # top right barrier\n",
    "        [\n",
    "            (-9.999, 4.0),\n",
    "            (-6.5, 4.0),\n",
    "            (-6.5, 3.0),\n",
    "            (-9.999, 3.0)\n",
    "        ]\n",
    "    ),\n",
    "    Polygon(\n",
    "        # top left barrier\n",
    "        [\n",
    "            (9.999, 4.0),\n",
    "            (-3.5, 4.0),\n",
    "            (-3.5, 3.0),\n",
    "            (9.999, 3.0)\n",
    "        ]\n",
    "    )   \n",
    "]\n",
    "\n",
    "\n",
    "double_door_opposite_final_target = [\n",
    "    [(-9.999, 8), (-9.999, 9.999), (9.999, 9.999), (9.999, 8)],\n",
    "    [(-9.999, -8), (-9.999, -9.999), (9.999, -9.999), (9.999, -8)]\n",
    "]\n",
    "\n",
    "double_door_opposite_start_area = [\n",
    "    [(1.7, -7.5), (6.1, -7.5), (6.1, -8.5), (1.7, -8.5)],\n",
    "    [(-1.7, 7.5), (-6.1, 7.5), (-6.1, 8.5), (-1.7, 8.5)]\n",
    "   \n",
    "]\n",
    "\n",
    "obstacle = shapely.union_all(obstacles)\n",
    "double_door_opposite_area = pedpy.WalkableArea(shapely.difference(complete_area, obstacle))\n",
    "\n",
    "double_door_opposite_traj = extract_trajectories(Path(\"../output/pedpy/DoubleDoorOppositeBatch.txt\"))\n",
    "double_door_opposite_traj_unified = extract_trajectories_unified(Path(\"../output/pedpy/DoubleDoorOppositeBatch.txt\"))\n",
    "\n",
    "double_door_opposite_measurement_areas = {\n",
    "     \"right\": MeasurementArea([(4, -2.5), (4, -4.5), (6, -4.5), (6, -2.5)]),\n",
    "     \"left\": MeasurementArea([(-4, 2.5), (-4, 4.5), (-6, 4.5), (-6, 2.5)]),\n",
    "     \"center\": MeasurementArea([(-1, -1), (-1, 1), (1, 1), (1, -1)])\n",
    "}\n",
    "\n",
    "double_door_opposite_measurement_line = MeasurementLine([(-2, 0), (2, 0)])\n",
    "\n",
    "double_door_opposite_individual_list = [compute_voronoi(traj, double_door_opposite_area) for traj in double_door_opposite_traj]\n",
    "double_door_opposite_individual_cutoff_list = [compute_voronoi(traj, double_door_opposite_area, Cutoff(radius=1, quad_segments=3)) for traj in double_door_opposite_traj]\n",
    "double_door_opposite_individual_list_unified = [compute_voronoi(double_door_opposite_traj_unified[0], double_door_opposite_area)]\n",
    "double_door_opposite_individual_cutoff_list_unified = [compute_voronoi(double_door_opposite_traj_unified[0], double_door_opposite_area, Cutoff(radius=1, quad_segments=3))]\n",
    "\n",
    "\n",
    "# Compute classic density\n",
    "double_door_opposite_classic_density = {\n",
    "    \"left\": compute_classic_density(traj_data=double_door_opposite_traj[0], measurement_area=double_door_opposite_measurement_areas[\"left\"]),\n",
    "    \"right\": compute_classic_density(traj_data=double_door_opposite_traj[1], measurement_area=double_door_opposite_measurement_areas[\"right\"]),\n",
    "    \"center\": compute_classic_density(traj_data=double_door_opposite_traj_unified[0], measurement_area=double_door_opposite_measurement_areas[\"center\"]),\n",
    "}\n",
    "\n",
    "double_door_opposite_classic_density[\"local\"] = double_door_opposite_classic_density[\"left\"] + double_door_opposite_classic_density[\"right\"]\n",
    "\n",
    "double_door_opposite_density_voronoi = {\n",
    "    \"left\": compute_voronoi_density_list(double_door_opposite_individual_list[0], double_door_opposite_measurement_areas[\"left\"]),\n",
    "    \"right\": compute_voronoi_density_list(double_door_opposite_individual_list[1], double_door_opposite_measurement_areas[\"right\"]),\n",
    "    \"center\": compute_voronoi_density_list(double_door_opposite_individual_list_unified[0], double_door_opposite_measurement_areas[\"center\"]),\n",
    "}\n",
    "\n",
    "double_door_opposite_density_voronoi[\"local\"] = double_door_opposite_density_voronoi[\"left\"] + double_door_opposite_density_voronoi[\"right\"]\n",
    "\n",
    "double_door_opposite_density_voronoi_cutoff = {\n",
    "    \"left\": compute_voronoi_density_list(double_door_opposite_individual_cutoff_list[0], double_door_opposite_measurement_areas[\"left\"]),\n",
    "    \"right\": compute_voronoi_density_list(double_door_opposite_individual_cutoff_list[1], double_door_opposite_measurement_areas[\"right\"]),\n",
    "    \"center\": compute_voronoi_density_list(double_door_opposite_individual_cutoff_list_unified[0], double_door_opposite_measurement_areas[\"center\"]),\n",
    "}\n",
    "\n",
    "double_door_opposite_density_voronoi_cutoff[\"local\"] = double_door_opposite_density_voronoi_cutoff[\"left\"] + double_door_opposite_density_voronoi_cutoff[\"right\"]\n",
    "\n",
    "# Compute flow calculation\n",
    "double_door_opposite_nt, _ = compute_n_t(\n",
    "    traj_data=double_door_opposite_traj_unified[0],\n",
    "    measurement_line=double_door_opposite_measurement_line,\n",
    ")\n",
    "\n",
    "double_door_opposite_name = \"Double Door Opposite\""
   ],
   "metadata": {
    "collapsed": false
   },
   "id": "1bf8726f08288d04",
   "execution_count": null
  },
  {
   "cell_type": "code",
   "outputs": [],
   "source": [
    "plot_trajectories(\n",
    "    trajectories=double_door_opposite_traj, \n",
    "    walkable_area=double_door_opposite_area,  \n",
    "    level_name=double_door_opposite_name, \n",
    "    final_targets=double_door_opposite_final_target, \n",
    "    start_areas=double_door_opposite_start_area,\n",
    "    measurement_areas=double_door_opposite_measurement_areas,\n",
    "    measurement_line=double_door_opposite_measurement_line\n",
    ")"
   ],
   "metadata": {
    "collapsed": false
   },
   "id": "3f33a8ac9e692131",
   "execution_count": null
  },
  {
   "cell_type": "code",
   "outputs": [],
   "source": [
    "complete_area = Polygon(\n",
    "    # Room\n",
    "    [\n",
    "        (10, -10),\n",
    "        (10, 10),\n",
    "        (-10, 10),\n",
    "        (-10, -10),\n",
    "    ],\n",
    ")\n",
    "obstacles = [\n",
    "    Polygon(\n",
    "        # bottom right barrier\n",
    "        [\n",
    "            (9.999, -4.0),\n",
    "            (6.5, -4.0),\n",
    "            (6.5, -3.0),\n",
    "            (9.999, -3.0)\n",
    "        ]\n",
    "    ),\n",
    "    Polygon(\n",
    "        # bottom left barrier\n",
    "        [\n",
    "            (-9.999, -4.0),\n",
    "            (3.5, -4.0),\n",
    "            (3.5, -3.0),\n",
    "            (-9.999, -3.0)\n",
    "        ]\n",
    "    ),\n",
    "    Polygon(\n",
    "        # top right barrier\n",
    "        [\n",
    "            (-9.999, 4.0),\n",
    "            (-6.5, 4.0),\n",
    "            (-6.5, 3.0),\n",
    "            (-9.999, 3.0)\n",
    "        ]\n",
    "    ),\n",
    "    Polygon(\n",
    "        # top left barrier\n",
    "        [\n",
    "            (9.999, 4.0),\n",
    "            (-3.5, 4.0),\n",
    "            (-3.5, 3.0),\n",
    "            (9.999, 3.0)\n",
    "        ]\n",
    "    )   \n",
    "]\n",
    "\n",
    "\n",
    "ddo_7_final_target = [\n",
    "    [(-9.999, 8), (-9.999, 9.999), (9.999, 9.999), (9.999, 8)],\n",
    "    [(-9.999, -8), (-9.999, -9.999), (9.999, -9.999), (9.999, -8)]\n",
    "]\n",
    "\n",
    "ddo_7_start_area = [\n",
    "    [(-5, -7.5), (6, -7.5), (6, -8.5), (-5, -8.5)],\n",
    "    [(5, 7.5), (-6, 7.5), (-6, 8.5), (5, 8.5)]\n",
    "   \n",
    "]\n",
    "\n",
    "obstacle = shapely.union_all(obstacles)\n",
    "ddo_7_area = pedpy.WalkableArea(shapely.difference(complete_area, obstacle))\n",
    "\n",
    "ddo_7_traj = extract_trajectories(Path(\"../output/pedpy/DoubleDoorOpposite7Batch.txt\"))\n",
    "ddo_7_traj_unified = extract_trajectories_unified(Path(\"../output/pedpy/DoubleDoorOpposite7Batch.txt\"))\n",
    "\n",
    "ddo_7_measurement_areas = {\n",
    "     \"right\": MeasurementArea([(4, -2.5), (4, -4.5), (6, -4.5), (6, -2.5)]),\n",
    "     \"left\": MeasurementArea([(-4, 2.5), (-4, 4.5), (-6, 4.5), (-6, 2.5)]),\n",
    "     \"center\": MeasurementArea([(-1, -1), (-1, 1), (1, 1), (1, -1)])\n",
    "}\n",
    "\n",
    "ddo_7_measurement_line = MeasurementLine([(-2, 0), (2, 0)])\n",
    "\n",
    "ddo_7_individual_list = [compute_voronoi(traj, ddo_7_area) for traj in ddo_7_traj]\n",
    "ddo_7_individual_cutoff_list = [compute_voronoi(traj, ddo_7_area, Cutoff(radius=1, quad_segments=3)) for traj in ddo_7_traj]\n",
    "ddo_7_individual_list_unified = [compute_voronoi(ddo_7_traj_unified[0], ddo_7_area)]\n",
    "ddo_7_individual_cutoff_list_unified = [compute_voronoi(ddo_7_traj_unified[0], ddo_7_area, Cutoff(radius=1, quad_segments=3))]\n",
    "\n",
    "\n",
    "# Compute classic density\n",
    "ddo_7_classic_density = {\n",
    "    \"left\": compute_classic_density(traj_data=ddo_7_traj[0], measurement_area=ddo_7_measurement_areas[\"left\"]),\n",
    "    \"right\": compute_classic_density(traj_data=ddo_7_traj[1], measurement_area=ddo_7_measurement_areas[\"right\"]),\n",
    "    \"center\": compute_classic_density(traj_data=ddo_7_traj_unified[0], measurement_area=ddo_7_measurement_areas[\"center\"]),\n",
    "}\n",
    "\n",
    "ddo_7_classic_density[\"local\"] = ddo_7_classic_density[\"left\"] + ddo_7_classic_density[\"right\"]\n",
    "\n",
    "ddo_7_density_voronoi = {\n",
    "    \"left\": compute_voronoi_density_list(ddo_7_individual_list[0], ddo_7_measurement_areas[\"left\"]),\n",
    "    \"right\": compute_voronoi_density_list(ddo_7_individual_list[1], ddo_7_measurement_areas[\"right\"]),\n",
    "    \"center\": compute_voronoi_density_list(ddo_7_individual_list_unified[0], ddo_7_measurement_areas[\"center\"]),\n",
    "}\n",
    "\n",
    "ddo_7_density_voronoi[\"local\"] = ddo_7_density_voronoi[\"left\"] + ddo_7_density_voronoi[\"right\"]\n",
    "\n",
    "ddo_7_density_voronoi_cutoff = {\n",
    "    \"left\": compute_voronoi_density_list(ddo_7_individual_cutoff_list[0], ddo_7_measurement_areas[\"left\"]),\n",
    "    \"right\": compute_voronoi_density_list(ddo_7_individual_cutoff_list[1], ddo_7_measurement_areas[\"right\"]),\n",
    "    \"center\": compute_voronoi_density_list(ddo_7_individual_cutoff_list_unified[0], ddo_7_measurement_areas[\"center\"]),\n",
    "}\n",
    "\n",
    "ddo_7_density_voronoi_cutoff[\"local\"] = ddo_7_density_voronoi_cutoff[\"left\"] + ddo_7_density_voronoi_cutoff[\"right\"]\n",
    "\n",
    "# Compute flow calculation\n",
    "ddo_7_nt, _ = compute_n_t(\n",
    "    traj_data=ddo_7_traj_unified[0],\n",
    "    measurement_line=ddo_7_measurement_line,\n",
    ")\n",
    "\n",
    "ddo_7_name = \"Double Door Opposite 7\""
   ],
   "metadata": {
    "collapsed": false
   },
   "id": "fa5e3a58b08245c",
   "execution_count": null
  },
  {
   "cell_type": "code",
   "outputs": [],
   "source": [
    "plot_trajectories(\n",
    "    trajectories=ddo_7_traj, \n",
    "    walkable_area=ddo_7_area,  \n",
    "    level_name=ddo_7_name, \n",
    "    final_targets=ddo_7_final_target, \n",
    "    start_areas=ddo_7_start_area,\n",
    "    measurement_areas=ddo_7_measurement_areas,\n",
    "    measurement_line=ddo_7_measurement_line\n",
    ")"
   ],
   "metadata": {
    "collapsed": false
   },
   "id": "b14bf21d8a358d94",
   "execution_count": null
  },
  {
   "cell_type": "code",
   "outputs": [],
   "source": [
    "complete_area = Polygon(\n",
    "    # Room\n",
    "    [\n",
    "        (10, -10),\n",
    "        (10, 10),\n",
    "        (-10, 10),\n",
    "        (-10, -10),\n",
    "    ],\n",
    ")\n",
    "        \n",
    "obstacles = [\n",
    "    Polygon(\n",
    "         # bottom left barrier\n",
    "        [\n",
    "            (-9.999, 3.8),\n",
    "            (-9.999, 5.8),\n",
    "            (-3.9, -4.5),\n",
    "            (-5.1, -4.5),\n",
    "        ],\n",
    "    ),\n",
    "    Polygon(\n",
    "         #top left anchor\n",
    "        [\n",
    "            (-2.0, 2.3),\n",
    "            (-2.0, 9.999),\n",
    "            (-3.0, 9.999),\n",
    "            (-3.0, 4.5),\n",
    "            (-6.2, 9.999),\n",
    "            (-7.5, 9.999),\n",
    "            (-3.0, 2.3),\n",
    "        ],   \n",
    "    ),\n",
    "    Polygon(\n",
    "        # bottom right barrier\n",
    "        [\n",
    "            (9.999, 3.8),\n",
    "            (9.999, 5.8),\n",
    "            (3.9, -4.5),\n",
    "            (5.1, -4.5),\n",
    "        ],     \n",
    "    ),\n",
    "    Polygon(\n",
    "        #top left anchor\n",
    "        [\n",
    "            (2.0, 2.3),\n",
    "            (2.0, 9.999),\n",
    "            (3.0, 9.999),\n",
    "            (3.0, 4.5),\n",
    "            (6.2, 9.999),\n",
    "            (7.5, 9.999),\n",
    "            (3.0, 2.3),\n",
    "        ],\n",
    "    ),\n",
    "    Polygon(\n",
    "        #bottom barrier\n",
    "        [\n",
    "            (-9.999, -4.51),\n",
    "            (9.999, -4.51),\n",
    "            (9.999, -5.5),\n",
    "            (-9.999, -5.5),\n",
    "        ]\n",
    "        \n",
    "    )\n",
    "]\n",
    "\n",
    "\n",
    "anchor_8_final_target = [\n",
    "    [(-2, 8), (-2, 9.999), (2, 9.999), (2, 8)]\n",
    "]\n",
    "\n",
    "anchor_8_start_area = [\n",
    "    [(-9, 7), (-6, 1), (-3.5, 1), (-7.5, 8.5)],\n",
    "    [(9, 7), (6, 1), (3.5, 1), (7.5, 8.5)]\n",
    "]\n",
    "\n",
    "obstacle = shapely.union_all(obstacles)\n",
    "anchor_8_area = pedpy.WalkableArea(shapely.difference(complete_area, obstacle))\n",
    "\n",
    "anchor_8_traj = extract_trajectories(\n",
    "    Path(\"../output/pedpy/Anchor8Batch.txt\")\n",
    ")\n",
    "anchor_8_traj_unified = extract_trajectories_unified(\n",
    "    Path(\"../output/pedpy/Anchor8Batch.txt\")\n",
    ")\n",
    "\n",
    "anchor_8_measurement_areas = {\n",
    "     \"right\": MeasurementArea([(5, -1), (5, 1), (3, 1), (3, -1)]),\n",
    "     \"left\": MeasurementArea([(-5, -1), (-5, 1), (-3, 1), (-3, -1)]),\n",
    "     \"center\": MeasurementArea([(-2, 1), (-2, 3), (2, 3), (2, 1)])\n",
    "}\n",
    "\n",
    "anchor_8_measurement_line = MeasurementLine([(-2, 2), (2, 2)])\n",
    "\n",
    "anchor_8_individual_list = [compute_voronoi(traj, anchor_8_area) for traj in anchor_8_traj]\n",
    "anchor_8_individual_cutoff_list = [compute_voronoi(traj, anchor_8_area, Cutoff(radius=1, quad_segments=3)) for traj in anchor_8_traj]\n",
    "anchor_8_individual_list_unified = [compute_voronoi(anchor_8_traj_unified[0], anchor_8_area)]\n",
    "anchor_8_individual_cutoff_list_unified = [compute_voronoi(anchor_8_traj_unified[0], anchor_8_area, Cutoff(radius=1, quad_segments=3))]\n",
    "\n",
    "\n",
    "# Compute classic density\n",
    "anchor_8_classic_density = {\n",
    "    \"left\": compute_classic_density(traj_data=anchor_8_traj[0], measurement_area=anchor_8_measurement_areas[\"left\"]),\n",
    "    \"right\": compute_classic_density(traj_data=anchor_8_traj[1], measurement_area=anchor_8_measurement_areas[\"right\"]),\n",
    "    \"center\": compute_classic_density(traj_data=anchor_8_traj_unified[0], measurement_area=anchor_8_measurement_areas[\"center\"]),\n",
    "}\n",
    "\n",
    "anchor_8_classic_density[\"local\"] = anchor_8_classic_density[\"left\"] + anchor_8_classic_density[\"right\"]\n",
    "\n",
    "anchor_8_density_voronoi = {\n",
    "    \"left\": compute_voronoi_density_list(anchor_8_individual_list[0], anchor_8_measurement_areas[\"left\"]),\n",
    "    \"right\": compute_voronoi_density_list(anchor_8_individual_list[1], anchor_8_measurement_areas[\"right\"]),\n",
    "    \"center\": compute_voronoi_density_list(anchor_8_individual_list_unified[0], anchor_8_measurement_areas[\"center\"]),\n",
    "}\n",
    "\n",
    "anchor_8_density_voronoi[\"local\"] = anchor_8_density_voronoi[\"left\"] + anchor_8_density_voronoi[\"right\"]\n",
    "\n",
    "anchor_8_density_voronoi_cutoff = {\n",
    "    \"left\": compute_voronoi_density_list(anchor_8_individual_cutoff_list[0], anchor_8_measurement_areas[\"left\"]),\n",
    "    \"right\": compute_voronoi_density_list(anchor_8_individual_cutoff_list[1], anchor_8_measurement_areas[\"right\"]),\n",
    "    \"center\": compute_voronoi_density_list(anchor_8_individual_cutoff_list_unified[0], anchor_8_measurement_areas[\"center\"]),\n",
    "}\n",
    "\n",
    "anchor_8_density_voronoi_cutoff[\"local\"] = anchor_8_density_voronoi_cutoff[\"left\"] + anchor_8_density_voronoi_cutoff[\"right\"]\n",
    "\n",
    "# Compute flow calculation\n",
    "anchor_8_nt, _ = compute_n_t(\n",
    "    traj_data=anchor_8_traj_unified[0],\n",
    "    measurement_line=anchor_8_measurement_line,\n",
    ")\n",
    "\n",
    "anchor_8_name = \"Anchor 8\""
   ],
   "metadata": {
    "collapsed": false
   },
   "id": "b931b8cf01f1eb45",
   "execution_count": null
  },
  {
   "cell_type": "code",
   "outputs": [],
   "source": [
    "plot_trajectories(\n",
    "    trajectories=anchor_8_traj, \n",
    "    walkable_area=anchor_8_area,  \n",
    "    level_name=anchor_8_name, \n",
    "    final_targets=anchor_8_final_target, \n",
    "    start_areas=anchor_8_start_area,\n",
    "    measurement_areas=anchor_8_measurement_areas,\n",
    "    measurement_line=anchor_8_measurement_line\n",
    ")"
   ],
   "metadata": {
    "collapsed": false
   },
   "id": "4267054fc221ef7c",
   "execution_count": null
  },
  {
   "cell_type": "markdown",
   "source": [
    "# Crowds in front of bottlenecks at entrances from the perspective of physics and social psychology"
   ],
   "metadata": {
    "collapsed": false
   },
   "id": "15649f57d0fa9449"
  },
  {
   "cell_type": "markdown",
   "source": [
    "### Funnel  5.6"
   ],
   "metadata": {
    "collapsed": false
   },
   "id": "cd8d0e0bafd814ab"
  },
  {
   "cell_type": "code",
   "outputs": [],
   "source": [
    "# Define the complete area and obstacles\n",
    "complete_area = Polygon([\n",
    "    (10, -12),\n",
    "    (10, 10),\n",
    "    (-10, 10),\n",
    "    (-10, -12),\n",
    "])\n",
    "\n",
    "obstacles = [\n",
    "    Polygon([(3.8, 3.0), (9.999, 3.0), (9.999, 4.0), (2.8, 4.0), (2.8, -5.0), (0.75, -5.0), (0.75, -6.0),  (3.8, -6.0)]),  # right barrier\n",
    "    Polygon([(-3.8, 3.0), (-9.999, 3.0), (-9.999, 4.0), (-2.8, 4.0), (-2.8, -5.0), (-0.75, -5.0), (-0.75, -6.0),  (-3.8, -6.0)]),  # left barrier\n",
    "    Polygon([(-0.75, -6), (-1.75, -6), (-1.75, -11.0), (-0.75, -11.0), (6.0, -11.0), (6.0, -10), (-0.75, -10)]),  # bottom left barrier\n",
    "    Polygon([(0.75, -7.5), (9.999, -7.5), (9.999, -7.0), (1.75, -7.0), (1.75, -6.0), (0.75, -6.0)])   # bottom right barrier\n",
    "]\n",
    "\n",
    "funnel_5_6_final_target = [[(6.51, -11.999), (9.999, -11.999), (9.999, -9), (6.51, -9)]]\n",
    "funnel_5_6_start_area = [[(-9.5, 9.5), (-9.5, 5.5), (9.5, 5.5), (9.5, 9.5)]]\n",
    "\n",
    "# Create walkable area\n",
    "obstacle = shapely.union_all(obstacles)\n",
    "funnel_5_6_area = WalkableArea(shapely.difference(complete_area, obstacle))\n",
    "\n",
    "# Extract trajectories\n",
    "funnel_5_6_traj = extract_trajectories(Path(\"../output/pedpy/Funnel5,6Batch.txt\"))\n",
    "funnel_5_6_first_id = extract_first_id(Path(\"../output/pedpy/Funnel5,6Batch.txt\"))\n",
    "\n",
    "funnel_5_6_individual_list = [compute_voronoi(traj, funnel_5_6_area) for traj in funnel_5_6_traj]\n",
    "funnel_5_6_individual_cutoff_list = [compute_voronoi(traj, funnel_5_6_area, Cutoff(radius=1, quad_segments=3)) for traj in funnel_5_6_traj]\n",
    "\n",
    "# Define measurement areas and line\n",
    "funnel_5_6_measurement_areas = {\n",
    "     \"center\": MeasurementArea([(-0.75, -5), (-0.75, -3), (0.75, -3), (0.75, -5)])\n",
    "}\n",
    "\n",
    "\n",
    "funnel_5_6_measurement_line = MeasurementLine([(2.8, -5), (-2.8, -5)])\n",
    "\n",
    "# Compute densities\n",
    "funnel_5_6_classic_density = compute_classic_density(traj_data=funnel_5_6_traj[0], measurement_area=funnel_5_6_measurement_areas[\"center\"])\n",
    "funnel_5_6_density_voronoi, _ = compute_voronoi_density(individual_voronoi_data=funnel_5_6_individual_list[0], measurement_area=funnel_5_6_measurement_areas[\"center\"])\n",
    "funnel_5_6_density_voronoi_cutoff, _ = compute_voronoi_density(individual_voronoi_data=funnel_5_6_individual_cutoff_list[0], measurement_area=funnel_5_6_measurement_areas[\"center\"])\n",
    "\n",
    "funnel_5_6_data = {\n",
    "    \"Funnel 5.6 Classic\": funnel_5_6_classic_density,\n",
    "    \"Funnel 5.6 Voronoi\": funnel_5_6_density_voronoi,\n",
    "    \"Funnel 5.6 Voronoi with Cutoff\": funnel_5_6_density_voronoi_cutoff,\n",
    "}\n",
    "\n",
    "funnel_5_6_colors = {\n",
    "    \"Funnel 5.6 Classic\": \"blue\",\n",
    "    \"Funnel 5.6 Voronoi\": \"orange\",\n",
    "    \"Funnel 5.6 Voronoi with Cutoff\": \"grey\",\n",
    "}\n",
    "\n",
    "#Compute flow calculation\n",
    "funnel_5_6_nt, funnel_5_6_crossing = compute_n_t(\n",
    "    traj_data=funnel_5_6_traj[0],\n",
    "    measurement_line=funnel_5_6_measurement_line,\n",
    ")\n",
    "\n",
    "#Compute passing density\n",
    "funnel_5_6_frames_in_area, _ = compute_frame_range_in_area(\n",
    "    traj_data=funnel_5_6_traj[0], measurement_line=funnel_5_6_measurement_line, width=1.0\n",
    ")\n",
    "funnel_5_6_passing_density = compute_passing_density(\n",
    "    density_per_frame=funnel_5_6_classic_density, frames=funnel_5_6_frames_in_area\n",
    ")\n",
    "\n",
    "# Distance/Time to entrance\n",
    "funnel_5_6_df_time_distance = compute_time_distance_line(\n",
    "    traj_data=funnel_5_6_traj[0], measurement_line=funnel_5_6_measurement_line\n",
    ")\n",
    "\n",
    "funnel_5_6_individual_speed_single_sided = compute_individual_speed(\n",
    "        traj_data=funnel_5_6_traj[0],\n",
    "        frame_step=25,\n",
    "        compute_velocity=True,\n",
    "        speed_calculation=SpeedCalculation.BORDER_SINGLE_SIDED,\n",
    "    )\n",
    "\n",
    "# Flow at the bottleneck\n",
    "funnel_5_6_flow = compute_flow(\n",
    "    nt=funnel_5_6_nt,\n",
    "    crossing_frames=funnel_5_6_crossing,\n",
    "    individual_speed=funnel_5_6_individual_speed_single_sided,\n",
    "    delta_frame=10,\n",
    "    frame_rate=funnel_5_6_traj[0].frame_rate,\n",
    ")\n",
    "\n",
    "funnel_5_6_name = \"Funnel 5.6\"\n"
   ],
   "metadata": {
    "collapsed": false
   },
   "id": "7d4d5c047011d96d",
   "execution_count": null
  },
  {
   "cell_type": "markdown",
   "source": [
    "### Funnel  3.5"
   ],
   "metadata": {
    "collapsed": false
   },
   "id": "8cf37d9f21d69be7"
  },
  {
   "cell_type": "code",
   "outputs": [],
   "source": [
    "# Define the complete area and obstacles\n",
    "complete_area = Polygon([\n",
    "    (10, -12),\n",
    "    (10, 10),\n",
    "    (-10, 10),\n",
    "    (-10, -12),\n",
    "])\n",
    "\n",
    "obstacles = [\n",
    "    Polygon([(9.999, 3), (2.75, 3), (2.75, -6), (0.75, -6), (0.75, -5), (1.75, -5), (1.75, 4), (9.999, 4)]),  # right barrier\n",
    "    Polygon([(-9.999, 3), (-2.75, 3), (-2.75, -6), (-0.75, -6), (-0.75, -5), (-1.75, -5), (-1.75, 4), (-9.999, 4)]),  # left barrier\n",
    "    Polygon([(-0.75, -6), (-1.75, -6), (-1.75, -11.0), (-0.75, -11.0), (6.0, -11.0), (6.0, -10), (-0.75, -10)]),  # bottom left barrier\n",
    "    Polygon([(0.75, -7.5), (9.999, -7.5), (9.999, -7.0), (1.75, -7.0), (1.75, -6.0), (0.75, -6.0)])  # bottom right barrier\n",
    "]\n",
    "\n",
    "funnel_3_5_final_target = [[(6.51, -11.999), (9.999, -11.999), (9.999, -9), (6.51, -9)]]\n",
    "funnel_3_5_start_area = [[(-9.5, 9.5), (-9.5, 5.5), (9.5, 5.5), (9.5, 9.5)]]\n",
    "\n",
    "# Create walkable area\n",
    "obstacle = shapely.union_all(obstacles)\n",
    "funnel_3_5_area = WalkableArea(shapely.difference(complete_area, obstacle))\n",
    "\n",
    "# Extract trajectories\n",
    "funnel_3_5_traj = extract_trajectories(Path(\"../output/pedpy/Funnel3,5Batch.txt\"))\n",
    "funnel_3_5_first_id = extract_first_id(Path(\"../output/pedpy/Funnel3,5Batch.txt\"))\n",
    "\n",
    "funnel_3_5_individual_list = [compute_voronoi(traj, funnel_3_5_area) for traj in funnel_3_5_traj]\n",
    "funnel_3_5_individual_cutoff_list = [compute_voronoi(traj, funnel_3_5_area, Cutoff(radius=1, quad_segments=3)) for traj in funnel_3_5_traj]\n",
    "\n",
    "# Define measurement areas and line\n",
    "funnel_3_5_measurement_areas = {\n",
    "     \"center\": MeasurementArea([(-0.75, -5), (-0.75, -3), (0.75, -3), (0.75, -5)])\n",
    "}\n",
    "\n",
    "funnel_3_5_measurement_line = MeasurementLine([(1.75, -5), (-1.75, -5)])\n",
    "\n",
    "# Compute densities\n",
    "funnel_3_5_classic_density = compute_classic_density(traj_data=funnel_3_5_traj[0], measurement_area=funnel_3_5_measurement_areas[\"center\"])\n",
    "funnel_3_5_density_voronoi, _ = compute_voronoi_density(individual_voronoi_data=funnel_3_5_individual_list[0], measurement_area=funnel_3_5_measurement_areas[\"center\"])\n",
    "funnel_3_5_density_voronoi_cutoff, _ = compute_voronoi_density(individual_voronoi_data=funnel_3_5_individual_cutoff_list[0], measurement_area=funnel_3_5_measurement_areas[\"center\"])\n",
    "\n",
    "funnel_3_5_data = {\n",
    "    \"Funnel 3.5 Classic\": funnel_3_5_classic_density,\n",
    "    \"Funnel 3.5 Voronoi\": funnel_3_5_density_voronoi,\n",
    "    \"Funnel 3.5 Voronoi with Cutoff\": funnel_3_5_density_voronoi_cutoff,\n",
    "}\n",
    "\n",
    "funnel_3_5_colors = {\n",
    "    \"Funnel 3.5 Classic\": \"blue\",\n",
    "    \"Funnel 3.5 Voronoi\": \"orange\",\n",
    "    \"Funnel 3.5 Voronoi with Cutoff\": \"grey\",\n",
    "}\n",
    "\n",
    "#Compute flow calculation\n",
    "funnel_3_5_nt, funnel_3_5_crossing = compute_n_t(\n",
    "    traj_data=funnel_3_5_traj[0],\n",
    "    measurement_line=funnel_3_5_measurement_line,\n",
    ")\n",
    "\n",
    "#Compute passing density\n",
    "funnel_3_5_frames_in_area, _ = compute_frame_range_in_area(\n",
    "    traj_data=funnel_3_5_traj[0], measurement_line=funnel_3_5_measurement_line, width=1.0\n",
    ")\n",
    "funnel_3_5_passing_density = compute_passing_density(\n",
    "    density_per_frame=funnel_3_5_classic_density, frames=funnel_3_5_frames_in_area\n",
    ")\n",
    "\n",
    "# Distance/Time to entrance\n",
    "funnel_3_5_df_time_distance = compute_time_distance_line(\n",
    "    traj_data=funnel_3_5_traj[0], measurement_line=funnel_3_5_measurement_line\n",
    ")\n",
    "\n",
    "funnel_3_5_individual_speed_single_sided = compute_individual_speed(\n",
    "        traj_data=funnel_3_5_traj[0],\n",
    "        frame_step=25,\n",
    "        compute_velocity=True,\n",
    "        speed_calculation=SpeedCalculation.BORDER_SINGLE_SIDED,\n",
    "    )\n",
    "\n",
    "# Flow at the bottleneck\n",
    "funnel_3_5_flow = compute_flow(\n",
    "    nt=funnel_3_5_nt,\n",
    "    crossing_frames=funnel_3_5_crossing,\n",
    "    individual_speed=funnel_3_5_individual_speed_single_sided,\n",
    "    delta_frame=10,\n",
    "    frame_rate=funnel_3_5_traj[0].frame_rate,\n",
    ")\n",
    "\n",
    "funnel_3_5_name = \"Funnel 3.5\"\n"
   ],
   "metadata": {
    "collapsed": false
   },
   "id": "397c9b247e2208a",
   "execution_count": null
  },
  {
   "cell_type": "markdown",
   "source": [
    "### Funnel  2.0"
   ],
   "metadata": {
    "collapsed": false
   },
   "id": "94d970686fa6eb0f"
  },
  {
   "cell_type": "code",
   "outputs": [],
   "source": [
    "# Define the complete area and obstacles\n",
    "complete_area = Polygon([\n",
    "    (10, -12),\n",
    "    (10, 10),\n",
    "    (-10, 10),\n",
    "    (-10, -12),\n",
    "])\n",
    "\n",
    "obstacles = [\n",
    "    Polygon([(9.999, 3), (2, 3), (2, -6), (0.75, -6), (0.75, -5), (1, -5), (1, 4), (9.999, 4)]),  # right barrier\n",
    "    Polygon([(-9.999, 3), (-2, 3), (-2, -6), (-0.75, -6), (-0.75, -5), (-1, -5), (-1, 4), (-9.999, 4)]),  # left barrier\n",
    "    Polygon([(-0.75, -6), (-1.75, -6), (-1.75, -11.0), (-0.75, -11.0), (6.4, -11.0), (6.4, -10), (-0.75, -10)]),  # bottom left barrier\n",
    "    Polygon([(0.75, -7.5), (9.999, -7.5), (9.999, -7.0), (1.75, -7.0), (1.75, -6.0), (0.75, -6.0)])  # bottom right barrier\n",
    "]\n",
    "\n",
    "funnel_2_final_target = [[(6.41, -11.999), (9.999, -11.999), (9.999, -9), (6.41, -9)]]\n",
    "funnel_2_start_area = [[(-9.5, 9.5), (-9.5, 5.5), (9.5, 5.5), (9.5, 9.5)]]\n",
    "\n",
    "# Create walkable area\n",
    "obstacle = shapely.union_all(obstacles)\n",
    "funnel_2_area = WalkableArea(shapely.difference(complete_area, obstacle))\n",
    "\n",
    "# Extract trajectories\n",
    "funnel_2_traj = extract_trajectories(Path(\"../output/pedpy/Funnel2Batch.txt\"))\n",
    "funnel_2_first_id = extract_first_id(Path(\"../output/pedpy/Funnel2Batch.txt\"))\n",
    "\n",
    "funnel_2_individual_list = [compute_voronoi(traj, funnel_2_area) for traj in funnel_2_traj]\n",
    "funnel_2_individual_cutoff_list = [compute_voronoi(traj, funnel_2_area, Cutoff(radius=1, quad_segments=3)) for traj in funnel_2_traj]\n",
    "\n",
    "# Define measurement areas and line\n",
    "funnel_2_measurement_areas = {\n",
    "     \"center\": MeasurementArea([(-0.75, -5), (-0.75, -3), (0.75, -3), (0.75, -5)])\n",
    "}\n",
    "\n",
    "funnel_2_measurement_line = MeasurementLine([(-0.75, -5), (0.75, -5)])\n",
    "\n",
    "# Compute densities\n",
    "funnel_2_classic_density = compute_classic_density(traj_data=funnel_2_traj[0], measurement_area=funnel_2_measurement_areas[\"center\"])\n",
    "funnel_2_density_voronoi, _ = compute_voronoi_density(individual_voronoi_data=funnel_2_individual_list[0], measurement_area=funnel_2_measurement_areas[\"center\"])\n",
    "funnel_2_density_voronoi_cutoff, _ = compute_voronoi_density(individual_voronoi_data=funnel_2_individual_cutoff_list[0], measurement_area=funnel_2_measurement_areas[\"center\"])\n",
    "\n",
    "funnel_2_data = {\n",
    "    \"funnel 2 Classic\": funnel_2_classic_density,\n",
    "    \"funnel 2 Voronoi\": funnel_2_density_voronoi,\n",
    "    \"funnel 2 Voronoi with Cutoff\": funnel_2_density_voronoi_cutoff,\n",
    "}\n",
    "\n",
    "funnel_2_colors = {\n",
    "    \"funnel 2 Classic\": \"blue\",\n",
    "    \"funnel 2 Voronoi\": \"orange\",\n",
    "    \"funnel 2 Voronoi with Cutoff\": \"grey\",\n",
    "}\n",
    "\n",
    "#Compute flow calculation\n",
    "funnel_2_nt, funnel_2_crossing = compute_n_t(\n",
    "    traj_data=funnel_2_traj[0],\n",
    "    measurement_line=funnel_2_measurement_line,\n",
    ")\n",
    "\n",
    "#Compute passing density\n",
    "funnel_2_frames_in_area, _ = compute_frame_range_in_area(\n",
    "    traj_data=funnel_2_traj[0], measurement_line=funnel_2_measurement_line, width=1.0\n",
    ")\n",
    "funnel_2_passing_density = compute_passing_density(\n",
    "    density_per_frame=funnel_2_classic_density, frames=funnel_2_frames_in_area\n",
    ")\n",
    "\n",
    "# Distance/Time to entrance\n",
    "funnel_2_df_time_distance = compute_time_distance_line(\n",
    "    traj_data=funnel_2_traj[0], measurement_line=funnel_2_measurement_line\n",
    ")\n",
    "\n",
    "funnel_2_individual_speed_single_sided = compute_individual_speed(\n",
    "        traj_data=funnel_2_traj[0],\n",
    "        frame_step=25,\n",
    "        compute_velocity=True,\n",
    "        speed_calculation=SpeedCalculation.BORDER_SINGLE_SIDED,\n",
    "    )\n",
    "\n",
    "# Flow at the bottleneck\n",
    "funnel_2_flow = compute_flow(\n",
    "    nt=funnel_2_nt,\n",
    "    crossing_frames=funnel_2_crossing,\n",
    "    individual_speed=funnel_2_individual_speed_single_sided,\n",
    "    delta_frame=10,\n",
    "    frame_rate=funnel_2_traj[0].frame_rate,\n",
    ")\n",
    "\n",
    "funnel_2_name = \"Funnel 2.0\""
   ],
   "metadata": {
    "collapsed": false
   },
   "id": "d309d8f21242caa1",
   "execution_count": null
  },
  {
   "cell_type": "markdown",
   "source": [
    "### Plot"
   ],
   "metadata": {
    "collapsed": false
   },
   "id": "85db278b7a7b4ceb"
  },
  {
   "cell_type": "code",
   "outputs": [],
   "source": [
    "plot_trajectories(\n",
    "    trajectories=funnel_5_6_traj, \n",
    "    walkable_area=funnel_5_6_area,  \n",
    "    level_name=funnel_5_6_name, \n",
    "    final_targets=funnel_5_6_final_target, \n",
    "    start_areas=funnel_5_6_start_area,\n",
    "    measurement_areas=funnel_5_6_measurement_areas,\n",
    "    measurement_line=funnel_5_6_measurement_line\n",
    ")"
   ],
   "metadata": {
    "collapsed": false
   },
   "id": "3eb5ed8b0912e28f",
   "execution_count": null
  },
  {
   "cell_type": "code",
   "outputs": [],
   "source": [
    "plot_trajectories(\n",
    "    trajectories=funnel_3_5_traj, \n",
    "    walkable_area=funnel_3_5_area,  \n",
    "    level_name=funnel_3_5_name, \n",
    "    final_targets=funnel_3_5_final_target, \n",
    "    start_areas=funnel_3_5_start_area,\n",
    "    measurement_areas=funnel_3_5_measurement_areas,\n",
    "    measurement_line=funnel_3_5_measurement_line\n",
    ")"
   ],
   "metadata": {
    "collapsed": false
   },
   "id": "d5e457688b235b61",
   "execution_count": null
  },
  {
   "cell_type": "code",
   "outputs": [],
   "source": [
    "plot_speed_and_density_profiles(\n",
    "    traj_data=double_door_opposite_traj_unified[0],\n",
    "    area=double_door_opposite_area, \n",
    "    density_max=1,\n",
    "    level_name=double_door_opposite_name,\n",
    "    min_frame=50,\n",
    "    max_frame=150\n",
    ")"
   ],
   "metadata": {
    "collapsed": false
   },
   "id": "94060fda2a6bb619",
   "execution_count": null
  },
  {
   "cell_type": "code",
   "outputs": [],
   "source": [
    "plot_trajectories(\n",
    "    trajectories=funnel_2_traj, \n",
    "    walkable_area=funnel_2_area,  \n",
    "    level_name=funnel_2_name, \n",
    "    final_targets=funnel_2_final_target, \n",
    "    start_areas=funnel_2_start_area,\n",
    "    measurement_areas=funnel_2_measurement_areas,\n",
    "    measurement_line=funnel_2_measurement_line\n",
    ")"
   ],
   "metadata": {
    "collapsed": false
   },
   "id": "a0ecf82cfd8cff27",
   "execution_count": null
  },
  {
   "cell_type": "code",
   "outputs": [],
   "source": [
    "plot_speed_and_density_profiles(\n",
    "    traj_data=funnel_5_6_traj[0],\n",
    "    area=funnel_5_6_area, \n",
    "    density_max=1,\n",
    "    level_name=funnel_5_6_name,\n",
    "    min_frame=60,\n",
    "    max_frame=90\n",
    ")"
   ],
   "metadata": {
    "collapsed": false
   },
   "id": "4aa411c1cc8a29ca",
   "execution_count": null
  },
  {
   "cell_type": "code",
   "outputs": [],
   "source": [
    "plot_voronoi_density_static(\n",
    "    voronoi_data_list=funnel_5_6_individual_list,\n",
    "    voronoi_data_cutoff_list=funnel_5_6_individual_cutoff_list,\n",
    "    traj_data_list=funnel_5_6_traj,\n",
    "    walkable_area=funnel_5_6_area,\n",
    "    frame=70,\n",
    "    level_name=funnel_5_6_name,\n",
    "    vmin=0.0,  \n",
    "    vmax=1.0  \n",
    ")"
   ],
   "metadata": {
    "collapsed": false
   },
   "id": "9b3760d56a9c75b1",
   "execution_count": null
  },
  {
   "cell_type": "code",
   "outputs": [],
   "source": [
    "plot_speed_and_density_profiles(\n",
    "    traj_data=funnel_3_5_traj[0],\n",
    "    area=funnel_3_5_area, \n",
    "    density_max=1,\n",
    "    level_name=funnel_3_5_name,\n",
    "    min_frame=60,\n",
    "    max_frame=90\n",
    ")"
   ],
   "metadata": {
    "collapsed": false
   },
   "id": "298c2d8affe6d9f8",
   "execution_count": null
  },
  {
   "cell_type": "code",
   "outputs": [],
   "source": [
    "plot_voronoi_density_static(\n",
    "voronoi_data_list = funnel_3_5_individual_list,\n",
    "voronoi_data_cutoff_list = funnel_3_5_individual_cutoff_list,\n",
    "traj_data_list = funnel_3_5_traj,\n",
    "walkable_area = funnel_3_5_area,\n",
    "frame = 70,\n",
    "level_name = funnel_3_5_name,\n",
    "vmin = 0.0,\n",
    "vmax = 1.0\n",
    ")"
   ],
   "metadata": {
    "collapsed": false
   },
   "id": "d8c50a4047cfc798",
   "execution_count": null
  },
  {
   "cell_type": "code",
   "outputs": [],
   "source": [
    "plot_speed_and_density_profiles(\n",
    "    traj_data=funnel_2_traj[0],\n",
    "    area=funnel_2_area, \n",
    "    density_max=1,\n",
    "    level_name=funnel_2_name,\n",
    "    min_frame=60,\n",
    "    max_frame=90\n",
    ")"
   ],
   "metadata": {
    "collapsed": false
   },
   "id": "830d1541c461a89f",
   "execution_count": null
  },
  {
   "cell_type": "code",
   "outputs": [],
   "source": [
    "plot_voronoi_density_static(\n",
    "voronoi_data_list = funnel_2_individual_list,\n",
    "voronoi_data_cutoff_list = funnel_2_individual_cutoff_list,\n",
    "traj_data_list = funnel_2_traj,\n",
    "walkable_area = funnel_2_area,\n",
    "frame = 70,\n",
    "level_name = funnel_2_name,\n",
    "vmin = 0.0,\n",
    "vmax = 1.0\n",
    ")"
   ],
   "metadata": {
    "collapsed": false
   },
   "id": "e9a0556e208a1ad1",
   "execution_count": null
  },
  {
   "cell_type": "code",
   "outputs": [],
   "source": [
    "comparison_voronoi_funnel = {\n",
    "    \"Voronoi Density Funnel 5.6\": funnel_5_6_density_voronoi,\n",
    "    \"Voronoi Density Funnel 3.5\": funnel_3_5_density_voronoi,\n",
    "    \"Voronoi Density Funnel 2.0\": funnel_2_density_voronoi\n",
    "}\n",
    "\n",
    "comparison_voronoi_funnel_colors = {\n",
    "    \"Voronoi Density Funnel 5.6\": \"red\",\n",
    "    \"Voronoi Density Funnel 3.5\": \"green\",\n",
    "    \"Voronoi Density Funnel 2.0\": \"blue\",\n",
    "}\n",
    "\n",
    "comparison_funnel_name = \"Comparison Funnels\""
   ],
   "metadata": {
    "collapsed": false
   },
   "id": "fafd9934962b43b4",
   "execution_count": null
  },
  {
   "cell_type": "code",
   "outputs": [],
   "source": [
    "plot_density_comparison(funnel_5_6_data, funnel_5_6_colors, funnel_5_6_name, comparison_funnel_name)"
   ],
   "metadata": {
    "collapsed": false
   },
   "id": "7b46a73e1702f61f",
   "execution_count": null
  },
  {
   "cell_type": "code",
   "outputs": [],
   "source": [
    "plot_density_comparison(funnel_3_5_data, funnel_3_5_colors, funnel_3_5_name, comparison_funnel_name)"
   ],
   "metadata": {
    "collapsed": false
   },
   "id": "7257535cfd1eee58",
   "execution_count": null
  },
  {
   "cell_type": "code",
   "outputs": [],
   "source": [
    "plot_density_comparison(funnel_2_data, funnel_2_colors, funnel_2_name, comparison_funnel_name)"
   ],
   "metadata": {
    "collapsed": false
   },
   "id": "a5d6786e4dabcdad",
   "execution_count": null
  },
  {
   "cell_type": "code",
   "outputs": [],
   "source": [
    "plot_density_comparison(comparison_voronoi_funnel, comparison_voronoi_funnel_colors, comparison_funnel_name, comparison_funnel_name)"
   ],
   "metadata": {
    "collapsed": false
   },
   "id": "464ea1f85f022253",
   "execution_count": null
  },
  {
   "cell_type": "code",
   "outputs": [],
   "source": [
    "level_name = funnel_5_6_name\n",
    "plot_density_distribution(\n",
    "    density=funnel_5_6_passing_density, \n",
    "    title=f\"Individual density inside bottleneck - {level_name}\"\n",
    ")   \n",
    "path = f'../output/runs/{group}/{name}/plots/{level_name}/'\n",
    "os.makedirs(path, exist_ok=True)\n",
    "plt.savefig(path + f'individual_density_{level_name}.png', bbox_inches=\"tight\")\n",
    "plt.show()"
   ],
   "metadata": {
    "collapsed": false
   },
   "id": "580d1dd27185d5ec",
   "execution_count": null
  },
  {
   "cell_type": "code",
   "outputs": [],
   "source": [
    "level_name = funnel_3_5_name\n",
    "plot_density_distribution(\n",
    "    density=funnel_3_5_passing_density, \n",
    "    title=f\"Individual density inside bottleneck - {level_name}\"\n",
    ")   \n",
    "path = f'../output/runs/{group}/{name}/plots/{level_name}/'\n",
    "os.makedirs(path, exist_ok=True)\n",
    "plt.savefig(path + f'individual_density_{level_name}.png', bbox_inches=\"tight\")\n",
    "plt.show()"
   ],
   "metadata": {
    "collapsed": false
   },
   "id": "38b608ffa33fe28f",
   "execution_count": null
  },
  {
   "cell_type": "code",
   "outputs": [],
   "source": [
    "level_name = funnel_2_name\n",
    "plot_density_distribution(\n",
    "    density=funnel_2_passing_density, \n",
    "    title=f\"Individual density inside bottleneck - {level_name}\"\n",
    ")   \n",
    "path = f'../output/runs/{group}/{name}/plots/{level_name}/'\n",
    "os.makedirs(path, exist_ok=True)\n",
    "plt.savefig(path + f'individual_density_{level_name}.png', bbox_inches=\"tight\")\n",
    "plt.show()"
   ],
   "metadata": {
    "collapsed": false
   },
   "id": "c91650605743a20e",
   "execution_count": null
  },
  {
   "cell_type": "code",
   "outputs": [],
   "source": [
    "def plot_and_save_density_distribution(density, level_name: str, ax: plt.Axes) -> None:\n",
    "    plot_density_distribution(\n",
    "        density=density,\n",
    "        title=f\"Individual density inside bottleneck - {level_name}\",\n",
    "        axes=ax\n",
    "    )\n",
    "    ax.set_title(f\"Individual density - {level_name}\", fontsize=22)\n",
    "    ax.tick_params(axis='both', which='major', labelsize=18)  \n",
    "\n",
    "fig, axes = plt.subplots(nrows=1, ncols=3, figsize=(18, 6))\n",
    "\n",
    "plot_and_save_density_distribution(\n",
    "    density=funnel_5_6_passing_density,\n",
    "    level_name=funnel_5_6_name,\n",
    "    ax=axes[0]\n",
    ")\n",
    "\n",
    "plot_and_save_density_distribution(\n",
    "    density=funnel_3_5_passing_density,\n",
    "    level_name=funnel_3_5_name,\n",
    "    ax=axes[1]\n",
    ")\n",
    "\n",
    "plot_and_save_density_distribution(\n",
    "    density=funnel_2_passing_density,\n",
    "    level_name=funnel_2_name,\n",
    "    ax=axes[2]\n",
    ")\n",
    "\n",
    "level_name=\"Comparison Funnels\"\n",
    "plt.tight_layout()\n",
    "\n",
    "path = f'../output/runs/{group}/{name}/plots/{level_name}/'\n",
    "os.makedirs(path, exist_ok=True)\n",
    "plt.savefig(path + f'individual_density_{level_name}.png', bbox_inches=\"tight\")\n",
    "plt.show()"
   ],
   "metadata": {
    "collapsed": false
   },
   "id": "87b844e8d15f9ca3",
   "execution_count": null
  },
  {
   "cell_type": "code",
   "outputs": [],
   "source": [
    "plot_nt(\n",
    "    nt=funnel_5_6_nt,\n",
    "    title=f\"nT - {funnel_5_6_name}\"\n",
    ")\n",
    "path = f'../output/runs/{group}/{name}/plots/{funnel_5_6_name}/'\n",
    "os.makedirs(path, exist_ok=True)\n",
    "plt.savefig(path + f'nT_{level_name}.png', bbox_inches=\"tight\")\n",
    "plt.show()"
   ],
   "metadata": {
    "collapsed": false
   },
   "id": "97b76a0e3b5b8b72",
   "execution_count": null
  },
  {
   "cell_type": "code",
   "outputs": [],
   "source": [
    "plot_nt(\n",
    "    nt=funnel_3_5_nt,\n",
    "    title=f\"nT - {funnel_3_5_name}\"\n",
    ")\n",
    "path = f'../output/runs/{group}/{name}/plots/{funnel_3_5_name}/'\n",
    "os.makedirs(path, exist_ok=True)\n",
    "plt.savefig(path + f'nT_{level_name}.png', bbox_inches=\"tight\")\n",
    "plt.show()"
   ],
   "metadata": {
    "collapsed": false
   },
   "id": "c44de79f0711ef30",
   "execution_count": null
  },
  {
   "cell_type": "code",
   "outputs": [],
   "source": [
    "plot_nt(\n",
    "    nt=funnel_2_nt,\n",
    "    title=f\"nT - {funnel_2_name}\"\n",
    ")\n",
    "path = f'../output/runs/{group}/{name}/plots/{funnel_2_name}/'\n",
    "os.makedirs(path, exist_ok=True)\n",
    "plt.savefig(path + f'nT_{level_name}.png', bbox_inches=\"tight\")\n",
    "plt.show()"
   ],
   "metadata": {
    "collapsed": false
   },
   "id": "11893a2bc5d87be6",
   "execution_count": null
  },
  {
   "cell_type": "code",
   "outputs": [],
   "source": [
    "funnel_5_6_individual_speed_single_sided = plot_individual_speed(\n",
    "    ped_id=funnel_5_6_first_id,\n",
    "    level_name=funnel_5_6_name,\n",
    "    speed=funnel_5_6_individual_speed_single_sided\n",
    ")"
   ],
   "metadata": {
    "collapsed": false
   },
   "id": "6ba7d7b88eb5a0a8",
   "execution_count": null
  },
  {
   "cell_type": "code",
   "outputs": [],
   "source": [
    "funnel_3_5_individual_speed_single_sided = plot_individual_speed(\n",
    "    ped_id=funnel_3_5_first_id,\n",
    "    level_name=funnel_3_5_name,\n",
    "    speed=funnel_3_5_individual_speed_single_sided\n",
    ")"
   ],
   "metadata": {
    "collapsed": false
   },
   "id": "3f7ee9f05e3e79e4",
   "execution_count": null
  },
  {
   "cell_type": "code",
   "outputs": [],
   "source": [
    "funnel_2_individual_speed_single_sided = plot_individual_speed(\n",
    "    ped_id=funnel_2_first_id,\n",
    "    level_name=funnel_2_name,\n",
    "    speed=funnel_2_individual_speed_single_sided\n",
    ")"
   ],
   "metadata": {
    "collapsed": false
   },
   "id": "3d606c6d989dcf79",
   "execution_count": null
  },
  {
   "cell_type": "code",
   "outputs": [],
   "source": [
    "plot_flow(\n",
    "    flow=funnel_5_6_flow,\n",
    "    title=f\"Crossing velocities at the corresponding flow at bottleneck - {funnel_5_6_name}\",\n",
    ")\n",
    "path = f'../output/runs/{group}/{name}/plots/{funnel_5_6_name}/'\n",
    "os.makedirs(path, exist_ok=True)\n",
    "plt.savefig(path + f'flow_{level_name}.png', bbox_inches=\"tight\")\n",
    "plt.show()"
   ],
   "metadata": {
    "collapsed": false
   },
   "id": "6aba26aef1e875ed",
   "execution_count": null
  },
  {
   "cell_type": "code",
   "outputs": [],
   "source": [
    "plot_flow(\n",
    "    flow=funnel_3_5_flow,\n",
    "    title=f\"Crossing velocities at the corresponding flow at bottleneck - {funnel_3_5_name}\",\n",
    ")\n",
    "path = f'../output/runs/{group}/{name}/plots/{funnel_3_5_name}/'\n",
    "os.makedirs(path, exist_ok=True)\n",
    "plt.savefig(path + f'flow_{level_name}.png', bbox_inches=\"tight\")\n",
    "plt.show()"
   ],
   "metadata": {
    "collapsed": false
   },
   "id": "72e5f99d6be50529",
   "execution_count": null
  },
  {
   "cell_type": "code",
   "outputs": [],
   "source": [
    "plot_flow(\n",
    "    flow=funnel_2_flow,\n",
    "    title=f\"Crossing velocities at the corresponding flow at bottleneck - {funnel_2_name}\",\n",
    ")\n",
    "path = f'../output/runs/{group}/{name}/plots/{funnel_2_name}/'\n",
    "os.makedirs(path, exist_ok=True)\n",
    "plt.savefig(path + f'flow_{level_name}.png', bbox_inches=\"tight\")\n",
    "plt.show()"
   ],
   "metadata": {
    "collapsed": false
   },
   "id": "c4e726da8c930e27",
   "execution_count": null
  },
  {
   "cell_type": "code",
   "outputs": [],
   "source": [
    "plot_time_distance(\n",
    "    time_distance=funnel_5_6_df_time_distance,\n",
    "    title=f\"Distance to entrance/Time to entrance - {funnel_5_6_name}\",\n",
    "    frame_rate=funnel_5_6_traj[0].frame_rate,\n",
    ")\n",
    "path = f'../output/runs/{group}/{name}/plots/{funnel_5_6_name}/'\n",
    "os.makedirs(path, exist_ok=True)\n",
    "plt.savefig(path + f'distance_time_to_entrance_{level_name}.png', bbox_inches=\"tight\")\n",
    "plt.show()"
   ],
   "metadata": {
    "collapsed": false
   },
   "id": "d4489df843706ad0",
   "execution_count": null
  },
  {
   "cell_type": "code",
   "outputs": [],
   "source": [
    "plot_time_distance(\n",
    "    time_distance=funnel_3_5_df_time_distance,\n",
    "    title=f\"Distance to entrance/Time to entrance - {funnel_3_5_name}\",\n",
    "    frame_rate=funnel_3_5_traj[0].frame_rate,\n",
    ")\n",
    "path = f'../output/runs/{group}/{name}/plots/{funnel_3_5_name}/'\n",
    "os.makedirs(path, exist_ok=True)\n",
    "plt.savefig(path + f'distance_time_to_entrance_{level_name}.png', bbox_inches=\"tight\")\n",
    "plt.show()"
   ],
   "metadata": {
    "collapsed": false
   },
   "id": "21cc80af25b18b19",
   "execution_count": null
  },
  {
   "cell_type": "code",
   "outputs": [],
   "source": [
    "plot_time_distance(\n",
    "    time_distance=funnel_2_df_time_distance,\n",
    "    title=f\"Distance to entrance/Time to entrance - {funnel_2_name}\",\n",
    "    frame_rate=funnel_2_traj[0].frame_rate,\n",
    ")\n",
    "path = f'../output/runs/{group}/{name}/plots/{funnel_2_name}/'\n",
    "os.makedirs(path, exist_ok=True)\n",
    "plt.savefig(path + f'distance_time_to_entrance_{level_name}.png', bbox_inches=\"tight\")\n",
    "plt.show()"
   ],
   "metadata": {
    "collapsed": false
   },
   "id": "fde4ee6025da3a26",
   "execution_count": null
  },
  {
   "cell_type": "markdown",
   "source": [
    "# Pedestrian flow through multiple bottlenecks"
   ],
   "metadata": {
    "collapsed": false
   },
   "id": "cdaf7ec080562a2a"
  },
  {
   "cell_type": "markdown",
   "source": [
    "### Corner Connection"
   ],
   "metadata": {
    "collapsed": false
   },
   "id": "c8624fbb9776d8f7"
  },
  {
   "cell_type": "code",
   "outputs": [],
   "source": [
    "# Define the complete area and obstacles\n",
    "complete_area = Polygon([(16, -22), (16, 10), (-16, 10), (-16, -22)])\n",
    "\n",
    "obstacles = [\n",
    "    #top barrier\n",
    "    Polygon([(-15.5, 9.5), (-4.5, 9.5), (-4.5, 0.5), (4.5, 0.5), (4.5, 9.5), \n",
    "             (15.5, 9.5), (15.5, 9), (5, 9), (5, 0), (-5, 0), (-5, 9), (-15.5, 9)]), \n",
    "    #left barrier\n",
    "    Polygon([(-15.5, 8.999), (-15.5, -1.5), (-5.5, -1.5), (-5.5, -10.5), (-5, -10.5), (-1.5, -10.5), (-1.5, -17.5), (-1, -17.5), (-1, -10), (-5, -10), (-5, -1), (-15, -1), (-15, 8.999)]), \n",
    "    #right barrier\n",
    "    Polygon([(15.5, 8.999), (15.5, -1.5), (5.5, -1.5), (5.5, -10.5), (5, -10.5), (1.5, -10.5), (1.5, -17.5), (1, -17.5), (1, -10), (5, -10), (5, -1), (15, -1), (15, 8.999)]), \n",
    "]\n",
    "\n",
    "corner_final_target = [[(-1, -19), (-1, -21), (1, -21), (1, -19)]]\n",
    "corner_start_area = [\n",
    "    [(-14.5, 8.5), (-5.5, 8.5), (-5.5, -0.5), (-14.5, -0.5)],\n",
    "    [(14.5, 8.5), (5.5, 8.5), (5.5, -0.5), (14.5, -0.5)],\n",
    "]\n",
    "\n",
    "# Create walkable area\n",
    "obstacle = shapely.union_all(obstacles)\n",
    "corner_area = pedpy.WalkableArea(shapely.difference(complete_area, obstacle))\n",
    "\n",
    "# Extract trajectories\n",
    "corner_traj = extract_trajectories(Path(\"../output/pedpy/CornerConnectionBatch.txt\"))\n",
    "corner_traj_unified = extract_trajectories_unified(Path(\"../output/pedpy/CornerConnectionBatch.txt\"))\n",
    "\n",
    "# Define measurement areas\n",
    "corner_measurement_areas = {\n",
    "    \"left\": MeasurementArea([(-7, -1), (-7, 1), (-5, 1), (-5, -1)]),\n",
    "    \"right\": MeasurementArea([(7, -1), (7, 1), (5, 1), (5, -1)]),\n",
    "    \"center\": MeasurementArea([(-1, -9), (-1, -7), (1, -7), (1, -9)]),\n",
    "}\n",
    "\n",
    "# Define measurement line\n",
    "corner_measurement_line = MeasurementLine([(-2.0, -10.0), (2.0, -10.0)])\n",
    "\n",
    "# Compute individual voronoi polygons\n",
    "corner_individual_list = [compute_voronoi(traj, corner_area) for traj in corner_traj]\n",
    "corner_individual_cutoff_list = [compute_voronoi(traj, corner_area, Cutoff(radius=1, quad_segments=3)) for traj in corner_traj]\n",
    "corner_individual_list_unified = [compute_voronoi(corner_traj_unified[0], corner_area)]\n",
    "corner_individual_cutoff_list_unified = [compute_voronoi(corner_traj_unified[0], corner_area, Cutoff(radius=1, quad_segments=3))]\n",
    "\n",
    "# Compute classic density\n",
    "corner_classic_density = {\n",
    "    \"left\": compute_classic_density(traj_data=corner_traj[0], measurement_area=corner_measurement_areas[\"left\"]),\n",
    "    \"right\": compute_classic_density(traj_data=corner_traj[1], measurement_area=corner_measurement_areas[\"right\"]),\n",
    "    \"center\": compute_classic_density(traj_data=corner_traj_unified[0], measurement_area=corner_measurement_areas[\"center\"]),\n",
    "}\n",
    "\n",
    "corner_classic_density[\"local\"] = corner_classic_density[\"left\"] + corner_classic_density[\"right\"]\n",
    "\n",
    "corner_density_voronoi = {\n",
    "    \"left\": compute_voronoi_density_list(corner_individual_list[0], corner_measurement_areas[\"left\"]),\n",
    "    \"right\": compute_voronoi_density_list(corner_individual_list[1], corner_measurement_areas[\"right\"]),\n",
    "    \"center\": compute_voronoi_density_list(corner_individual_list_unified[0], corner_measurement_areas[\"center\"]),\n",
    "}\n",
    "\n",
    "corner_density_voronoi[\"local\"] = corner_density_voronoi[\"left\"] + corner_density_voronoi[\"right\"]\n",
    "\n",
    "corner_density_voronoi_cutoff = {\n",
    "    \"left\": compute_voronoi_density_list(corner_individual_cutoff_list[0], corner_measurement_areas[\"left\"]),\n",
    "    \"right\": compute_voronoi_density_list(corner_individual_cutoff_list[1], corner_measurement_areas[\"right\"]),\n",
    "    \"center\": compute_voronoi_density_list(corner_individual_cutoff_list_unified[0], corner_measurement_areas[\"center\"]),\n",
    "}\n",
    "\n",
    "corner_density_voronoi_cutoff[\"local\"] = corner_density_voronoi_cutoff[\"left\"] + corner_density_voronoi_cutoff[\"right\"]\n",
    "\n",
    "# Compute flow calculation\n",
    "corner_nt, _ = compute_n_t(\n",
    "    traj_data=corner_traj_unified[0],\n",
    "    measurement_line=corner_measurement_line,\n",
    ")\n",
    "\n",
    "corner_name = \"Corner Connection\""
   ],
   "metadata": {
    "collapsed": false
   },
   "id": "f105cecb5e027b74",
   "execution_count": null
  },
  {
   "cell_type": "markdown",
   "source": [
    "### Center Connection"
   ],
   "metadata": {
    "collapsed": false
   },
   "id": "d1f4fd67a4481fb3"
  },
  {
   "cell_type": "code",
   "outputs": [],
   "source": [
    "# Define the complete area and obstacles\n",
    "complete_area = Polygon([(16, -18), (16, 6), (-16, 6), (-16, -18)])\n",
    "\n",
    "obstacles = [\n",
    "    Polygon([(-15.5, 5.5), (-5, 5.5), (-5, 0.5), (-5.5, 0.5), (-5.5, 5), (-15, 5), (-15, -5), (-5.5, -5), (-5.5, -0.5), (-5, -0.5), (-5, -5.5), (-15.5, -5.5)]), #left\n",
    "    Polygon([(15.5, 5.5), (5, 5.5), (5, 0.5), (5.5, 0.5), (5.5, 5), (15, 5), (15, -5), (5.5, -5), (5.5, -0.5), (5, -0.5), (5, -5.5), (15.5, -5.5)]), #right\n",
    "    Polygon([(-5, 5.5), (5, 5.5), (5, 5), (-5, 5)]), #top\n",
    "    Polygon([(-4.99, -5.49), (-1.5, -5.49), (-1.5, -13), (-1, -13), (-1, -4.99), (-4.99, -4.99)]), #right\n",
    "    Polygon([(4.99, -5.49), (1.5, -5.49), (1.5, -13), (1, -13), (1, -4.99), (4.99, -4.99)]), #left\n",
    "    ]\n",
    "\n",
    "center_final_target = [[(-1, -16), (-1, -14), (1, -14), (1, -16)]]\n",
    "center_start_area = [\n",
    "    [(-7.5, 4.25), (-14.5, 4.25), (-14.5, -4.25), (-7.5, -4.25)],\n",
    "    [(7.5, 4.25), (14.5, 4.25), (14.5, -4.25), (7.5, -4.25)]\n",
    "]\n",
    "\n",
    "# Create walkable area\n",
    "obstacle = shapely.union_all(obstacles)\n",
    "center_area = pedpy.WalkableArea(shapely.difference(complete_area, obstacle))\n",
    "\n",
    "# Extract trajectories\n",
    "center_traj = extract_trajectories(Path(\"../output/pedpy/CenterConnectionBatch.txt\"))\n",
    "center_traj_unified = extract_trajectories_unified(Path(\"../output/pedpy/CenterConnectionBatch.txt\"))\n",
    "\n",
    "# Define measurement areas\n",
    "center_measurement_areas = {\n",
    "    \"left\": MeasurementArea([(-5.5, -1), (-5.5, 1), (-7.5, 1), (-7.5, -1)]),\n",
    "    \"right\": MeasurementArea([(5.5, -1), (5.5, 1), (7.5, 1), (7.5, -1)]),\n",
    "    \"center\": MeasurementArea([(-1.5, -2), (-1.5, -4), (0.5, -4), (0.5, -2)]),\n",
    "}\n",
    "\n",
    "center_measurement_line = MeasurementLine([(-2.0, -5.0), (2.0, -5.0)])\n",
    "\n",
    "# Compute individual voronoi polygons\n",
    "center_individual_list = [compute_voronoi(traj, center_area) for traj in center_traj]\n",
    "center_individual_cutoff_list = [compute_voronoi(traj, center_area, Cutoff(radius=1, quad_segments=3)) for traj in center_traj]\n",
    "center_individual_list_unified = [compute_voronoi(center_traj_unified[0], center_area)]\n",
    "center_individual_cutoff_list_unified = [compute_voronoi(center_traj_unified[0], center_area, Cutoff(radius=1, quad_segments=3))]\n",
    "\n",
    "# Compute classic density\n",
    "center_classic_density = {\n",
    "    \"left\": compute_classic_density(traj_data=center_traj[0], measurement_area=center_measurement_areas[\"left\"]),\n",
    "    \"right\": compute_classic_density(traj_data=center_traj[1], measurement_area=center_measurement_areas[\"right\"]),\n",
    "    \"center\": compute_classic_density(traj_data=center_traj_unified[0], measurement_area=center_measurement_areas[\"center\"]),\n",
    "}\n",
    "\n",
    "center_classic_density[\"local\"] = center_classic_density[\"left\"] + center_classic_density[\"right\"]\n",
    "\n",
    "center_density_voronoi = {\n",
    "    \"left\": compute_voronoi_density_list(center_individual_list[0], center_measurement_areas[\"left\"]),\n",
    "    \"right\": compute_voronoi_density_list(center_individual_list[1], center_measurement_areas[\"right\"]),\n",
    "    \"center\": compute_voronoi_density_list(center_individual_list_unified[0], center_measurement_areas[\"center\"]),\n",
    "}\n",
    "\n",
    "center_density_voronoi[\"local\"] = center_density_voronoi[\"left\"] + center_density_voronoi[\"right\"]\n",
    "\n",
    "center_density_voronoi_cutoff = {\n",
    "    \"left\": compute_voronoi_density_list(center_individual_cutoff_list[0], center_measurement_areas[\"left\"]),\n",
    "    \"right\": compute_voronoi_density_list(center_individual_cutoff_list[1], center_measurement_areas[\"right\"]),\n",
    "    \"center\": compute_voronoi_density_list(center_individual_cutoff_list_unified[0], center_measurement_areas[\"center\"]),\n",
    "}\n",
    "\n",
    "center_density_voronoi_cutoff[\"local\"] = center_density_voronoi_cutoff[\"left\"] + center_density_voronoi_cutoff[\"right\"]\n",
    "\n",
    "# Compute flow calculation\n",
    "center_nt, _ = compute_n_t(\n",
    "    traj_data=center_traj_unified[0],\n",
    "    measurement_line=center_measurement_line,\n",
    ")\n",
    "\n",
    "center_name = \"Center Connection\""
   ],
   "metadata": {
    "collapsed": false
   },
   "id": "fbf1bbb4a5fe1b75",
   "execution_count": null
  },
  {
   "cell_type": "code",
   "outputs": [],
   "source": [
    "plot_trajectories(\n",
    "    center_traj, \n",
    "    center_area, \n",
    "    center_name, \n",
    "    center_final_target, \n",
    "    center_start_area,\n",
    "    center_measurement_areas,\n",
    "    center_measurement_line\n",
    ")"
   ],
   "metadata": {
    "collapsed": false
   },
   "id": "28e7c2795e522949",
   "execution_count": null
  },
  {
   "cell_type": "code",
   "outputs": [],
   "source": [
    "plot_trajectories(\n",
    "    corner_traj, \n",
    "    corner_area, \n",
    "    corner_name, \n",
    "    corner_final_target, \n",
    "    corner_start_area,\n",
    "    corner_measurement_areas,\n",
    "    corner_measurement_line\n",
    ")"
   ],
   "metadata": {
    "collapsed": false
   },
   "id": "b9e8f3d5b9c64ea8",
   "execution_count": null
  },
  {
   "cell_type": "code",
   "outputs": [],
   "source": [
    "comparison_connection_local = {\n",
    "    \"Local Density Center Connection\": center_density_voronoi_cutoff[\"local\"],\n",
    "    \"Local Density Corner Connection\": corner_density_voronoi_cutoff[\"local\"],\n",
    "}\n",
    "\n",
    "comparison_connection_local_colors = {\n",
    "    \"Local Density Center Connection\": \"#3649A2\",\n",
    "    \"Local Density Corner Connection\": \"#DD4444\"\n",
    "}\n",
    "\n",
    "comparison_connection_global = {\n",
    "    \"Global Density Center Connection\": center_density_voronoi_cutoff[\"center\"],\n",
    "    \"Global Density Corner Connection\": corner_density_voronoi_cutoff[\"center\"],\n",
    "}\n",
    "\n",
    "comparison_connection_global_colors = {\n",
    "    \"Global Density Center Connection\": \"#3649A2\",\n",
    "    \"Global Density Corner Connection\": \"#DD4444\"\n",
    "}\n",
    "\n",
    "comparison_global_name = \"Global\"\n",
    "comparison_local_name = \"Local\"\n",
    "comparison_main_folder = \"Comparison Connection\""
   ],
   "metadata": {
    "collapsed": false
   },
   "id": "365a62de8a0d6af5",
   "execution_count": null
  },
  {
   "cell_type": "code",
   "outputs": [],
   "source": [
    "plot_density_comparison(comparison_connection_local, comparison_connection_local_colors, comparison_local_name, comparison_main_folder)\n",
    "plot_density_comparison(comparison_connection_global, comparison_connection_global_colors, comparison_global_name, comparison_main_folder)"
   ],
   "metadata": {
    "collapsed": false
   },
   "id": "68d62c43f0bde902",
   "execution_count": null
  },
  {
   "cell_type": "code",
   "outputs": [],
   "source": [
    "plot_voronoi_density_static(\n",
    "voronoi_data_list = center_individual_list,\n",
    "voronoi_data_cutoff_list = center_individual_cutoff_list,\n",
    "traj_data_list = center_traj,\n",
    "walkable_area = center_area,\n",
    "frame = 80,\n",
    "level_name = center_name,\n",
    "vmin = 0.0,\n",
    "vmax = 1.0\n",
    ")"
   ],
   "metadata": {
    "collapsed": false
   },
   "id": "bb2a5539ced7eb6",
   "execution_count": null
  },
  {
   "cell_type": "code",
   "outputs": [],
   "source": [
    "plot_voronoi_density_static(\n",
    "voronoi_data_list = corner_individual_list,\n",
    "voronoi_data_cutoff_list = corner_individual_cutoff_list,\n",
    "traj_data_list = corner_traj,\n",
    "walkable_area = corner_area,\n",
    "frame = 80,\n",
    "level_name = corner_name,\n",
    "vmin = 0.0,\n",
    "vmax = 1.0\n",
    ")"
   ],
   "metadata": {
    "collapsed": false
   },
   "id": "809ca74ea6783a91",
   "execution_count": null
  },
  {
   "cell_type": "code",
   "outputs": [],
   "source": [
    "def plot_voronoi_density_profile(traj_data: TrajectoryData, area: WalkableArea, density_max: float, level_name: str, min_frame: int, max_frame: int, grid: float = 0.5, frame: int = 5) -> None:\n",
    "    individual_cutoff = compute_individual_voronoi_polygons(\n",
    "        traj_data=traj_data,\n",
    "        walkable_area=area,\n",
    "        cut_off=Cutoff(radius=0.3, quad_segments=5),\n",
    "    )\n",
    "\n",
    "    individual_speed = compute_individual_speed(\n",
    "        traj_data=traj_data,\n",
    "        frame_step=frame,\n",
    "        speed_calculation=SpeedCalculation.BORDER_SINGLE_SIDED,\n",
    "    )\n",
    "\n",
    "    profile_data = individual_speed.merge(individual_cutoff)\n",
    "    profile_data = profile_data.merge(traj_data.data)\n",
    "    \n",
    "    grid_cells, _, _ = get_grid_cells(\n",
    "        walkable_area=area, grid_size=grid\n",
    "    )\n",
    "\n",
    "    profile_data = profile_data[\n",
    "        profile_data.frame.between(min_frame, max_frame)\n",
    "    ]\n",
    "\n",
    "    grid_cell_intersection_area, resorted_profile_data = compute_grid_cell_polygon_intersection_area(\n",
    "        data=profile_data, grid_cells=grid_cells\n",
    "    )\n",
    "\n",
    "    voronoi_density_profile = compute_density_profile(\n",
    "        data=resorted_profile_data,\n",
    "        walkable_area=area,\n",
    "        grid_intersections_area=grid_cell_intersection_area,\n",
    "        grid_size=grid,\n",
    "        density_method=DensityMethod.VORONOI,\n",
    "    )\n",
    "\n",
    "    fig, ax = plt.subplots(figsize=(8, 8))\n",
    "    fig.suptitle(f\"Density Profile - {level_name}\", y=0.8, fontsize=14)\n",
    "\n",
    "    plot_profiles(\n",
    "        walkable_area=area,\n",
    "        profiles=voronoi_density_profile,\n",
    "        axes=ax,\n",
    "        label=\"$\\\\rho$ / 1/$m^2$\",\n",
    "        vmin=0,\n",
    "        vmax=density_max,\n",
    "        title=\"Voronoi\",\n",
    "    )\n",
    "\n",
    "    plt.tight_layout(pad=3)\n",
    "    path = f'../output/runs/{group}/{name}/plots/{level_name}/'\n",
    "    os.makedirs(path, exist_ok=True)\n",
    "    plt.savefig(path + f'density_profiles_{level_name}.png', bbox_inches=\"tight\")\n",
    "    plt.show()"
   ],
   "metadata": {
    "collapsed": false
   },
   "id": "cdfc52e219cfb3c7",
   "execution_count": null
  },
  {
   "cell_type": "code",
   "outputs": [],
   "source": [
    "\n",
    "plot_voronoi_density_profile(\n",
    "    center_traj_unified[0],\n",
    "    center_area, \n",
    "    1.0,\n",
    "    center_name,\n",
    "    50,\n",
    "    100\n",
    ")"
   ],
   "metadata": {
    "collapsed": false
   },
   "id": "e06d9d4de7247cbb",
   "execution_count": null
  },
  {
   "cell_type": "code",
   "outputs": [],
   "source": [
    "plot_speed_and_density_profiles(\n",
    "    corner_traj_unified[0], \n",
    "    corner_area, \n",
    "    0.5,\n",
    "    corner_name,\n",
    "    60,\n",
    "    65\n",
    ")"
   ],
   "metadata": {
    "collapsed": false
   },
   "id": "82df4570a2606d5b",
   "execution_count": null
  },
  {
   "cell_type": "code",
   "outputs": [],
   "source": [
    "level_name = center_name\n",
    "plot_nt(\n",
    "    nt=center_nt,\n",
    "    title=f\"nT - {level_name}\"\n",
    ")\n",
    "path = f'../output/runs/{group}/{name}/plots/{level_name}/'\n",
    "os.makedirs(path, exist_ok=True)\n",
    "plt.savefig(path + f'nT_{level_name}.png')\n",
    "plt.show()"
   ],
   "metadata": {
    "collapsed": false
   },
   "id": "d71ccf70f292c394",
   "execution_count": null
  },
  {
   "cell_type": "code",
   "outputs": [],
   "source": [
    "level_name = corner_name\n",
    "plot_nt(\n",
    "    nt=corner_nt,\n",
    "    title=f\"nT - {level_name}\"\n",
    ")\n",
    "path = f'../output/runs/{group}/{name}/plots/{level_name}/'\n",
    "os.makedirs(path, exist_ok=True)\n",
    "plt.savefig(path + f'nT_{level_name}.png', bbox_inches=\"tight\")\n",
    "plt.show()"
   ],
   "metadata": {
    "collapsed": false
   },
   "id": "7337b66da1524b58",
   "execution_count": null
  },
  {
   "cell_type": "code",
   "outputs": [],
   "source": [
    "%matplotlib notebook \n",
    "\n",
    "# Define the function to plot the animation\n",
    "def plot_voronoi_density_animation(\n",
    "        voronoi_data_list: list, \n",
    "        voronoi_data_cutoff_list: list, \n",
    "        traj_data_list: list, \n",
    "        walkable_area: WalkableArea, \n",
    "        frame_start: int, \n",
    "        frame_end: int, \n",
    "        step: int, \n",
    "        vmin: float, \n",
    "        vmax: float) -> FuncAnimation:\n",
    "    \n",
    "    frames = list(range(frame_start, frame_end + 1, step))\n",
    "\n",
    "    fig, (ax1, ax2) = plt.subplots(1, 2, figsize=(18, 10))\n",
    "\n",
    "    def update(frame):\n",
    "        ax1.clear()\n",
    "        ax2.clear()\n",
    "\n",
    "        ax1.set_title(f\"Frame {frame} w/o cutoff\")\n",
    "        ax1.set_aspect('equal')\n",
    "        for traj_data, voronoi_data in zip(traj_data_list, voronoi_data_list):\n",
    "            plot_voronoi_cells(\n",
    "                voronoi_data=voronoi_data,\n",
    "                traj_data=traj_data,\n",
    "                frame=frame,\n",
    "                walkable_area=walkable_area,\n",
    "                color_by_column=DENSITY_COL,\n",
    "                axes=ax1,\n",
    "                show_colorbar=False,\n",
    "                vmin=vmin,\n",
    "                vmax=vmax,\n",
    "            )\n",
    "\n",
    "        ax2.set_title(f\"Frame {frame} w/ cutoff\")\n",
    "        ax2.set_aspect('equal')\n",
    "        for traj_data, voronoi_data_cutoff in zip(traj_data_list, voronoi_data_cutoff_list):\n",
    "            plot_voronoi_cells(\n",
    "                voronoi_data=voronoi_data_cutoff,\n",
    "                traj_data=traj_data,\n",
    "                frame=frame,\n",
    "                walkable_area=walkable_area,\n",
    "                color_by_column=DENSITY_COL,\n",
    "                axes=ax2,\n",
    "                show_colorbar=False,\n",
    "                vmin=vmin,\n",
    "                vmax=vmax,\n",
    "            )\n",
    "\n",
    "    cbar_ax = fig.add_axes([0.1, 0.05, 0.8, 0.03])\n",
    "    norm = mpl.colors.Normalize(vmin=vmin, vmax=vmax)\n",
    "    sm = plt.cm.ScalarMappable(cmap=plt.get_cmap(\"YlGn\"), norm=norm)\n",
    "    sm.set_array([])\n",
    "    plt.colorbar(\n",
    "        sm,\n",
    "        cax=cbar_ax,\n",
    "        shrink=0.1,\n",
    "        label=\"$\\\\rho$ \\ 1/$m^2$\",\n",
    "        aspect=2,\n",
    "        orientation=\"horizontal\",\n",
    "    )\n",
    "\n",
    "    plt.subplots_adjust(left=0.05, right=0.95, top=1.0, bottom=0.15, wspace=0.2, hspace=0.35)\n",
    "\n",
    "    anim = FuncAnimation(fig, update, frames=frames, repeat=False)\n",
    "    plt.show()\n",
    "    return anim"
   ],
   "metadata": {
    "collapsed": false
   },
   "id": "f0ab409cd54a9df4",
   "execution_count": null
  },
  {
   "cell_type": "code",
   "outputs": [],
   "source": [
    "%matplotlib notebook \n",
    "\n",
    "# Define the function to plot the animation\n",
    "def plot_voronoi_density_animation_single(\n",
    "        voronoi_data_list: list, \n",
    "        traj_data_list: list, \n",
    "        walkable_area: WalkableArea, \n",
    "        frame_start: int, \n",
    "        frame_end: int, \n",
    "        step: int, \n",
    "        vmin: float, \n",
    "        vmax: float) -> FuncAnimation:\n",
    "    \n",
    "    frames = list(range(frame_start, frame_end + 1, step))\n",
    "\n",
    "    fig, ax1 = plt.subplots(1, 1, figsize=(9, 10))\n",
    "\n",
    "    def update(frame):\n",
    "        ax1.clear()\n",
    "        \n",
    "        ax1.set_title(f\"Frame {frame} w/o cutoff\")\n",
    "        ax1.set_aspect('equal')\n",
    "        for traj_data, voronoi_data in zip(traj_data_list, voronoi_data_list):\n",
    "            plot_voronoi_cells(\n",
    "                voronoi_data=voronoi_data,\n",
    "                traj_data=traj_data,\n",
    "                frame=frame,\n",
    "                walkable_area=walkable_area,\n",
    "                color_by_column=DENSITY_COL,\n",
    "                axes=ax1,\n",
    "                show_colorbar=False,\n",
    "                vmin=vmin,\n",
    "                vmax=vmax,\n",
    "            )\n",
    "\n",
    "    cbar_ax = fig.add_axes([0.1, 0.05, 0.8, 0.03])\n",
    "    norm = mpl.colors.Normalize(vmin=vmin, vmax=vmax)\n",
    "    sm = plt.cm.ScalarMappable(cmap=plt.get_cmap(\"YlGn\"), norm=norm)\n",
    "    sm.set_array([])\n",
    "    plt.colorbar(\n",
    "        sm,\n",
    "        cax=cbar_ax,\n",
    "        shrink=0.1,\n",
    "        label=\"$\\\\rho$ \\ 1/$m^2$\",\n",
    "        aspect=2,\n",
    "        orientation=\"horizontal\",\n",
    "    )\n",
    "\n",
    "    plt.subplots_adjust(left=0.05, right=0.95, top=1.0, bottom=0.15, wspace=0.2, hspace=0.35)\n",
    "\n",
    "    anim = FuncAnimation(fig, update, frames=frames, repeat=False)\n",
    "    plt.show()\n",
    "    return anim\n"
   ],
   "metadata": {
    "collapsed": false
   },
   "id": "c711fc6120cce73c",
   "execution_count": null
  },
  {
   "cell_type": "code",
   "outputs": [],
   "source": [
    "double_anim = plot_voronoi_density_animation(\n",
    "    double_door_opposite_individual_list_unified,\n",
    "    double_door_opposite_individual_cutoff_list_unified,\n",
    "    double_door_opposite_traj_unified,\n",
    "    double_door_opposite_area,\n",
    "    0,\n",
    "    75,\n",
    "    1,\n",
    "    0,\n",
    "    0.5\n",
    ")\n",
    "path = f'../output/runs/{group}/{name}/plots/{double_door_opposite_name}/'\n",
    "double_anim.save(path + 'voronoi_density_animation.gif', writer='pillow', fps=13)"
   ],
   "metadata": {
    "collapsed": false
   },
   "id": "3ec078e54dd5265",
   "execution_count": null
  },
  {
   "cell_type": "code",
   "outputs": [],
   "source": [
    "double_anim_single = plot_voronoi_density_animation_single(\n",
    "    double_door_opposite_individual_list_unified,\n",
    "    double_door_opposite_traj_unified,\n",
    "    double_door_opposite_area,\n",
    "    0,\n",
    "    300,\n",
    "    5,\n",
    "    0,\n",
    "    0.5\n",
    ")\n",
    "path = f'../output/runs/{group}/{name}/plots/{double_door_opposite_name}/'\n",
    "double_anim_single.save(path + 'voronoi_density_animation_single.gif', writer='pillow', fps=13)"
   ],
   "metadata": {
    "collapsed": false
   },
   "id": "67f3389d22f81c94",
   "execution_count": null
  },
  {
   "cell_type": "code",
   "outputs": [],
   "source": [
    "ddo_7_name = \"Double Door Opposite 7\"\n",
    "\n",
    "ddo_7_anim = plot_voronoi_density_animation(\n",
    "    ddo_7_individual_list_unified,\n",
    "    ddo_7_individual_cutoff_list_unified,\n",
    "    ddo_7_traj_unified,\n",
    "    ddo_7_area,\n",
    "    0,\n",
    "    350,\n",
    "    5,\n",
    "    0,\n",
    "    0.5\n",
    ")\n",
    "path = f'../output/runs/{group}/{name}/plots/{ddo_7_name}/'\n",
    "ddo_7_anim.save(path + 'voronoi_density_animation.gif', writer='pillow', fps=13)"
   ],
   "metadata": {
    "collapsed": false
   },
   "id": "a35ba9bfe76cb57a",
   "execution_count": null
  },
  {
   "cell_type": "code",
   "outputs": [],
   "source": [
    "ddo_7_name = \"Double Door Opposite 7\"\n",
    "\n",
    "ddo_7_anim_single = plot_voronoi_density_animation_single(\n",
    "    ddo_7_individual_list_unified,\n",
    "    ddo_7_traj_unified,\n",
    "    ddo_7_area,\n",
    "    0,\n",
    "    350,\n",
    "    5,\n",
    "    0,\n",
    "    0.5\n",
    ")\n",
    "path = f'../output/runs/{group}/{name}/plots/{ddo_7_name}/'\n",
    "ddo_7_anim_single.save(path + 'voronoi_density_animation_single.gif', writer='pillow', fps=13)"
   ],
   "metadata": {
    "collapsed": false
   },
   "id": "7e63c33ca350d902",
   "execution_count": null
  },
  {
   "cell_type": "code",
   "outputs": [],
   "source": [
    "anchor_8_name = \"Anchor 8\"\n",
    "\n",
    "anchor_8_anim_single = plot_voronoi_density_animation_single(\n",
    "    anchor_8_individual_list_unified,\n",
    "    anchor_8_traj_unified,\n",
    "    anchor_8_area,\n",
    "    0,\n",
    "    50,\n",
    "    2,\n",
    "    0,\n",
    "    0.5\n",
    ")\n",
    "path = f'../output/runs/{group}/{name}/plots/{anchor_8_name}/'\n",
    "anchor_8_anim_single.save(path + 'voronoi_density_animation_single.gif', writer='pillow', fps=13)"
   ],
   "metadata": {
    "collapsed": false
   },
   "id": "1cb6146410922854",
   "execution_count": null
  },
  {
   "cell_type": "code",
   "outputs": [],
   "source": [
    "funnel_3_5_name = \"Funnel 3.5\"\n",
    "\n",
    "funnel_3_5_anim = plot_voronoi_density_animation_single(\n",
    "    funnel_3_5_individual_list,\n",
    "    funnel_3_5_traj,\n",
    "    funnel_3_5_area,\n",
    "    0,\n",
    "    200,\n",
    "    5,\n",
    "    0,\n",
    "    1.5\n",
    ")\n",
    "path = f'../output/runs/{group}/{name}/plots/{funnel_3_5_name}/'\n",
    "funnel_3_5_anim.save(path + 'voronoi_density_animation_single.gif', writer='pillow', fps=13)"
   ],
   "metadata": {
    "collapsed": false
   },
   "id": "d518d0e2cc4a30e1",
   "execution_count": null
  },
  {
   "cell_type": "code",
   "outputs": [],
   "source": [
    "center_name = \"Center Connection\"\n",
    "\n",
    "center_anim = plot_voronoi_density_animation_single(\n",
    "    center_individual_list_unified,\n",
    "    center_traj_unified,\n",
    "    center_area,\n",
    "    0,\n",
    "    200,\n",
    "    5,\n",
    "    0,\n",
    "    1\n",
    ")\n",
    "path = f'../output/runs/{group}/{name}/plots/{center_name}/'\n",
    "center_anim.save(path + 'voronoi_density_animation_single.gif', writer='pillow', fps=13)"
   ],
   "metadata": {
    "collapsed": false,
    "is_executing": true
   },
   "id": "d4608d1974979747",
   "execution_count": null
  },
  {
   "cell_type": "code",
   "outputs": [],
   "source": [
    "corner_name = \"Corner Connection\"\n",
    "\n",
    "corner_anim = plot_voronoi_density_animation_single(\n",
    "    corner_individual_list_unified,\n",
    "    corner_traj_unified,\n",
    "    corner_area,\n",
    "    0,\n",
    "    200,\n",
    "    5,\n",
    "    0,\n",
    "    1\n",
    ")\n",
    "path = f'../output/runs/{group}/{name}/plots/{corner_name}/'\n",
    "corner_anim.save(path + 'voronoi_density_animation_single.gif', writer='pillow', fps=13)"
   ],
   "metadata": {
    "collapsed": false,
    "is_executing": true
   },
   "id": "6a34865451f1de6d",
   "execution_count": null
  },
  {
   "cell_type": "code",
   "outputs": [],
   "source": [],
   "metadata": {
    "collapsed": false
   },
   "id": "d30a2b680406ddb3"
  }
 ],
 "metadata": {
  "kernelspec": {
   "display_name": "Python 3",
   "language": "python",
   "name": "python3"
  },
  "language_info": {
   "codemirror_mode": {
    "name": "ipython",
    "version": 2
   },
   "file_extension": ".py",
   "mimetype": "text/x-python",
   "name": "python",
   "nbconvert_exporter": "python",
   "pygments_lexer": "ipython2",
   "version": "2.7.6"
  }
 },
 "nbformat": 4,
 "nbformat_minor": 5
}
