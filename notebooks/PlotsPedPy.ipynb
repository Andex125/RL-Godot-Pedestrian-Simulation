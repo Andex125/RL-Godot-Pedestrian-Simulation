{
 "cells": [
  {
   "cell_type": "markdown",
   "source": [
    "# Analysis and Visualization of Pedestrian Dynamics Using PedPy\n",
    "\n",
    "This notebook focuses on plotting and analyzing pedestrian data, including trajectories, density, and speed metrics, using the `pedpy` library. The goal is to provide insights into pedestrian behavior and flow through visual representations and computational analysis.\n"
   ],
   "metadata": {
    "collapsed": false
   },
   "id": "1c0befaa71e6fd52"
  },
  {
   "cell_type": "markdown",
   "source": [
    "## Data Extraction and Visualization Functions\n",
    "\n",
    "This section comprises functions dedicated to extracting pedestrian trajectory data from input files and visualizing various metrics related to pedestrian dynamics. These functions facilitate the analysis of pedestrian behavior, including trajectory plotting, speed profile computation, and density mapping within defined walkable areas.\n"
   ],
   "metadata": {
    "collapsed": false
   },
   "id": "caf79a98ba737b0a"
  },
  {
   "cell_type": "markdown",
   "source": [
    "### Importing Libraries and Modules\n",
    "\n",
    "The cell imports several essential Python libraries for data analysis and visualization:\n",
    "\n",
    "- `re`: A module for working with regular expressions.\n",
    "- `pedpy`: A specialized library for pedestrian dynamics analysis.\n",
    "- `shapely`: A library for manipulation and analysis of planar geometric objects.\n",
    "- `pandas`: A powerful data manipulation and analysis library providing data structures and operations for manipulating numerical tables and time series.\n",
    "- `matplotlib.pyplot`: A module in matplotlib for plotting graphs.\n",
    "\n",
    "Additionally, it includes imports from `pathlib` for file system path operations, `shapely.Polygon` for creating geometric polygon shapes, and various types from the `typing` module to enhance code readability and maintainability.\n",
    "\n",
    "From `pedpy`, it specifically imports multiple functions and classes related to the computation and plotting of pedestrian dynamics and trajectories, such as speed profiles, grid cell interactions, and Voronoi polygons.\n"
   ],
   "metadata": {
    "collapsed": false
   },
   "id": "a8846cdba6904ba2"
  },
  {
   "cell_type": "code",
   "outputs": [],
   "source": [
    "%matplotlib inline\n",
    "\n",
    "import re\n",
    "import pedpy\n",
    "import shapely\n",
    "import pandas as pd\n",
    "import matplotlib.pyplot as plt\n",
    "import matplotlib as mpl\n",
    "\n",
    "from pathlib import Path\n",
    "from shapely import Polygon\n",
    "from typing import Collection\n",
    "\n",
    "from pedpy.column_identifier import DENSITY_COL\n",
    "from matplotlib.animation import FuncAnimation\n",
    "\n",
    "from pedpy import (\n",
    "    compute_speed_profile, SpeedMethod,\n",
    "    get_grid_cells, compute_grid_cell_polygon_intersection_area,\n",
    "    compute_individual_voronoi_polygons, compute_individual_speed,\n",
    "    SpeedCalculation, Cutoff, plot_profiles,\n",
    "    TrajectoryData, WalkableArea, plot_measurement_setup,\n",
    "    compute_classic_density, MeasurementArea, compute_voronoi_density,\n",
    "    plot_voronoi_cells\n",
    ")\n",
    "\n",
    "import os"
   ],
   "metadata": {
    "collapsed": false,
    "ExecuteTime": {
     "end_time": "2025-03-07T15:26:59.440305600Z",
     "start_time": "2025-03-07T15:26:56.804054Z"
    }
   },
   "id": "8424faed13c99e3d",
   "execution_count": 2
  },
  {
   "cell_type": "markdown",
   "source": [
    "### Setting save path\n",
    "\n",
    "The next cell contains two variables:\n",
    "    - `name`: Indicates the name of the run, used for file path construction.\n",
    "    - `group`: Indicates the folder in which the `name` run is contained. If the `name` run is directly inside the `runs` folder, `group` must be set to empty string. \n",
    "    \n",
    "The full save path will be: *output/runs/{group}/{run}/plots/*"
   ],
   "metadata": {
    "collapsed": false
   },
   "id": "4e152d532727ebcf"
  },
  {
   "cell_type": "code",
   "outputs": [],
   "source": [
    "run = 'net_256_128_64'\n",
    "group = 'sensitivity studies'"
   ],
   "metadata": {
    "collapsed": false,
    "ExecuteTime": {
     "end_time": "2025-03-07T15:26:59.557994200Z",
     "start_time": "2025-03-07T15:26:59.435281100Z"
    }
   },
   "id": "f7c87e88f8436f8",
   "execution_count": 3
  },
  {
   "cell_type": "markdown",
   "source": [
    "### Extracting Trajectories Function\n",
    "\n",
    "This function, `extract_trajectories`, is designed to parse trajectory data from a specified input file and organize it into a usable format for analysis. Here is a breakdown of the process:\n",
    "\n",
    "1. **Reading the Input File**:\n",
    "   - The function reads a CSV file where the delimiter is whitespace (`\\s+`), skipping lines that start with `#`.\n",
    "   - The columns are named explicitly (`'id'`, `'frame'`, `'x'`, `'y'`, `'group'`), with only the necessary columns being used.\n",
    "\n",
    "2. **Grouping Data**:\n",
    "   - The data is grouped by the `group` column, which represent different groups of pedestrian, allowing separate analysis per group.\n",
    "\n",
    "3. **Extracting Frame Rate**:\n",
    "   - The function reads the first line of the file to find a comment indicating the frame rate (`framerate`) of the data, which is essential for time-based analysis in trajectory data.\n",
    "\n",
    "4. **Creating Trajectory Data Objects**:\n",
    "   - For each group, a `TrajectoryData` object is created, holding the dataframe for that group and the extracted frame rate.\n",
    "   - These objects are useful for further processing where time and movement analysis are required."
   ],
   "metadata": {
    "collapsed": false
   },
   "id": "29fc03a491dfe42"
  },
  {
   "cell_type": "code",
   "outputs": [],
   "source": [
    "def extract_trajectories(input_file: Path) -> Collection[TrajectoryData]:\n",
    "    df = pd.read_csv(\n",
    "                input_file,\n",
    "                sep=r\"\\s+\",\n",
    "                comment=\"#\",\n",
    "                header=None,\n",
    "                names=['id', 'frame', 'x', 'y', 'group'],\n",
    "                usecols=[0, 1, 2, 3, 5],\n",
    "    )\n",
    "    groups = df['group'].unique()\n",
    "    \n",
    "    dfs = {}\n",
    "    for group in groups:\n",
    "        dfs[group] = df.loc[df['group'] == group]\n",
    "    \n",
    "    with open(input_file, 'r') as file:\n",
    "        first_line = file.readline().strip()\n",
    "    \n",
    "    match = re.search(r'# framerate: (\\d+) fps', first_line)\n",
    "    if not match:\n",
    "        raise Exception('fps not found in trajectory file')\n",
    "    fps = int(match.group(1))\n",
    "    \n",
    "    trajectories = []\n",
    "    for df in dfs.values():\n",
    "        traj = TrajectoryData(df, fps)\n",
    "        trajectories.append(traj)\n",
    "        \n",
    "    return trajectories"
   ],
   "metadata": {
    "collapsed": false,
    "ExecuteTime": {
     "end_time": "2025-03-07T15:26:59.606292400Z",
     "start_time": "2025-03-07T15:26:59.453910900Z"
    }
   },
   "id": "9e5598bb18eee71e",
   "execution_count": 4
  },
  {
   "cell_type": "markdown",
   "source": [
    "### Function to Plot Trajectories\n",
    "\n",
    "The `plot_trajectories` function is used to visualize pedestrian trajectories within a defined walkable area, along with optional start and final target areas. Here is a step-by-step overview of its operations:\n",
    "\n",
    "1. **Setup Plot**:\n",
    "   - Initializes a single subplot (`ax`) with an equal aspect ratio to ensure proper scaling of the visual elements.\n",
    "   - Sets the title of the figure using the provided `level_name`.\n",
    "\n",
    "2. **Plot Walkable Area**:\n",
    "   - Utilizes the `pedpy.plot_walkable_area` function to draw the walkable area on the subplot.\n",
    "\n",
    "3. **Plot Final Targets**:\n",
    "   - Iterates through the `final_targets` list, plotting each target area as a semi-transparent purple polygon.\n",
    "   - Labels each target with \"Target\" followed by its index number, placing the text at the centroid of the polygon.\n",
    "\n",
    "4. **Plot Start Areas**:\n",
    "   - Iterates through the `start_areas` list, plotting each start area as a semi-transparent blue polygon.\n",
    "   - Labels each start area with \"Start\" followed by its index number, placing the text at the centroid of the polygon.\n",
    "\n",
    "5. **Plot Trajectories**:\n",
    "   - Iterates through the `trajectories` list, plotting each trajectory with distinct colors and specified plot parameters (e.g., alpha, width).\n",
    "   - Uses the `plot_measurement_setup` function to handle the detailed plotting of each trajectory.\n",
    "\n",
    "6. **Show Plot**:\n",
    "   - Displays the complete plot with all the visual elements using `plt.show()`."
   ],
   "metadata": {
    "collapsed": false
   },
   "id": "e58204bdbb5f3315"
  },
  {
   "cell_type": "code",
   "outputs": [],
   "source": [
    "def plot_trajectories(trajectories: Collection[TrajectoryData], walkable_area: WalkableArea, level_name: str, final_targets: list = None, start_areas: list = None) -> None:\n",
    "    fig, ax = plt.subplots(nrows=1, ncols=1)\n",
    "    ax.set_aspect(\"equal\")\n",
    "    # fig.suptitle(f\"Trajectory - {level_name}\", y=1.05)\n",
    "    \n",
    "    # Plot the walkable area\n",
    "    pedpy.plot_walkable_area(walkable_area=walkable_area, axes=ax)\n",
    "    \n",
    "    # Plot the final targets\n",
    "    if final_targets is not None:\n",
    "        for idx, exit_poly in enumerate(final_targets):\n",
    "            x, y = Polygon(exit_poly).exterior.xy\n",
    "            plt.fill(x, y, alpha=0.3, color=\"purple\")\n",
    "            centroid = Polygon(exit_poly).centroid\n",
    "            plt.text(\n",
    "                centroid.x, \n",
    "                centroid.y, \n",
    "                f\"Target {idx+1}\", \n",
    "                ha=\"center\",\n",
    "                va=\"center\", \n",
    "                fontsize=8\n",
    "            )\n",
    "    \n",
    "    # Plot the start areas\n",
    "    if start_areas is not None:\n",
    "        for idx, dp in enumerate(start_areas):\n",
    "            dist_poly = Polygon(dp)\n",
    "            x, y = dist_poly.exterior.xy\n",
    "            plt.fill(x, y, alpha=0.3, color=\"blue\")\n",
    "            centroid = dist_poly.centroid\n",
    "            plt.text(\n",
    "                centroid.x,\n",
    "                centroid.y, \n",
    "                f\"Start {idx+1}\", \n",
    "                ha=\"center\",\n",
    "                va=\"center\",\n",
    "                fontsize=8\n",
    "            )\n",
    "    \n",
    "    # Plot the trajectories\n",
    "    for traj, color in zip(trajectories, ['#FF0000', '#0000FF', '#00FF00', '#FFFFFF']):\n",
    "        plot_measurement_setup(\n",
    "            walkable_area=walkable_area,\n",
    "            traj=traj,\n",
    "            traj_color=color,\n",
    "            traj_alpha=0.5,\n",
    "            traj_width=1,\n",
    "        )\n",
    "    \n",
    "    path = f'../output/runs/{group}/{run}/plots/{level_name}/'\n",
    "    os.makedirs(path, exist_ok=True)\n",
    "    plt.savefig(path + f'trajectories_{run}.png', bbox_inches='tight')\n",
    "    plt.show()"
   ],
   "metadata": {
    "collapsed": false,
    "ExecuteTime": {
     "end_time": "2025-03-07T15:26:59.625467300Z",
     "start_time": "2025-03-07T15:26:59.470295500Z"
    }
   },
   "id": "bc222462b988ba1f",
   "execution_count": 5
  },
  {
   "cell_type": "markdown",
   "source": [
    "### Plotting Speed Profiles Function\n",
    "\n",
    "The `plot_speed_profiles` function visualizes speed profiles of pedestrian data using various methods to calculate speed within specified spatial grids. It's designed to help analyze the dynamics of pedestrian movement within a defined area. Here's how it functions:\n",
    "\n",
    "1. **Preparation of Individual Pedestrian Data**:\n",
    "   - Computes individual Voronoi polygons for a specific pedestrian group (`traj_data[0]`) within the walkable area using a specified cutoff radius and quadrant segments.\n",
    "   - Calculates individual speeds using a particular method (`SpeedCalculation.BORDER_SINGLE_SIDED`) and a defined frame step, indicating the interval between frames used in the speed calculation.\n",
    "\n",
    "2. **Merging Data for Comprehensive Analysis**:\n",
    "   - The function merges individual speed data and cutoff polygon data with the trajectory data of the pedestrian group, ensuring all relevant data is aligned for further processing.\n",
    "\n",
    "3. **Spatial Grid Preparation**:\n",
    "   - Defines grid cells within the walkable area with a specified grid size to standardize the spatial analysis. \n",
    "\n",
    "4. **Filtering and Reshaping Data**:\n",
    "   - Filters the comprehensive pedestrian data to include only frames within a specified range (`min_frame` to `max_frame`), focusing the analysis on relevant times.\n",
    "   - Computes intersection areas between the pedestrian data and the spatial grid, reformulating the data for speed profile computation.\n",
    "\n",
    "5. **Speed Profile Calculation**:\n",
    "   - Calculates speed profiles using three methods (Voronoi, Arithmetic, and Mean—each) providing a different perspective on pedestrian speed within the grid cells:\n",
    "     - **Voronoi**: Considers the Voronoi polygon associated with each pedestrian.\n",
    "     - **Arithmetic**: Computes an average based on individual speeds.\n",
    "     - **Mean**: Averages speeds across the entire dataset, ignoring individual variations.\n",
    "\n",
    "6. **Visualization**:\n",
    "   - Plots the speed profiles on a set of three subplots within a single figure, labeling each subplot according to the method used and setting the speed range for comparison.\n",
    "   - Displays the plots with a title indicating the specific level or area being analyzed."
   ],
   "metadata": {
    "collapsed": false
   },
   "id": "9941420f47740e09"
  },
  {
   "cell_type": "code",
   "outputs": [],
   "source": [
    "def plot_speed_profiles(traj_data: Collection[TrajectoryData], area: WalkableArea, level_name: str, min_frame: int = 250, max_frame: int = 400, grid: float = 0.4, frame: int = 5) -> None:\n",
    "    individual_cutoff = compute_individual_voronoi_polygons(\n",
    "        traj_data=traj_data[0],\n",
    "        walkable_area=area,\n",
    "        cut_off=Cutoff(radius=0.8, quad_segments=3),\n",
    "    )\n",
    "\n",
    "    individual_speed = compute_individual_speed(\n",
    "        traj_data=traj_data[0],\n",
    "        frame_step=frame,\n",
    "        speed_calculation=SpeedCalculation.BORDER_SINGLE_SIDED,\n",
    "    )\n",
    "\n",
    "    profile_data = individual_speed.merge(individual_cutoff)\n",
    "    profile_data = profile_data.merge(traj_data[0].data)\n",
    "\n",
    "    grid_cells, _, _ = get_grid_cells(\n",
    "        walkable_area=area, grid_size=grid\n",
    "    )\n",
    "\n",
    "    profile_data = profile_data[\n",
    "        profile_data.frame.between(min_frame, max_frame)\n",
    "    ]\n",
    "\n",
    "    grid_cell_intersection_area, resorted_profile_data = compute_grid_cell_polygon_intersection_area(\n",
    "        data=profile_data, grid_cells=grid_cells\n",
    "    )\n",
    "\n",
    "    voronoi_speed_profile = compute_speed_profile(\n",
    "        data=resorted_profile_data,\n",
    "        walkable_area=area,\n",
    "        grid_intersections_area=grid_cell_intersection_area,\n",
    "        grid_size=grid,\n",
    "        speed_method=SpeedMethod.VORONOI,\n",
    "    )\n",
    "\n",
    "    arithmetic_speed_profile = compute_speed_profile(\n",
    "        data=resorted_profile_data,\n",
    "        walkable_area=area,\n",
    "        grid_intersections_area=grid_cell_intersection_area,\n",
    "        grid_size=grid,\n",
    "        speed_method=SpeedMethod.ARITHMETIC,\n",
    "    )\n",
    "\n",
    "    mean_speed_profile = compute_speed_profile(\n",
    "        data=profile_data,\n",
    "        walkable_area=area,\n",
    "        grid_size=grid,\n",
    "        speed_method=SpeedMethod.MEAN,\n",
    "    )\n",
    "\n",
    "    fig, (ax0, ax1, ax2) = plt.subplots(nrows=1, ncols=3, figsize=(18, 9))\n",
    "    fig.suptitle(f\"Speed Profile - {level_name}\", y=0.98)\n",
    "\n",
    "    plot_profiles(\n",
    "        walkable_area=area,\n",
    "        profiles=voronoi_speed_profile,\n",
    "        axes=ax0,\n",
    "        label=\"v / m/s\",\n",
    "        vmin=0,\n",
    "        vmax=1.7,\n",
    "        title=\"Voronoi\",\n",
    "    )\n",
    "\n",
    "    plot_profiles(\n",
    "        walkable_area=area,\n",
    "        profiles=arithmetic_speed_profile,\n",
    "        axes=ax1,\n",
    "        label=\"v / m/s\",\n",
    "        vmin=0,\n",
    "        vmax=1.7,\n",
    "        title=\"Arithmetic\",\n",
    "    )\n",
    "\n",
    "    plot_profiles(\n",
    "        walkable_area=area,\n",
    "        profiles=mean_speed_profile,\n",
    "        axes=ax2,\n",
    "        label=\"v / m/s\",\n",
    "        vmin=0,\n",
    "        vmax=1.7,\n",
    "        title=\"Mean\",\n",
    "    )\n",
    "\n",
    "    path = f'../output/runs/{group}/{run}/plots/{level_name}/'\n",
    "    os.makedirs(path, exist_ok=True)\n",
    "    plt.savefig(path + f'speed_profiles_{run}.png')\n",
    "    plt.show()"
   ],
   "metadata": {
    "collapsed": false,
    "ExecuteTime": {
     "end_time": "2025-03-07T15:26:59.636738100Z",
     "start_time": "2025-03-07T15:26:59.486387200Z"
    }
   },
   "id": "2bb3ca650a40f3f8",
   "execution_count": 6
  },
  {
   "cell_type": "markdown",
   "source": [
    "### Comparative Analysis of Density Estimation Methods\n",
    "\n",
    "The function plot_density_comparison provides a visual comparison of different density estimation methods across various spatial environments. Here's an overview of its operation:\n",
    "\n",
    "1. **Figure Setup**:\n",
    "\n",
    "    A new figure is created with a specified size and a title that reads \"Comparison of Different Density Methods\". This sets the context for the visual comparison.\n",
    "\n",
    "2. **Plotting Density Data**:\n",
    "    \n",
    "    The function iterates through the levels_data dictionary, where each key represents a level (or method) and each value is a pandas Series containing density data.\n",
    "    For each level, a plot is created using the corresponding density data. The x-axis represents the frame, and the y-axis represents the density ($\\rho$) in units of 1/$m^2$.\n",
    "    Colors for each level are fetched from the colors dictionary. If a color is not specified for a level, it defaults to blue.\n",
    "\n",
    "3. **Axis Labels and Grid**:\n",
    "    \n",
    "    The x-axis is labeled `Frame` to indicate the time frame of the data.\n",
    "    The y-axis is labeled $\\rho$ / 1/$m^2$ to specify the density units.\n",
    "    A grid is added to the plot to enhance readability.\n",
    "\n",
    "4. **Legend**:\n",
    "\n",
    "    A legend is generated automatically based on the labels provided for each level, making it easy to distinguish between different density estimation methods.\n",
    "\n",
    "5. **Display**:\n",
    "\n",
    "    Finally, the function displays the figure, providing a comparative visual representation of pedestrian density over time for each specified method."
   ],
   "metadata": {
    "collapsed": false
   },
   "id": "d302715ca59d9e46"
  },
  {
   "cell_type": "code",
   "outputs": [],
   "source": [
    "def plot_density_comparison(levels_data: dict, colors: dict, level_name: str) -> None:\n",
    "\n",
    "    fig = plt.figure()\n",
    "    fig.set_size_inches(6, 6)\n",
    "    plt.title(\"Comparison of different density methods\")\n",
    "\n",
    "    for level, data in levels_data.items():\n",
    "        plt.plot(\n",
    "            data.index,\n",
    "            data.values,\n",
    "            label=level,\n",
    "            color=colors.get(level, 'blue')  \n",
    "        )\n",
    "\n",
    "    plt.xlabel(\"frame\")\n",
    "    plt.ylabel(\"$\\\\rho$ / 1/$m^2$\")\n",
    "    plt.grid()\n",
    "    plt.legend()\n",
    "    \n",
    "    path = f'../output/runs/{group}/{run}/plots/{level_name}/'\n",
    "    os.makedirs(path, exist_ok=True)\n",
    "    plt.savefig(path + f'density_{run}.png')\n",
    "    plt.show()"
   ],
   "metadata": {
    "collapsed": false,
    "ExecuteTime": {
     "end_time": "2025-03-07T15:26:59.646475800Z",
     "start_time": "2025-03-07T15:26:59.498981500Z"
    }
   },
   "id": "e81e5ae9599dada4",
   "execution_count": 7
  },
  {
   "cell_type": "markdown",
   "source": [
    "### Definition of Spatial Regions and Obstacle Handling\n",
    "\n",
    "In this section, we establish the framework for defining spatial regions within the pedestrian environment, managing obstacles, and implementing cutoff strategies. The functions developed here lay the groundwork for creating walkable areas, delineating obstacles, and applying cutoff parameters to focus analysis on relevant pedestrian dynamics. Through these functionalities, we ensure accurate representation and effective management of spatial features influencing pedestrian movement and behavior."
   ],
   "metadata": {
    "collapsed": false
   },
   "id": "b6ad6633058cbe94"
  },
  {
   "cell_type": "markdown",
   "source": [
    "### Curve-C\n",
    "\n",
    "This segment focuses specifically on defining spatial regions and managing obstacles within the `Curve-C` area. Here's a breakdown of the components developed for this particular region:\n"
   ],
   "metadata": {
    "collapsed": false
   },
   "id": "80098db10d5c96db"
  },
  {
   "cell_type": "code",
   "outputs": [],
   "source": [
    "complete_area = Polygon(\n",
    "    [\n",
    "        (10, -10),\n",
    "        (10, 10),\n",
    "        (-10, 10),\n",
    "        (-10, -10),\n",
    "    ]\n",
    ")\n",
    "obstacles = [\n",
    "    Polygon(\n",
    "        [\n",
    "            (9.999, -6.5),\n",
    "            (-7, -6.5),\n",
    "            (-7, 6.5),\n",
    "            (9.999, 6.5),\n",
    "            (9.999, 5.5),\n",
    "            (-6, 5.5),\n",
    "            (-6, -5.5),\n",
    "            (9.999, -5.5),\n",
    "        ]\n",
    "    ),\n",
    "]\n",
    "\n",
    "curve_c_final_target = [\n",
    "    [(7.3, 6.5), (7.3, 9.999), (9.999, 9.999), (9.999, 6.5)],\n",
    "]\n",
    "\n",
    "curve_c_start_area = [\n",
    "    [(8, -8), (8, -9), (9, -9), (9, -8)],\n",
    "]\n",
    "\n",
    "obstacle = shapely.union_all(obstacles)\n",
    "curve_c_area = pedpy.WalkableArea(shapely.difference(complete_area, obstacle))\n",
    "\n",
    "curve_c_traj = extract_trajectories(\n",
    "    Path(\"../output/pedpy/CurveCBatch.txt\")\n",
    ")\n",
    "\n",
    "# curve_c_individual = compute_individual_voronoi_polygons(\n",
    "#     traj_data=curve_c_traj[0], \n",
    "#     walkable_area=curve_c_area\n",
    "# )\n",
    "# \n",
    "# curve_c_individual_cutoff = compute_individual_voronoi_polygons(\n",
    "#     traj_data=curve_c_traj[0], \n",
    "#     walkable_area=curve_c_area,\n",
    "#     cut_off= Cutoff(radius=1, quad_segments=3),\n",
    "# )"
   ],
   "metadata": {
    "collapsed": false,
    "ExecuteTime": {
     "end_time": "2025-03-07T15:26:59.661282600Z",
     "start_time": "2025-03-07T15:26:59.512434500Z"
    }
   },
   "id": "6f91485e586b6039",
   "execution_count": 8
  },
  {
   "cell_type": "markdown",
   "source": [
    "### Double Door Opposite\n",
    "\n",
    "This segment focuses specifically on defining spatial regions and managing obstacles within the `Double Door Opposite` area. Here's a breakdown of the components developed for this particular region:"
   ],
   "metadata": {
    "collapsed": false
   },
   "id": "64d7b17c9d433960"
  },
  {
   "cell_type": "code",
   "outputs": [],
   "source": [
    "complete_area = Polygon(\n",
    "    # Room\n",
    "    [\n",
    "        (10, -10),\n",
    "        (10, 10),\n",
    "        (-10, 10),\n",
    "        (-10, -10),\n",
    "    ],\n",
    ")\n",
    "obstacles = [\n",
    "    Polygon(\n",
    "        # bottom right barrier\n",
    "        [\n",
    "            (9.999, -4.0),\n",
    "            (6.5, -4.0),\n",
    "            (6.5, -3.0),\n",
    "            (9.999, -3.0)\n",
    "        ]\n",
    "    ),\n",
    "    Polygon(\n",
    "        # bottom left barrier\n",
    "        [\n",
    "            (-9.999, -4.0),\n",
    "            (3.5, -4.0),\n",
    "            (3.5, -3.0),\n",
    "            (-9.999, -3.0)\n",
    "        ]\n",
    "    ),\n",
    "    Polygon(\n",
    "        # top right barrier\n",
    "        [\n",
    "            (-9.999, 4.0),\n",
    "            (-6.5, 4.0),\n",
    "            (-6.5, 3.0),\n",
    "            (-9.999, 3.0)\n",
    "        ]\n",
    "    ),\n",
    "    Polygon(\n",
    "        # top left barrier\n",
    "        [\n",
    "            (9.999, 4.0),\n",
    "            (-3.5, 4.0),\n",
    "            (-3.5, 3.0),\n",
    "            (9.999, 3.0)\n",
    "        ]\n",
    "    )   \n",
    "]\n",
    "\n",
    "\n",
    "double_door_opposite_final_target = [\n",
    "    [(-9.999, 8), (-9.999, 9.999), (9.999, 9.999), (9.999, 8)],\n",
    "    [(-9.999, -8), (-9.999, -9.999), (9.999, -9.999), (9.999, -8)]\n",
    "]\n",
    "\n",
    "double_door_opposite_start_area = [\n",
    "    [(1.7, -7.5), (6.1, -7.5), (6.1, -8.5), (1.7, -8.5)],\n",
    "    [(-1.7, 7.5), (-6.1, 7.5), (-6.1, 8.5), (-1.7, 8.5)]\n",
    "   \n",
    "]\n",
    "\n",
    "obstacle = shapely.union_all(obstacles)\n",
    "double_door_opposite_area = pedpy.WalkableArea(shapely.difference(complete_area, obstacle))\n",
    "\n",
    "double_door_opposite_traj = extract_trajectories(\n",
    "    Path(\"../output/pedpy/DoubleDoorOppositeBatch.txt\")\n",
    ")\n",
    "\n",
    "# double_door_opposite_individual = (\n",
    "#     compute_individual_voronoi_polygons(\n",
    "#         traj_data=double_door_opposite_traj[0], \n",
    "#         walkable_area=double_door_opposite_area\n",
    "#     )\n",
    "# )\n",
    "    \n",
    "\n",
    "# double_door_opposite_individual_cutoff = (\n",
    "#     compute_individual_voronoi_polygons(\n",
    "#         traj_data=double_door_opposite_traj[0], \n",
    "#         walkable_area=double_door_opposite_area,\n",
    "#         cut_off= Cutoff(radius=1, quad_segments=3),\n",
    "#     )\n",
    "# )\n",
    "# \n",
    "# double_door_opposite_ma = MeasurementArea(\n",
    "#      [(4, -2.5), (4, -4.5), (6, -4.5), (6, -2.5)]\n",
    "# )\n",
    "#  \n",
    "# double_door_opposite_classic_density = (\n",
    "#         compute_classic_density(\n",
    "#             traj_data=double_door_opposite_traj[0], \n",
    "#             measurement_area=double_door_opposite_ma\n",
    "#         )\n",
    "# )\n",
    "# \n",
    "# double_door_opposite_density_voronoi, _ = compute_voronoi_density(\n",
    "#     individual_voronoi_data=double_door_opposite_individual, measurement_area=double_door_opposite_ma\n",
    "# )\n",
    "# \n",
    "# double_door_opposite_density_voronoi_cutoff, _ = compute_voronoi_density(\n",
    "#     individual_voronoi_data=double_door_opposite_individual_cutoff, measurement_area=double_door_opposite_ma\n",
    "# )\n",
    "# \n",
    "# double_door_opposite_data = {\n",
    "#     \"Double Door Opposite Classic\": double_door_opposite_classic_density,\n",
    "#     \"Double Door Opposite Voronoi\": double_door_opposite_density_voronoi,\n",
    "#     \"Double Door Opposite Voronoi with Cutoff\": double_door_opposite_density_voronoi_cutoff,\n",
    "# }\n",
    "# \n",
    "# double_door_opposite_colors = {\n",
    "#     \"Double Door Opposite Classic\": \"blue\",\n",
    "#     \"Double Door Opposite Voronoi\": \"orange\",\n",
    "#     \"Double Door Opposite Voronoi with Cutoff\": \"grey\",\n",
    "# }\n"
   ],
   "metadata": {
    "collapsed": false,
    "ExecuteTime": {
     "end_time": "2025-03-07T15:26:59.677851400Z",
     "start_time": "2025-03-07T15:26:59.545326800Z"
    }
   },
   "id": "d3bb21f5ceebaf65",
   "execution_count": 9
  },
  {
   "cell_type": "markdown",
   "source": [
    "### Anchor\n",
    "\n",
    "This segment focuses specifically on defining spatial regions and managing obstacles within the `Anchor` area. Here's a breakdown of the components developed for this particular region:"
   ],
   "metadata": {
    "collapsed": false
   },
   "id": "284b3d365092c6cd"
  },
  {
   "cell_type": "code",
   "outputs": [],
   "source": [
    "complete_area = Polygon(\n",
    "    # Room\n",
    "    [\n",
    "        (10, -10),\n",
    "        (10, 10),\n",
    "        (-10, 10),\n",
    "        (-10, -10),\n",
    "    ],\n",
    ")\n",
    "        \n",
    "obstacles = [\n",
    "    Polygon(\n",
    "         # bottom left barrier\n",
    "        [\n",
    "            (-9.999, 3.8),\n",
    "            (-9.999, 5.8),\n",
    "            (-3.9, -4.5),\n",
    "            (-5.1, -4.5),\n",
    "        ],\n",
    "    ),\n",
    "    Polygon(\n",
    "         #top left anchor\n",
    "        [\n",
    "            (-2.0, 2.3),\n",
    "            (-2.0, 9.999),\n",
    "            (-3.0, 9.999),\n",
    "            (-3.0, 4.5),\n",
    "            (-6.2, 9.999),\n",
    "            (-7.5, 9.999),\n",
    "            (-3.0, 2.3),\n",
    "        ],   \n",
    "    ),\n",
    "    Polygon(\n",
    "        # bottom right barrier\n",
    "        [\n",
    "            (9.999, 3.8),\n",
    "            (9.999, 5.8),\n",
    "            (3.9, -4.5),\n",
    "            (5.1, -4.5),\n",
    "        ],     \n",
    "    ),\n",
    "    Polygon(\n",
    "        #top left anchor\n",
    "        [\n",
    "            (2.0, 2.3),\n",
    "            (2.0, 9.999),\n",
    "            (3.0, 9.999),\n",
    "            (3.0, 4.5),\n",
    "            (6.2, 9.999),\n",
    "            (7.5, 9.999),\n",
    "            (3.0, 2.3),\n",
    "        ],\n",
    "    ),\n",
    "    Polygon(\n",
    "        #bottom barrier\n",
    "        [\n",
    "            (-9.999, -4.51),\n",
    "            (9.999, -4.51),\n",
    "            (9.999, -5.5),\n",
    "            (-9.999, -5.5),\n",
    "        ]\n",
    "        \n",
    "    )\n",
    "]\n",
    "\n",
    "\n",
    "anchor_final_target = [\n",
    "    [(-2, 6.7), (-2, 9.999), (2, 9.999), (2, 6.7)]\n",
    "]\n",
    "\n",
    "anchor_start_area = [\n",
    "    [(-7.5, 7), (-7.5, 8), (-8.5, 8), (-8.5, 7)],\n",
    "    [(-6.5, 3.5), (-5.5, 3.5), (-5.5, 2.5), (-6.5, 2.5)],\n",
    "    [(7.5, 7), (7.5, 8), (8.5, 8), (8.5, 7)],\n",
    "    [(6.5, 3.5), (5.5, 3.5), (5.5, 2.5), (6.5, 2.5)],\n",
    "   \n",
    "]\n",
    "\n",
    "obstacle = shapely.union_all(obstacles)\n",
    "anchor_area = pedpy.WalkableArea(shapely.difference(complete_area, obstacle))\n",
    "\n",
    "anchor_traj = extract_trajectories(\n",
    "    Path(\"../output/pedpy/AnchorBatch.txt\")\n",
    ")\n",
    "\n",
    "# anchor_individual = (\n",
    "#     compute_individual_voronoi_polygons(\n",
    "#             traj_data=anchor_traj[0], \n",
    "#             walkable_area=anchor_area\n",
    "#     )\n",
    "# )\n",
    "# \n",
    "# \n",
    "# anchor_individual_cutoff = (\n",
    "#         compute_individual_voronoi_polygons(\n",
    "#             traj_data=anchor_traj[0], \n",
    "#             walkable_area=anchor_area,\n",
    "#             cut_off= Cutoff(radius=1, quad_segments=3)\n",
    "#     )\n",
    "# )\n",
    "# \n",
    "# anchor_ma = MeasurementArea(\n",
    "#     [(-2, 1), (-2, 3), (2, 3), (2, 1)]\n",
    "# )\n",
    "# \n",
    "# anchor_classic_density = (\n",
    "#     compute_classic_density(\n",
    "#         traj_data=anchor_traj[0], \n",
    "#         measurement_area=anchor_ma\n",
    "#     )\n",
    "# )\n",
    "# \n",
    "# anchor_density_voronoi, _ = compute_voronoi_density(\n",
    "#     individual_voronoi_data=anchor_individual, measurement_area=anchor_ma\n",
    "# )\n",
    "# \n",
    "# anchor_density_voronoi_cutoff, _ = compute_voronoi_density(\n",
    "#     individual_voronoi_data=anchor_individual_cutoff, measurement_area=anchor_ma\n",
    "# )\n",
    "\n",
    "# anchor_data = {\n",
    "#     \"Anchor Classic\": anchor_classic_density,\n",
    "#     \"Anchor Voronoi\": anchor_density_voronoi,\n",
    "#     \"Anchor Voronoi with Cutoff\": anchor_density_voronoi_cutoff,\n",
    "# }\n",
    "# \n",
    "# anchor_colors = {\n",
    "#     \"Anchor Classic\": \"blue\",\n",
    "#     \"Anchor Voronoi\": \"orange\",\n",
    "#     \"Anchor Voronoi with Cutoff\": \"grey\",\n",
    "# }"
   ],
   "metadata": {
    "collapsed": false,
    "ExecuteTime": {
     "end_time": "2025-03-07T15:26:59.691988600Z",
     "start_time": "2025-03-07T15:26:59.562050500Z"
    }
   },
   "id": "b4a39f12a3cdb1d5",
   "execution_count": 10
  },
  {
   "cell_type": "markdown",
   "source": [
    "### Omega\n",
    "\n",
    "This segment focuses specifically on defining spatial regions and managing obstacles within the `Omega` area. Here's a breakdown of the components developed for this particular region:"
   ],
   "metadata": {
    "collapsed": false
   },
   "id": "6d2b497193d0a965"
  },
  {
   "cell_type": "code",
   "outputs": [],
   "source": [
    "complete_area = Polygon(\n",
    "    # Room\n",
    "    [\n",
    "        (10, -10),\n",
    "        (10, 10),\n",
    "        (-10, 10),\n",
    "        (-10, -10),\n",
    "    ],\n",
    ")\n",
    "        \n",
    "obstacles = [\n",
    "    Polygon(\n",
    "        # bottom left barrier\n",
    "        [\n",
    "            (-6.5, -9.999),\n",
    "            (-6.5, -3.6),\n",
    "            (2.45, -3.6),\n",
    "            (2.45, -9.999),\n",
    "            (1.45, -9.999),\n",
    "            (1.45, -4.6),\n",
    "            (-5.5, -4.6),\n",
    "            (-5.5, -9.999),\n",
    "        ]\n",
    "    ),\n",
    "    Polygon(\n",
    "        # mid barrier\n",
    "        [\n",
    "            (-9.999, -0.5),\n",
    "            (6.15, -0.5),\n",
    "            (6.15, -6.5),\n",
    "            (7.15, -6.5),\n",
    "            (7.15, 6.6),\n",
    "            (6.15, 6.6),\n",
    "            (-4.0, 0.5),\n",
    "            (-9.999, 0.5),\n",
    "        ]  \n",
    "    ),\n",
    "    Polygon(\n",
    "        [\n",
    "            (-6.5, 9.999),\n",
    "            (-6.5, 3.8),\n",
    "            (-5.5, 3.8),\n",
    "            (4.35, 9.999),\n",
    "            (2.45, 9.999),\n",
    "            \n",
    "        ]\n",
    "    )\n",
    "]\n",
    "\n",
    "omega_final_target = [\n",
    "    [(-9.999, 6.4), (-9.999, 9.999), (-6.4, 9.999), (-6.4, 6.4)]\n",
    "]\n",
    "\n",
    "omega_start_area = [\n",
    "    [(-8, -8), (-8, -9), (-9, -9), (-9, -8)],   \n",
    "]\n",
    "\n",
    "obstacle = shapely.union_all(obstacles)\n",
    "omega_area = pedpy.WalkableArea(shapely.difference(complete_area, obstacle))\n",
    "\n",
    "omega_traj = extract_trajectories(\n",
    "    Path(\"../output/pedpy/OmegaBatch.txt\")\n",
    ")\n",
    "\n",
    "# omega_individual = compute_individual_voronoi_polygons(\n",
    "#     traj_data=omega_traj[0], \n",
    "#     walkable_area=omega_area\n",
    "# )\n",
    "# \n",
    "# omega_individual_cutoff = compute_individual_voronoi_polygons(\n",
    "#     traj_data=omega_traj[0], \n",
    "#     walkable_area=omega_area,\n",
    "#     cut_off= Cutoff(radius=1, quad_segments=3),\n",
    "# )"
   ],
   "metadata": {
    "collapsed": false,
    "ExecuteTime": {
     "end_time": "2025-03-07T15:26:59.707988700Z",
     "start_time": "2025-03-07T15:26:59.593740100Z"
    }
   },
   "id": "66a0ba81c3f0cf44",
   "execution_count": 11
  },
  {
   "cell_type": "markdown",
   "source": [
    "### Door Choice\n",
    "\n",
    "This segment focuses specifically on defining spatial regions and managing obstacles within the `Door Choice` area. Here's a breakdown of the components developed for this particular region:"
   ],
   "metadata": {
    "collapsed": false
   },
   "id": "1eacd0d46d469d2c"
  },
  {
   "cell_type": "code",
   "outputs": [],
   "source": [
    "complete_area = Polygon(\n",
    "    # Room\n",
    "    [\n",
    "        (10, -10),\n",
    "        (10, 10),\n",
    "        (-10, 10),\n",
    "        (-10, -10),\n",
    "    ],\n",
    ")\n",
    "        \n",
    "obstacles = [\n",
    "    Polygon(\n",
    "        [\n",
    "            (-9.999, 2.5),\n",
    "            (-9.999, 3.5),\n",
    "            (-2.0, 3.5),\n",
    "            (-2.0, 2.5),\n",
    "        ]\n",
    "    ),\n",
    "    Polygon(\n",
    "        [\n",
    "            (9.999, 2.5),\n",
    "            (9.999, 3.5),\n",
    "            (2.0, 3.5),\n",
    "            (2.0, 2.5),\n",
    "        ] \n",
    "    ),\n",
    "    Polygon(\n",
    "        [\n",
    "            (-9.999, -2.5),\n",
    "            (-9.999, -3.5),\n",
    "            (-6.0, -3.5),\n",
    "            (-6.0, -2.5),\n",
    "        ]\n",
    "    ),\n",
    "    Polygon(\n",
    "        [\n",
    "            (9.999, -2.5),\n",
    "            (9.999, -3.5),\n",
    "            (6.0, -3.5),\n",
    "            (6.0, -2.5),\n",
    "        ]\n",
    "    ),\n",
    "    Polygon(\n",
    "        [\n",
    "            (-2.0, -2.5),\n",
    "            (-2.0, -3.5),\n",
    "            (2.0, -3.5),\n",
    "            (2.0, -2.5),\n",
    "        ]\n",
    "    )\n",
    "]\n",
    "\n",
    "door_choice_final_target = [\n",
    "    [(-9.999, 8), (-9.999, 9.999), (9.999, 9.999), (9.999, 8)]\n",
    "]\n",
    "\n",
    "door_choice_start_area = [\n",
    "    [(-8, -5), (-8, -9), (8, -9), (8, -5)],   \n",
    "]\n",
    "\n",
    "obstacle = shapely.union_all(obstacles)\n",
    "door_choice_area = pedpy.WalkableArea(shapely.difference(complete_area, obstacle))\n",
    "\n",
    "door_choice_traj = extract_trajectories(\n",
    "    Path(\"../output/pedpy/DoorChoiceBatch.txt\")\n",
    ")\n",
    "\n",
    "# door_choice_individual = compute_individual_voronoi_polygons(\n",
    "#     traj_data=door_choice_traj[0], \n",
    "#     walkable_area=door_choice_area\n",
    "# )\n",
    "# \n",
    "# door_choice_individual_cutoff = compute_individual_voronoi_polygons(\n",
    "#     traj_data=door_choice_traj[0], \n",
    "#     walkable_area=door_choice_area,\n",
    "#     cut_off= Cutoff(radius=1, quad_segments=3),\n",
    "# )"
   ],
   "metadata": {
    "collapsed": false,
    "ExecuteTime": {
     "end_time": "2025-03-07T15:26:59.773298600Z",
     "start_time": "2025-03-07T15:26:59.606292400Z"
    }
   },
   "id": "cfce1076e293711c",
   "execution_count": 12
  },
  {
   "cell_type": "markdown",
   "source": [
    "### VCross\n",
    "\n",
    "This segment focuses specifically on defining spatial regions and managing obstacles within the `VCross` area. Here's a breakdown of the components developed for this particular region:"
   ],
   "metadata": {
    "collapsed": false
   },
   "id": "b6ef59198dc07240"
  },
  {
   "cell_type": "code",
   "outputs": [],
   "source": [
    "complete_area = Polygon(\n",
    "    # Room\n",
    "    [\n",
    "        (10, -10),\n",
    "        (10, 10),\n",
    "        (-10, 10),\n",
    "        (-10, -10),\n",
    "    ],\n",
    ")\n",
    "        \n",
    "obstacles = [\n",
    "    Polygon(\n",
    "        [\n",
    "            (-9.999, -5),\n",
    "            (-9.999, -6),\n",
    "            (-4.5, -6),\n",
    "            (-4.5, -5),\n",
    "            (-9.999, 7),\n",
    "            (-9.999, 4.5),\n",
    "            (-5.6, -5),\n",
    "        ]\n",
    "    ),\n",
    "    Polygon(\n",
    "        [\n",
    "            (9.999, -5),\n",
    "            (9.999, -6),\n",
    "            (4.5, -6),\n",
    "            (4.5, -5),\n",
    "            (9.999, 7),\n",
    "            (9.999, 4.5),\n",
    "            (5.6, -5),\n",
    "        ]\n",
    "    ),\n",
    "    Polygon(\n",
    "        [\n",
    "            (-0.4, -2.5),\n",
    "            (0.4, -2.5),\n",
    "            (6.1, 9.999),\n",
    "            (5, 9.999),\n",
    "            (0, -1),\n",
    "            (-5, 9.999),\n",
    "            (-6.1, 9.999),\n",
    "        ]\n",
    "    ),\n",
    "]\n",
    "\n",
    "v_cross_final_target = [\n",
    "    [(-9.999, 7), (-5.7, 9), (-5.2, 8), (-9.5, 5.9)],\n",
    "    [(9.999, 7), (5.7, 9), (5.2, 8), (9.5, 5.9)],\n",
    "]\n",
    "\n",
    "v_cross_start_area = [\n",
    "    [(9.999, -9.999), (6.5, -9.999), (6.5, -6), (9.999, -6)],   \n",
    "    [(-9.999, -9.999), (-6.5, -9.999), (-6.5, -6), (-9.999, -6)],   \n",
    "]\n",
    "\n",
    "obstacle = shapely.union_all(obstacles)\n",
    "v_cross_area = pedpy.WalkableArea(shapely.difference(complete_area, obstacle))\n",
    "\n",
    "v_cross_traj = extract_trajectories(\n",
    "    Path(\"../output/pedpy/VCrossBatch.txt\")\n",
    ")\n",
    "\n",
    "# v_cross_individual = compute_individual_voronoi_polygons(\n",
    "#     traj_data=door_choice_traj[0], \n",
    "#     walkable_area=door_choice_area\n",
    "# )\n",
    "# \n",
    "# v_cross_individual_cutoff = compute_individual_voronoi_polygons(\n",
    "#     traj_data=door_choice_traj[0], \n",
    "#     walkable_area=door_choice_area,\n",
    "#     cut_off= Cutoff(radius=1, quad_segments=3),\n",
    "# )"
   ],
   "metadata": {
    "collapsed": false,
    "ExecuteTime": {
     "end_time": "2025-03-07T15:26:59.810257700Z",
     "start_time": "2025-03-07T15:26:59.624467500Z"
    }
   },
   "id": "678d9c81c7f75d0a",
   "execution_count": 13
  },
  {
   "cell_type": "markdown",
   "source": [
    "### Blind Curve\n",
    "\n",
    "This segment focuses specifically on defining spatial regions and managing obstacles within the `Blind Curve` area. Here's a breakdown of the components developed for this particular region:"
   ],
   "metadata": {
    "collapsed": false
   },
   "id": "74fa44324450a98"
  },
  {
   "cell_type": "code",
   "outputs": [],
   "source": [
    "complete_area = Polygon(\n",
    "    # Room\n",
    "    [\n",
    "        (10, -10),\n",
    "        (10, 10),\n",
    "        (-10, 10),\n",
    "        (-10, -10),\n",
    "    ],\n",
    ")\n",
    "        \n",
    "obstacles = [\n",
    "    Polygon(\n",
    "        [\n",
    "            (-4.5, -4),\n",
    "            (-4.5, -9.999),\n",
    "            (-5.5, -9.999),\n",
    "            (-5.5, -4),\n",
    "        ]\n",
    "    ),\n",
    "    Polygon(\n",
    "        [\n",
    "            (-9.999, 1),\n",
    "            (-4.5, 1),\n",
    "            (-4.5, 9.999),\n",
    "            (-5.5, 9.999),\n",
    "            (-5.5, 2),\n",
    "            (-9.999, 2),\n",
    "        ]\n",
    "    ),\n",
    "    Polygon(\n",
    "        [\n",
    "            (0.5, -9.999),\n",
    "            (1.5, -9.999),\n",
    "            (1.5, -4),\n",
    "            (9.999, -4),\n",
    "            (9.999, -3),\n",
    "            (0.5, -3),\n",
    "        ]\n",
    "    ),\n",
    "    Polygon(\n",
    "        [\n",
    "            (0.5, 9.999),\n",
    "            (1.5, 9.999),\n",
    "            (1.5, 2),\n",
    "            (9.999, 2),\n",
    "            (9.999, 1),\n",
    "            (0.5, 1),\n",
    "        ]\n",
    "    ),\n",
    "]\n",
    "\n",
    "blind_curve_final_target = [\n",
    "    [(0.5, -9.999), (0.5, -9), (-4.5, -9), (-4.5, -9.999)],\n",
    "    [(9, -3), (9.999, -3), (9.999, 1), (9, 1)],\n",
    "]\n",
    "\n",
    "blind_curve_start_area = [\n",
    "    [(-4.5, 6), (0.5, 6), (0.5, 9.999), (-4.5, 9.999)],   \n",
    "    [(-9.999, -9.999), (-5.5, -9.999), (-5.5, -7), (-9.999, -7)],   \n",
    "]\n",
    "\n",
    "obstacle = shapely.union_all(obstacles)\n",
    "blind_curve_area = pedpy.WalkableArea(shapely.difference(complete_area, obstacle))\n",
    "\n",
    "blind_curve_traj = extract_trajectories(\n",
    "    Path(\"../output/pedpy/BlindCurveBatch.txt\")\n",
    ")\n",
    "\n",
    "# blind_curve_individual = compute_individual_voronoi_polygons(\n",
    "#     traj_data=door_choice_traj[0], \n",
    "#     walkable_area=door_choice_area\n",
    "# )\n",
    "# \n",
    "# blind_curve_individual_cutoff = compute_individual_voronoi_polygons(\n",
    "#     traj_data=door_choice_traj[0], \n",
    "#     walkable_area=door_choice_area,\n",
    "#     cut_off= Cutoff(radius=1, quad_segments=3),\n",
    "# )"
   ],
   "metadata": {
    "collapsed": false,
    "ExecuteTime": {
     "end_time": "2025-03-07T15:26:59.835116400Z",
     "start_time": "2025-03-07T15:26:59.639250Z"
    }
   },
   "id": "ebc36f0646226bf6",
   "execution_count": 14
  },
  {
   "cell_type": "markdown",
   "source": [
    "## Visualization\n",
    "\n"
   ],
   "metadata": {
    "collapsed": false
   },
   "id": "9735d285f473e21"
  },
  {
   "cell_type": "markdown",
   "source": [
    "### VCross"
   ],
   "metadata": {
    "collapsed": false
   },
   "id": "18007fbab9c56467"
  },
  {
   "cell_type": "code",
   "outputs": [
    {
     "data": {
      "text/plain": "<Figure size 640x480 with 1 Axes>",
      "image/png": "[encoded data removed]"
     },
     "metadata": {},
     "output_type": "display_data"
    }
   ],
   "source": [
    "plot_trajectories(v_cross_traj, v_cross_area,\"V Cross\", v_cross_final_target, v_cross_start_area)"
   ],
   "metadata": {
    "collapsed": false,
    "ExecuteTime": {
     "end_time": "2025-03-07T15:27:00.033818500Z",
     "start_time": "2025-03-07T15:26:59.652050500Z"
    }
   },
   "id": "a54a115fbe45dd21",
   "execution_count": 15
  },
  {
   "cell_type": "code",
   "outputs": [],
   "source": [
    "# plot_speed_profiles(v_cross_traj, v_cross_area, \"V Cross\", 0, 3000)"
   ],
   "metadata": {
    "collapsed": false,
    "ExecuteTime": {
     "end_time": "2025-03-07T15:27:00.061106400Z",
     "start_time": "2025-03-07T15:27:00.007916600Z"
    }
   },
   "id": "50240f84af71ac19",
   "execution_count": 16
  },
  {
   "cell_type": "markdown",
   "source": [
    "### Blind Curve"
   ],
   "metadata": {
    "collapsed": false
   },
   "id": "e1e5b20c7b2fef85"
  },
  {
   "cell_type": "code",
   "outputs": [
    {
     "data": {
      "text/plain": "<Figure size 640x480 with 1 Axes>",
      "image/png": "[encoded data removed]"
     },
     "metadata": {},
     "output_type": "display_data"
    }
   ],
   "source": [
    "plot_trajectories(blind_curve_traj, blind_curve_area,\"Blind Curve\", blind_curve_final_target, blind_curve_start_area)"
   ],
   "metadata": {
    "collapsed": false,
    "ExecuteTime": {
     "end_time": "2025-03-07T15:27:00.304928Z",
     "start_time": "2025-03-07T15:27:00.022420800Z"
    }
   },
   "id": "4085541c5597e176",
   "execution_count": 17
  },
  {
   "cell_type": "code",
   "outputs": [],
   "source": [
    "# plot_speed_profiles(blind_curve_traj, blind_curve_area, \"Blind Curve\", 0, 3000)"
   ],
   "metadata": {
    "collapsed": false,
    "ExecuteTime": {
     "end_time": "2025-03-07T15:27:00.316957500Z",
     "start_time": "2025-03-07T15:27:00.298879700Z"
    }
   },
   "id": "10ce440dc41c1863",
   "execution_count": 18
  },
  {
   "cell_type": "markdown",
   "source": [
    "### Curve-C"
   ],
   "metadata": {
    "collapsed": false
   },
   "id": "a2131d0787aed329"
  },
  {
   "cell_type": "code",
   "outputs": [
    {
     "data": {
      "text/plain": "<Figure size 640x480 with 1 Axes>",
      "image/png": "[encoded data removed]"
     },
     "metadata": {},
     "output_type": "display_data"
    }
   ],
   "source": [
    "plot_trajectories(curve_c_traj, curve_c_area,\"Curve C\", curve_c_final_target, curve_c_start_area)"
   ],
   "metadata": {
    "collapsed": false,
    "ExecuteTime": {
     "end_time": "2025-03-07T15:27:00.601448300Z",
     "start_time": "2025-03-07T15:27:00.313830300Z"
    }
   },
   "id": "e03e64318319016a",
   "execution_count": 19
  },
  {
   "cell_type": "code",
   "outputs": [],
   "source": [
    "# plot_speed_profiles(curve_c_traj, curve_c_area, \"Curve C\", 0, 3000)"
   ],
   "metadata": {
    "collapsed": false,
    "ExecuteTime": {
     "end_time": "2025-03-07T15:27:00.633851700Z",
     "start_time": "2025-03-07T15:27:00.514525500Z"
    }
   },
   "id": "18feb8ad7a8942b2",
   "execution_count": 20
  },
  {
   "cell_type": "markdown",
   "source": [
    "### Double Door Opposite"
   ],
   "metadata": {
    "collapsed": false
   },
   "id": "2c191f962d4985"
  },
  {
   "cell_type": "code",
   "outputs": [
    {
     "data": {
      "text/plain": "<Figure size 640x480 with 1 Axes>",
      "image/png": "[encoded data removed]"
     },
     "metadata": {},
     "output_type": "display_data"
    }
   ],
   "source": [
    "plot_trajectories(double_door_opposite_traj, double_door_opposite_area, \"Double Door Opposite\", double_door_opposite_final_target, double_door_opposite_start_area)"
   ],
   "metadata": {
    "collapsed": false,
    "ExecuteTime": {
     "end_time": "2025-03-07T15:27:00.867049Z",
     "start_time": "2025-03-07T15:27:00.529606800Z"
    }
   },
   "id": "57e007194dc8fc51",
   "execution_count": 21
  },
  {
   "cell_type": "code",
   "outputs": [],
   "source": [
    "# plot_speed_profiles(double_door_opposite_traj, double_door_opposite_area, \"Double Door Opposite\", 0, 2500)"
   ],
   "metadata": {
    "collapsed": false,
    "ExecuteTime": {
     "end_time": "2025-03-07T15:27:00.913751200Z",
     "start_time": "2025-03-07T15:27:00.803747700Z"
    }
   },
   "id": "8ad23dcbf726ef4e",
   "execution_count": 22
  },
  {
   "cell_type": "code",
   "outputs": [],
   "source": [
    "# plot_density_comparison(double_door_opposite_data, double_door_opposite_colors, \"Double Door Opposite\")"
   ],
   "metadata": {
    "collapsed": false,
    "ExecuteTime": {
     "end_time": "2025-03-07T15:27:00.977760300Z",
     "start_time": "2025-03-07T15:27:00.818833900Z"
    }
   },
   "id": "7268408c44cd43c5",
   "execution_count": 23
  },
  {
   "cell_type": "markdown",
   "source": [
    "### Omega"
   ],
   "metadata": {
    "collapsed": false
   },
   "id": "5ed42d007cf8c32b"
  },
  {
   "cell_type": "code",
   "outputs": [
    {
     "data": {
      "text/plain": "<Figure size 640x480 with 1 Axes>",
      "image/png": "[encoded data removed]"
     },
     "metadata": {},
     "output_type": "display_data"
    }
   ],
   "source": [
    "plot_trajectories(omega_traj, omega_area, \"Omega\", omega_final_target, omega_start_area)"
   ],
   "metadata": {
    "collapsed": false,
    "ExecuteTime": {
     "end_time": "2025-03-07T15:27:01.110299200Z",
     "start_time": "2025-03-07T15:27:00.834900600Z"
    }
   },
   "id": "7c935abc9cda87c5",
   "execution_count": 24
  },
  {
   "cell_type": "code",
   "outputs": [],
   "source": [
    "# plot_speed_profiles(omega_traj, omega_area, \"Omega\", 0, 3500)"
   ],
   "metadata": {
    "collapsed": false,
    "ExecuteTime": {
     "end_time": "2025-03-07T15:27:01.170750400Z",
     "start_time": "2025-03-07T15:27:01.034588500Z"
    }
   },
   "id": "d0556ce3bfe7538b",
   "execution_count": 25
  },
  {
   "cell_type": "markdown",
   "source": [
    "### Door Choice"
   ],
   "metadata": {
    "collapsed": false
   },
   "id": "5f4a9860a2da25a6"
  },
  {
   "cell_type": "code",
   "outputs": [
    {
     "data": {
      "text/plain": "<Figure size 640x480 with 1 Axes>",
      "image/png": "[encoded data removed]"
     },
     "metadata": {},
     "output_type": "display_data"
    }
   ],
   "source": [
    "plot_trajectories(door_choice_traj, door_choice_area, \"Door Choice\", door_choice_final_target, door_choice_start_area)"
   ],
   "metadata": {
    "collapsed": false,
    "ExecuteTime": {
     "end_time": "2025-03-07T15:27:01.293730Z",
     "start_time": "2025-03-07T15:27:01.050244Z"
    }
   },
   "id": "9c70bc955cd8d590",
   "execution_count": 26
  },
  {
   "cell_type": "code",
   "outputs": [],
   "source": [
    "# plot_speed_profiles(door_choice_traj, door_choice_area, \"Door Choice\", 0, 1200)"
   ],
   "metadata": {
    "collapsed": false,
    "ExecuteTime": {
     "end_time": "2025-03-07T15:27:01.345748800Z",
     "start_time": "2025-03-07T15:27:01.250351700Z"
    }
   },
   "id": "51f6a9f6226e58b",
   "execution_count": 27
  },
  {
   "cell_type": "markdown",
   "source": [
    "### Anchor"
   ],
   "metadata": {
    "collapsed": false
   },
   "id": "e1e06cce919f8dd"
  },
  {
   "cell_type": "code",
   "outputs": [
    {
     "data": {
      "text/plain": "<Figure size 640x480 with 1 Axes>",
      "image/png": "[encoded data removed]"
     },
     "metadata": {},
     "output_type": "display_data"
    }
   ],
   "source": [
    "plot_trajectories(anchor_traj, anchor_area, \"Anchor\", anchor_final_target, anchor_start_area)"
   ],
   "metadata": {
    "collapsed": false,
    "ExecuteTime": {
     "end_time": "2025-03-07T15:27:01.522848300Z",
     "start_time": "2025-03-07T15:27:01.265859900Z"
    }
   },
   "id": "5d79512fc29cfdc6",
   "execution_count": 28
  },
  {
   "cell_type": "code",
   "outputs": [],
   "source": [
    "# plot_speed_profiles(anchor_traj, anchor_area, \"Anchor\", 0, 1200)"
   ],
   "metadata": {
    "collapsed": false,
    "ExecuteTime": {
     "end_time": "2025-03-07T15:27:01.535902500Z",
     "start_time": "2025-03-07T15:27:01.520326300Z"
    }
   },
   "id": "b9cf07194ee47856",
   "execution_count": 29
  },
  {
   "cell_type": "code",
   "outputs": [],
   "source": [
    "# plot_density_comparison(anchor_data, anchor_colors, \"Anchor\")"
   ],
   "metadata": {
    "collapsed": false,
    "ExecuteTime": {
     "end_time": "2025-03-07T15:27:01.589051800Z",
     "start_time": "2025-03-07T15:27:01.531894400Z"
    }
   },
   "id": "804eaecec5089f89",
   "execution_count": 30
  },
  {
   "cell_type": "markdown",
   "source": [
    "## Density Animation"
   ],
   "metadata": {
    "collapsed": false
   },
   "id": "4ac6f7460aa97a5e"
  },
  {
   "cell_type": "markdown",
   "source": [
    "### Function to Plot Voronoi Density Animation\n",
    "\n",
    "The `plot_voronoi_density_animation` function visualizes changes in pedestrian density within a defined walkable area over a series of frames using Voronoi diagrams, comparing results with and without applying a density cutoff. This animated plot provides insights into the dynamic distribution of pedestrian densities over time. Here's a detailed step-by-step overview of its operations:\n",
    "\n",
    "1. **Initialization**:\n",
    "   - Enables interactive plotting with `%matplotlib notebook` for dynamic updates.\n",
    "   - Initializes a figure with two subplots (`ax1` and `ax2`) and a global color bar at the bottom.\n",
    "\n",
    "2. **Figure and Subplot Configuration**:\n",
    "   - Sets a title for the figure that incorporates the `level_name`.\n",
    "   - Each subplot is set up to display different sets of Voronoi diagrams—without cutoff (`ax1`) and with cutoff (`ax2`).\n",
    "\n",
    "3. **Animation Frame Update Function**:\n",
    "   - Defines an `update` function to refresh the content of each subplot for each frame in the specified range (`frame_start` to `frame_end` with `step` increments).\n",
    "   - Clears previous contents to avoid overlap and resets titles to reflect the current frame.\n",
    "\n",
    "4. **Voronoi Diagram Plotting**:\n",
    "   - For `ax1`, plots Voronoi cells using the provided `voronoi_data` that visualize density without any cutoff.\n",
    "   - For `ax2`, uses `voronoi_data_cutoff` to plot Voronoi cells with a density cutoff, focusing on areas with higher pedestrian influence.\n",
    "   - Both subplots use the same color settings for consistency, defined by the parameters `vmin` and `vmax` to standardize density visualization.\n",
    "\n",
    "5. **Color Bar Setup**:\n",
    "   - Adds a horizontal color bar to the figure, which applies to both subplots, showing the density scale from `vmin` to `vmax`.\n",
    "   - The color bar is labeled to indicate density in units of `1/m^2`, using a gradient color map from green (low density) to yellow (high density).\n",
    "\n",
    "6. **Animation Configuration**:\n",
    "   - Creates an animation (`anim`) using `FuncAnimation` that cycles through the specified frames, calling the `update` function for each frame.\n",
    "   - The animation does not repeat, ending after the last frame is displayed.\n",
    "\n",
    "7. **Display and Return**:\n",
    "   - Displays the animated plot, providing a dynamic visualization of changes in pedestrian density over time.\n",
    "   - Returns the animation object, allowing for further manipulation or saving if required.\n"
   ],
   "metadata": {
    "collapsed": false
   },
   "id": "f34f8676bf1485db"
  },
  {
   "cell_type": "code",
   "outputs": [],
   "source": [
    "# %matplotlib notebook\n",
    "# \n",
    "# def plot_voronoi_density_animation(voronoi_data, voronoi_data_cutoff, traj_data, walkable_area, frame_start, frame_end, step, level_name: str, vmin: int, vmax: int):\n",
    "#     frames = list(range(frame_start, frame_end + 1, step))\n",
    "#     \n",
    "#     fig, (ax1, ax2) = plt.subplots(1, 2, figsize=(18, 10))\n",
    "#     fig.suptitle(f\"Voronoi Density - {level_name}\")\n",
    "#     \n",
    "#     def update(frame):\n",
    "#         ax1.clear()\n",
    "#         ax2.clear()\n",
    "#         \n",
    "#         ax1.set_title(f\"Frame {frame} w/o cutoff\")\n",
    "#         ax1.set_aspect('equal')\n",
    "#         plot_voronoi_cells(\n",
    "#             voronoi_data=voronoi_data,\n",
    "#             traj_data=traj_data,\n",
    "#             frame=frame,\n",
    "#             walkable_area=walkable_area,\n",
    "#             color_by_column=DENSITY_COL,\n",
    "#             axes=ax1,\n",
    "#             show_colorbar=False,\n",
    "#             vmin=vmin,\n",
    "#             vmax=vmax,\n",
    "#         )\n",
    "#         \n",
    "#         ax2.set_title(f\"Frame {frame} w/ cutoff\")\n",
    "#         ax2.set_aspect('equal')\n",
    "#         plot_voronoi_cells(\n",
    "#             voronoi_data=voronoi_data_cutoff,\n",
    "#             traj_data=traj_data,\n",
    "#             frame=frame,\n",
    "#             walkable_area=walkable_area,\n",
    "#             color_by_column=DENSITY_COL,\n",
    "#             axes=ax2,\n",
    "#             show_colorbar=False,\n",
    "#             vmin=vmin,\n",
    "#             vmax=vmax,\n",
    "#         )\n",
    "#         \n",
    "#     cbar_ax = fig.add_axes([0.1, 0.05, 0.8, 0.03])\n",
    "#     norm = mpl.colors.Normalize(vmin=vmin, vmax=vmax)\n",
    "#     sm = plt.cm.ScalarMappable(cmap=plt.get_cmap(\"YlGn\"), norm=norm)\n",
    "#     sm.set_array([])\n",
    "#     plt.colorbar(\n",
    "#         sm,\n",
    "#         cax=cbar_ax,\n",
    "#         shrink=0.1,\n",
    "#         label=\"$\\\\rho$ \\ 1/$m^2$\",\n",
    "#         aspect=2,\n",
    "#         orientation=\"horizontal\",\n",
    "#     )\n",
    "#     \n",
    "#     plt.subplots_adjust(left=0.05, right=0.95, top=0.85, bottom=0.15, wspace=0.2, hspace=0.35)\n",
    "# \n",
    "#     anim = FuncAnimation(fig, update, frames=frames, repeat=False)\n",
    "#     plt.show()\n",
    "#     return anim\n"
   ],
   "metadata": {
    "collapsed": false,
    "ExecuteTime": {
     "end_time": "2025-03-07T15:27:01.611999500Z",
     "start_time": "2025-03-07T15:27:01.547985Z"
    }
   },
   "id": "f0ab409cd54a9df4",
   "execution_count": 31
  },
  {
   "cell_type": "code",
   "outputs": [],
   "source": [
    "#ddo_anim = plot_voronoi_density_animation( double_door_opposite_individual, double_door_opposite_individual_cutoff, double_door_opposite_traj[0], double_door_opposite_area, 0, 80, 2, \"Double Door Opposite\", 0, 3)"
   ],
   "metadata": {
    "collapsed": false,
    "ExecuteTime": {
     "end_time": "2025-03-07T15:27:01.654361800Z",
     "start_time": "2025-03-07T15:27:01.563276Z"
    }
   },
   "id": "e2f21854040fa1c3",
   "execution_count": 32
  },
  {
   "cell_type": "code",
   "outputs": [],
   "source": [
    "#cc_anim = plot_voronoi_density_animation(curve_c_individual, curve_c_individual_cutoff, curve_c_traj[0], curve_c_area, 0, 180, 5, \"Curve-C\", 0, 1)"
   ],
   "metadata": {
    "collapsed": false,
    "ExecuteTime": {
     "end_time": "2025-03-07T15:27:01.664315900Z",
     "start_time": "2025-03-07T15:27:01.576484300Z"
    }
   },
   "id": "c20096e0fdb58d5a",
   "execution_count": 33
  },
  {
   "cell_type": "code",
   "outputs": [],
   "source": [
    "#o_anim = plot_voronoi_density_animation(omega_individual, omega_individual_cutoff, omega_traj[0], omega_area, 0, 150, 5, \"Omega\", 0, 1)"
   ],
   "metadata": {
    "collapsed": false,
    "ExecuteTime": {
     "end_time": "2025-03-07T15:27:01.681928400Z",
     "start_time": "2025-03-07T15:27:01.593135900Z"
    }
   },
   "id": "73a9f1bef1665b4e",
   "execution_count": 34
  },
  {
   "cell_type": "code",
   "outputs": [],
   "source": [
    "#dc_anim = plot_voronoi_density_animation(door_choice_individual, door_choice_individual_cutoff, door_choice_traj[0], door_choice_area, 0, 100, 5, \"Door Choice\", 0, 1)"
   ],
   "metadata": {
    "collapsed": false,
    "ExecuteTime": {
     "end_time": "2025-03-07T15:27:01.685733400Z",
     "start_time": "2025-03-07T15:27:01.606928900Z"
    }
   },
   "id": "1dd1cb053236d63a",
   "execution_count": 35
  },
  {
   "cell_type": "code",
   "outputs": [],
   "source": [
    "#a_anim = plot_voronoi_density_animation(anchor_individual, anchor_individual_cutoff, anchor_traj[0],anchor_area, 0, 50, 2, \"Anchor\", 0, 2)"
   ],
   "metadata": {
    "collapsed": false,
    "ExecuteTime": {
     "end_time": "2025-03-07T15:27:01.688249200Z",
     "start_time": "2025-03-07T15:27:01.623358300Z"
    }
   },
   "id": "1618b26ed550b8a2",
   "execution_count": 36
  },
  {
   "cell_type": "code",
   "outputs": [],
   "source": [],
   "metadata": {
    "collapsed": false,
    "ExecuteTime": {
     "end_time": "2025-03-07T15:27:01.701326300Z",
     "start_time": "2025-03-07T15:27:01.636711600Z"
    }
   },
   "id": "53d3d0d6df52c267",
   "execution_count": 36
  }
 ],
 "metadata": {
  "kernelspec": {
   "display_name": "Python 3",
   "language": "python",
   "name": "python3"
  },
  "language_info": {
   "codemirror_mode": {
    "name": "ipython",
    "version": 2
   },
   "file_extension": ".py",
   "mimetype": "text/x-python",
   "name": "python",
   "nbconvert_exporter": "python",
   "pygments_lexer": "ipython2",
   "version": "2.7.6"
  }
 },
 "nbformat": 4,
 "nbformat_minor": 5
}
