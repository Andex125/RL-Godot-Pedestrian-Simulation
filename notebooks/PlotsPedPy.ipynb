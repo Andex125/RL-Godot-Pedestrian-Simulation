{
 "cells": [
  {
   "cell_type": "markdown",
   "source": [
    "# Analysis and Visualization of Pedestrian Dynamics Using PedPy\n",
    "\n",
    "This notebook focuses on plotting and analyzing pedestrian data, including trajectories, density, and speed metrics, using the `pedpy` library. The goal is to provide insights into pedestrian behavior and flow through visual representations and computational analysis.\n"
   ],
   "metadata": {
    "collapsed": false
   },
   "id": "1c0befaa71e6fd52"
  },
  {
   "cell_type": "markdown",
   "source": [
    "## Data Extraction and Visualization Functions\n",
    "\n",
    "This section comprises functions dedicated to extracting pedestrian trajectory data from input files and visualizing various metrics related to pedestrian dynamics. These functions facilitate the analysis of pedestrian behavior, including trajectory plotting, speed profile computation, and density mapping within defined walkable areas.\n"
   ],
   "metadata": {
    "collapsed": false
   },
   "id": "caf79a98ba737b0a"
  },
  {
   "cell_type": "markdown",
   "source": [
    "### Importing Libraries and Modules\n",
    "\n",
    "The cell imports several essential Python libraries for data analysis and visualization:\n",
    "\n",
    "- `re`: A module for working with regular expressions.\n",
    "- `pedpy`: A specialized library for pedestrian dynamics analysis.\n",
    "- `shapely`: A library for manipulation and analysis of planar geometric objects.\n",
    "- `pandas`: A powerful data manipulation and analysis library providing data structures and operations for manipulating numerical tables and time series.\n",
    "- `matplotlib.pyplot`: A module in matplotlib for plotting graphs.\n",
    "\n",
    "Additionally, it includes imports from `pathlib` for file system path operations, `shapely.Polygon` for creating geometric polygon shapes, and various types from the `typing` module to enhance code readability and maintainability.\n",
    "\n",
    "From `pedpy`, it specifically imports multiple functions and classes related to the computation and plotting of pedestrian dynamics and trajectories, such as speed profiles, grid cell interactions, and Voronoi polygons.\n"
   ],
   "metadata": {
    "collapsed": false
   },
   "id": "a8846cdba6904ba2"
  },
  {
   "cell_type": "code",
   "outputs": [],
   "source": [
    "%matplotlib inline\n",
    "\n",
    "import re\n",
    "import pedpy\n",
    "import shapely\n",
    "import pandas as pd\n",
    "import matplotlib.pyplot as plt\n",
    "import matplotlib as mpl\n",
    "\n",
    "from pathlib import Path\n",
    "from shapely import Polygon\n",
    "from typing import Collection\n",
    "\n",
    "from pedpy.column_identifier import DENSITY_COL\n",
    "from matplotlib.animation import FuncAnimation\n",
    "\n",
    "from pedpy import (\n",
    "    compute_speed_profile, SpeedMethod,\n",
    "    get_grid_cells, compute_grid_cell_polygon_intersection_area,\n",
    "    compute_individual_voronoi_polygons, compute_individual_speed,\n",
    "    SpeedCalculation, Cutoff, plot_profiles,\n",
    "    TrajectoryData, WalkableArea, plot_measurement_setup,\n",
    "    compute_classic_density, MeasurementArea, compute_voronoi_density,\n",
    "    plot_voronoi_cells\n",
    ")\n",
    "\n",
    "import os"
   ],
   "metadata": {
    "collapsed": false,
    "ExecuteTime": {
     "end_time": "2024-06-17T15:38:29.965246700Z",
     "start_time": "2024-06-17T15:38:28.312620300Z"
    }
   },
   "id": "8424faed13c99e3d",
   "execution_count": 1
  },
  {
   "cell_type": "markdown",
   "source": [
    "### Setting save path\n",
    "\n",
    "The next cell contains the variable `group` and `name`, which tells in which folder the plots will be saved into.\n",
    "The full save path will be: *output/runs/{group}/{name}/plots/*"
   ],
   "metadata": {
    "collapsed": false
   },
   "id": "4e152d532727ebcf"
  },
  {
   "cell_type": "code",
   "outputs": [],
   "source": [
    "group = 'high_density'\n",
    "name = 'hd_standard'"
   ],
   "metadata": {
    "collapsed": false,
    "ExecuteTime": {
     "end_time": "2024-06-17T15:38:29.978361300Z",
     "start_time": "2024-06-17T15:38:29.964244300Z"
    }
   },
   "id": "f7c87e88f8436f8",
   "execution_count": 2
  },
  {
   "cell_type": "markdown",
   "source": [
    "### Extracting Trajectories Function\n",
    "\n",
    "This function, `extract_trajectories`, is designed to parse trajectory data from a specified input file and organize it into a usable format for analysis. Here is a breakdown of the process:\n",
    "\n",
    "1. **Reading the Input File**:\n",
    "   - The function reads a CSV file where the delimiter is whitespace (`\\s+`), skipping lines that start with `#`.\n",
    "   - The columns are named explicitly (`'id'`, `'frame'`, `'x'`, `'y'`, `'group'`), with only the necessary columns being used.\n",
    "\n",
    "2. **Grouping Data**:\n",
    "   - The data is grouped by the `group` column, which represent different groups of pedestrian, allowing separate analysis per group.\n",
    "\n",
    "3. **Extracting Frame Rate**:\n",
    "   - The function reads the first line of the file to find a comment indicating the frame rate (`framerate`) of the data, which is essential for time-based analysis in trajectory data.\n",
    "\n",
    "4. **Creating Trajectory Data Objects**:\n",
    "   - For each group, a `TrajectoryData` object is created, holding the dataframe for that group and the extracted frame rate.\n",
    "   - These objects are useful for further processing where time and movement analysis are required."
   ],
   "metadata": {
    "collapsed": false
   },
   "id": "29fc03a491dfe42"
  },
  {
   "cell_type": "code",
   "outputs": [],
   "source": [
    "def extract_trajectories(input_file: Path) -> Collection[TrajectoryData]:\n",
    "    df = pd.read_csv(\n",
    "                input_file,\n",
    "                sep=r\"\\s+\",\n",
    "                comment=\"#\",\n",
    "                header=None,\n",
    "                names=['id', 'frame', 'x', 'y', 'group'],\n",
    "                usecols=[0, 1, 2, 3, 5],\n",
    "    )\n",
    "    groups = df['group'].unique()\n",
    "    \n",
    "    dfs = {}\n",
    "    for group in groups:\n",
    "        dfs[group] = df.loc[df['group'] == group]\n",
    "    \n",
    "    with open(input_file, 'r') as file:\n",
    "        first_line = file.readline().strip()\n",
    "    \n",
    "    match = re.search(r'# framerate: (\\d+) fps', first_line)\n",
    "    if not match:\n",
    "        raise Exception('fps not found in trajectory file')\n",
    "    fps = int(match.group(1))\n",
    "    \n",
    "    trajectories = []\n",
    "    for df in dfs.values():\n",
    "        traj = TrajectoryData(df, fps)\n",
    "        trajectories.append(traj)\n",
    "        \n",
    "    return trajectories"
   ],
   "metadata": {
    "collapsed": false,
    "ExecuteTime": {
     "end_time": "2024-06-17T15:38:30.008871100Z",
     "start_time": "2024-06-17T15:38:29.983362500Z"
    }
   },
   "id": "9e5598bb18eee71e",
   "execution_count": 3
  },
  {
   "cell_type": "markdown",
   "source": [
    "### Function to Plot Trajectories\n",
    "\n",
    "The `plot_trajectories` function is used to visualize pedestrian trajectories within a defined walkable area, along with optional start and final target areas. Here is a step-by-step overview of its operations:\n",
    "\n",
    "1. **Setup Plot**:\n",
    "   - Initializes a single subplot (`ax`) with an equal aspect ratio to ensure proper scaling of the visual elements.\n",
    "   - Sets the title of the figure using the provided `level_name`.\n",
    "\n",
    "2. **Plot Walkable Area**:\n",
    "   - Utilizes the `pedpy.plot_walkable_area` function to draw the walkable area on the subplot.\n",
    "\n",
    "3. **Plot Final Targets**:\n",
    "   - Iterates through the `final_targets` list, plotting each target area as a semi-transparent purple polygon.\n",
    "   - Labels each target with \"Target\" followed by its index number, placing the text at the centroid of the polygon.\n",
    "\n",
    "4. **Plot Start Areas**:\n",
    "   - Iterates through the `start_areas` list, plotting each start area as a semi-transparent blue polygon.\n",
    "   - Labels each start area with \"Start\" followed by its index number, placing the text at the centroid of the polygon.\n",
    "\n",
    "5. **Plot Trajectories**:\n",
    "   - Iterates through the `trajectories` list, plotting each trajectory with distinct colors and specified plot parameters (e.g., alpha, width).\n",
    "   - Uses the `plot_measurement_setup` function to handle the detailed plotting of each trajectory.\n",
    "\n",
    "6. **Show Plot**:\n",
    "   - Displays the complete plot with all the visual elements using `plt.show()`."
   ],
   "metadata": {
    "collapsed": false
   },
   "id": "e58204bdbb5f3315"
  },
  {
   "cell_type": "code",
   "outputs": [],
   "source": [
    "def plot_trajectories(trajectories: Collection[TrajectoryData], walkable_area: WalkableArea, level_name: str, final_targets: list = None, start_areas: list = None) -> None:\n",
    "    fig, ax = plt.subplots(nrows=1, ncols=1)\n",
    "    ax.set_aspect(\"equal\")\n",
    "    fig.suptitle(f\"Trajectory - {level_name}\", y=1.05)\n",
    "    \n",
    "    # Plot the walkable area\n",
    "    pedpy.plot_walkable_area(walkable_area=walkable_area, axes=ax)\n",
    "    \n",
    "    # Plot the final targets\n",
    "    if final_targets is not None:\n",
    "        for idx, exit_poly in enumerate(final_targets):\n",
    "            x, y = Polygon(exit_poly).exterior.xy\n",
    "            plt.fill(x, y, alpha=0.3, color=\"purple\")\n",
    "            centroid = Polygon(exit_poly).centroid\n",
    "            plt.text(\n",
    "                centroid.x, \n",
    "                centroid.y, \n",
    "                f\"Target {idx+1}\", \n",
    "                ha=\"center\",\n",
    "                va=\"center\", \n",
    "                fontsize=8\n",
    "            )\n",
    "    \n",
    "    # Plot the start areas\n",
    "    if start_areas is not None:\n",
    "        for idx, dp in enumerate(start_areas):\n",
    "            dist_poly = Polygon(dp)\n",
    "            x, y = dist_poly.exterior.xy\n",
    "            plt.fill(x, y, alpha=0.3, color=\"#ADAAAB\")\n",
    "            centroid = dist_poly.centroid\n",
    "            plt.text(\n",
    "                centroid.x,\n",
    "                centroid.y, \n",
    "                f\"Start {idx+1}\", \n",
    "                ha=\"center\",\n",
    "                va=\"center\",\n",
    "                fontsize=8\n",
    "            )\n",
    "    \n",
    "    # Plot the trajectories\n",
    "    for traj, color in zip(trajectories, ['#FF0000', '#0000FF', '#00FF00', '#FFFFFF']):\n",
    "        plot_measurement_setup(\n",
    "            walkable_area=walkable_area,\n",
    "            traj=traj,\n",
    "            traj_color=color,\n",
    "            traj_alpha=0.5,\n",
    "            traj_width=1,\n",
    "        )\n",
    "    \n",
    "    path = f'../output/runs/{group}/{name}/plots/{level_name}/'\n",
    "    os.makedirs(path, exist_ok=True)\n",
    "    plt.savefig(path + f'trajectories_{group}/{name}.png')\n",
    "    plt.show()"
   ],
   "metadata": {
    "collapsed": false,
    "ExecuteTime": {
     "end_time": "2024-06-17T15:38:30.010871300Z",
     "start_time": "2024-06-17T15:38:29.998362700Z"
    }
   },
   "id": "bc222462b988ba1f",
   "execution_count": 4
  },
  {
   "cell_type": "markdown",
   "source": [
    "### Plotting Speed Profiles Function\n",
    "\n",
    "The `plot_speed_profiles` function visualizes speed profiles of pedestrian data using various methods to calculate speed within specified spatial grids. It's designed to help analyze the dynamics of pedestrian movement within a defined area. Here's how it functions:\n",
    "\n",
    "1. **Preparation of Individual Pedestrian Data**:\n",
    "   - Computes individual Voronoi polygons for a specific pedestrian group (`traj_data[0]`) within the walkable area using a specified cutoff radius and quadrant segments.\n",
    "   - Calculates individual speeds using a particular method (`SpeedCalculation.BORDER_SINGLE_SIDED`) and a defined frame step, indicating the interval between frames used in the speed calculation.\n",
    "\n",
    "2. **Merging Data for Comprehensive Analysis**:\n",
    "   - The function merges individual speed data and cutoff polygon data with the trajectory data of the pedestrian group, ensuring all relevant data is aligned for further processing.\n",
    "\n",
    "3. **Spatial Grid Preparation**:\n",
    "   - Defines grid cells within the walkable area with a specified grid size to standardize the spatial analysis. \n",
    "\n",
    "4. **Filtering and Reshaping Data**:\n",
    "   - Filters the comprehensive pedestrian data to include only frames within a specified range (`min_frame` to `max_frame`), focusing the analysis on relevant times.\n",
    "   - Computes intersection areas between the pedestrian data and the spatial grid, reformulating the data for speed profile computation.\n",
    "\n",
    "5. **Speed Profile Calculation**:\n",
    "   - Calculates speed profiles using three methods (Voronoi, Arithmetic, and Mean—each) providing a different perspective on pedestrian speed within the grid cells:\n",
    "     - **Voronoi**: Considers the Voronoi polygon associated with each pedestrian.\n",
    "     - **Arithmetic**: Computes an average based on individual speeds.\n",
    "     - **Mean**: Averages speeds across the entire dataset, ignoring individual variations.\n",
    "\n",
    "6. **Visualization**:\n",
    "   - Plots the speed profiles on a set of three subplots within a single figure, labeling each subplot according to the method used and setting the speed range for comparison.\n",
    "   - Displays the plots with a title indicating the specific level or area being analyzed."
   ],
   "metadata": {
    "collapsed": false
   },
   "id": "9941420f47740e09"
  },
  {
   "cell_type": "code",
   "outputs": [],
   "source": [
    "def plot_speed_profiles(traj_data: Collection[TrajectoryData], area: WalkableArea, level_name: str, min_frame: int = 250, max_frame: int = 400, grid: float = 0.4, frame: int = 5) -> None:\n",
    "    individual_cutoff = compute_individual_voronoi_polygons(\n",
    "        traj_data=traj_data[0],\n",
    "        walkable_area=area,\n",
    "        cut_off=Cutoff(radius=0.8, quad_segments=3),\n",
    "    )\n",
    "\n",
    "    individual_speed = compute_individual_speed(\n",
    "        traj_data=traj_data[0],\n",
    "        frame_step=frame,\n",
    "        speed_calculation=SpeedCalculation.BORDER_SINGLE_SIDED,\n",
    "    )\n",
    "\n",
    "    profile_data = individual_speed.merge(individual_cutoff)\n",
    "    profile_data = profile_data.merge(traj_data[0].data)\n",
    "\n",
    "    grid_cells, _, _ = get_grid_cells(\n",
    "        walkable_area=area, grid_size=grid\n",
    "    )\n",
    "\n",
    "    profile_data = profile_data[\n",
    "        profile_data.frame.between(min_frame, max_frame)\n",
    "    ]\n",
    "\n",
    "    grid_cell_intersection_area, resorted_profile_data = compute_grid_cell_polygon_intersection_area(\n",
    "        data=profile_data, grid_cells=grid_cells\n",
    "    )\n",
    "\n",
    "    voronoi_speed_profile = compute_speed_profile(\n",
    "        data=resorted_profile_data,\n",
    "        walkable_area=area,\n",
    "        grid_intersections_area=grid_cell_intersection_area,\n",
    "        grid_size=grid,\n",
    "        speed_method=SpeedMethod.VORONOI,\n",
    "    )\n",
    "\n",
    "    arithmetic_speed_profile = compute_speed_profile(\n",
    "        data=resorted_profile_data,\n",
    "        walkable_area=area,\n",
    "        grid_intersections_area=grid_cell_intersection_area,\n",
    "        grid_size=grid,\n",
    "        speed_method=SpeedMethod.ARITHMETIC,\n",
    "    )\n",
    "\n",
    "    mean_speed_profile = compute_speed_profile(\n",
    "        data=profile_data,\n",
    "        walkable_area=area,\n",
    "        grid_size=grid,\n",
    "        speed_method=SpeedMethod.MEAN,\n",
    "    )\n",
    "\n",
    "    fig, (ax0, ax1, ax2) = plt.subplots(nrows=1, ncols=3, figsize=(18, 9))\n",
    "    fig.suptitle(f\"Speed Profile - {level_name}\", y=0.98)\n",
    "\n",
    "    plot_profiles(\n",
    "        walkable_area=area,\n",
    "        profiles=voronoi_speed_profile,\n",
    "        axes=ax0,\n",
    "        label=\"v / m/s\",\n",
    "        vmin=0,\n",
    "        vmax=1.7,\n",
    "        title=\"Voronoi\",\n",
    "    )\n",
    "\n",
    "    plot_profiles(\n",
    "        walkable_area=area,\n",
    "        profiles=arithmetic_speed_profile,\n",
    "        axes=ax1,\n",
    "        label=\"v / m/s\",\n",
    "        vmin=0,\n",
    "        vmax=1.7,\n",
    "        title=\"Arithmetic\",\n",
    "    )\n",
    "\n",
    "    plot_profiles(\n",
    "        walkable_area=area,\n",
    "        profiles=mean_speed_profile,\n",
    "        axes=ax2,\n",
    "        label=\"v / m/s\",\n",
    "        vmin=0,\n",
    "        vmax=1.7,\n",
    "        title=\"Mean\",\n",
    "    )\n",
    "\n",
    "    path = f'../output/runs/{group}/{name}/plots/{level_name}/'\n",
    "    os.makedirs(path, exist_ok=True)\n",
    "    plt.savefig(path + f'speed_profiles_{group}/{name}.png')\n",
    "    plt.show()"
   ],
   "metadata": {
    "collapsed": false,
    "ExecuteTime": {
     "end_time": "2024-06-17T15:38:30.052008900Z",
     "start_time": "2024-06-17T15:38:30.017377300Z"
    }
   },
   "id": "2bb3ca650a40f3f8",
   "execution_count": 5
  },
  {
   "cell_type": "markdown",
   "source": [
    "### Comparative Analysis of Density Estimation Methods\n",
    "\n",
    "The function plot_density_comparison provides a visual comparison of different density estimation methods across various spatial environments. Here's an overview of its operation:\n",
    "\n",
    "1. **Figure Setup**:\n",
    "\n",
    "    A new figure is created with a specified size and a title that reads \"Comparison of Different Density Methods\". This sets the context for the visual comparison.\n",
    "\n",
    "2. **Plotting Density Data**:\n",
    "    \n",
    "    The function iterates through the levels_data dictionary, where each key represents a level (or method) and each value is a pandas Series containing density data.\n",
    "    For each level, a plot is created using the corresponding density data. The x-axis represents the frame, and the y-axis represents the density ($\\rho$) in units of 1/$m^2$.\n",
    "    Colors for each level are fetched from the colors dictionary. If a color is not specified for a level, it defaults to blue.\n",
    "\n",
    "3. **Axis Labels and Grid**:\n",
    "    \n",
    "    The x-axis is labeled `Frame` to indicate the time frame of the data.\n",
    "    The y-axis is labeled $\\rho$ / 1/$m^2$ to specify the density units.\n",
    "    A grid is added to the plot to enhance readability.\n",
    "\n",
    "4. **Legend**:\n",
    "\n",
    "    A legend is generated automatically based on the labels provided for each level, making it easy to distinguish between different density estimation methods.\n",
    "\n",
    "5. **Display**:\n",
    "\n",
    "    Finally, the function displays the figure, providing a comparative visual representation of pedestrian density over time for each specified method."
   ],
   "metadata": {
    "collapsed": false
   },
   "id": "d302715ca59d9e46"
  },
  {
   "cell_type": "code",
   "outputs": [],
   "source": [
    "def plot_density_comparison(levels_data: dict, colors: dict, level_name: str) -> None:\n",
    "\n",
    "    fig = plt.figure()\n",
    "    fig.set_size_inches(6, 6)\n",
    "    plt.title(\"Comparison of different density methods\")\n",
    "\n",
    "    for level, data in levels_data.items():\n",
    "        plt.plot(\n",
    "            data.index,\n",
    "            data.values,\n",
    "            label=level,\n",
    "            color=colors.get(level, 'blue')  \n",
    "        )\n",
    "\n",
    "    plt.xlabel(\"frame\")\n",
    "    plt.ylabel(\"$\\\\rho$ / 1/$m^2$\")\n",
    "    plt.grid()\n",
    "    plt.legend()\n",
    "    \n",
    "    path = f'../output/runs/{group}/{name}/plots/{level_name}/'\n",
    "    os.makedirs(path, exist_ok=True)\n",
    "    plt.savefig(path + f'density_{group}/{name}.png')\n",
    "    plt.show()"
   ],
   "metadata": {
    "collapsed": false,
    "ExecuteTime": {
     "end_time": "2024-06-17T15:38:30.054009100Z",
     "start_time": "2024-06-17T15:38:30.028991200Z"
    }
   },
   "id": "e81e5ae9599dada4",
   "execution_count": 6
  },
  {
   "cell_type": "markdown",
   "source": [
    "### Definition of Spatial Regions and Obstacle Handling\n",
    "\n",
    "In this section, we establish the framework for defining spatial regions within the pedestrian environment, managing obstacles, and implementing cutoff strategies. The functions developed here lay the groundwork for creating walkable areas, delineating obstacles, and applying cutoff parameters to focus analysis on relevant pedestrian dynamics. Through these functionalities, we ensure accurate representation and effective management of spatial features influencing pedestrian movement and behavior."
   ],
   "metadata": {
    "collapsed": false
   },
   "id": "b6ad6633058cbe94"
  },
  {
   "cell_type": "markdown",
   "source": [
    "### Curve-C\n",
    "\n",
    "This segment focuses specifically on defining spatial regions and managing obstacles within the `Curve-C` area. Here's a breakdown of the components developed for this particular region:\n"
   ],
   "metadata": {
    "collapsed": false
   },
   "id": "80098db10d5c96db"
  },
  {
   "cell_type": "code",
   "outputs": [
    {
     "ename": "TypeError",
     "evalue": "remove: path should be string, bytes or os.PathLike, not NoneType",
     "output_type": "error",
     "traceback": [
      "\u001B[1;31m---------------------------------------------------------------------------\u001B[0m",
      "\u001B[1;31mTypeError\u001B[0m                                 Traceback (most recent call last)",
      "File \u001B[1;32mmessagestream.pyx:91\u001B[0m, in \u001B[0;36mscipy._lib.messagestream.MessageStream.close\u001B[1;34m()\u001B[0m\n",
      "\u001B[1;31mTypeError\u001B[0m: remove: path should be string, bytes or os.PathLike, not NoneType"
     ]
    }
   ],
   "source": [
    "complete_area = Polygon(\n",
    "    [\n",
    "        (10, -10),\n",
    "        (10, 10),\n",
    "        (-10, 10),\n",
    "        (-10, -10),\n",
    "    ]\n",
    ")\n",
    "obstacles = [\n",
    "    Polygon(\n",
    "        [\n",
    "            (9.999, -6.5),\n",
    "            (-7, -6.5),\n",
    "            (-7, 6.5),\n",
    "            (9.999, 6.5),\n",
    "            (9.999, 5.5),\n",
    "            (-6, 5.5),\n",
    "            (-6, -5.5),\n",
    "            (9.999, -5.5),\n",
    "        ]\n",
    "    ),\n",
    "]\n",
    "\n",
    "curve_c_final_target = [\n",
    "    [(7.3, 6.5), (7.3, 9.999), (9.999, 9.999), (9.999, 6.5)],\n",
    "]\n",
    "\n",
    "curve_c_start_area = [\n",
    "    [(8, -8), (8, -9), (9, -9), (9, -8)],\n",
    "]\n",
    "\n",
    "obstacle = shapely.union_all(obstacles)\n",
    "curve_c_area = pedpy.WalkableArea(shapely.difference(complete_area, obstacle))\n",
    "\n",
    "curve_c_traj = extract_trajectories(\n",
    "    Path(\"../output/pedpy/CurveCBatch.txt\")\n",
    ")\n",
    "\n",
    "curve_c_individual = compute_individual_voronoi_polygons(\n",
    "    traj_data=curve_c_traj[0], \n",
    "    walkable_area=curve_c_area\n",
    ")\n",
    "\n",
    "curve_c_individual_cutoff = compute_individual_voronoi_polygons(\n",
    "    traj_data=curve_c_traj[0], \n",
    "    walkable_area=curve_c_area,\n",
    "    cut_off= Cutoff(radius=1, quad_segments=3),\n",
    ")"
   ],
   "metadata": {
    "collapsed": false,
    "is_executing": true,
    "ExecuteTime": {
     "start_time": "2024-06-17T15:38:30.045495800Z"
    }
   },
   "id": "6f91485e586b6039",
   "execution_count": null
  },
  {
   "cell_type": "markdown",
   "source": [
    "### Double Door Opposite\n",
    "\n",
    "This segment focuses specifically on defining spatial regions and managing obstacles within the `Double Door Opposite` area. Here's a breakdown of the components developed for this particular region:"
   ],
   "metadata": {
    "collapsed": false
   },
   "id": "64d7b17c9d433960"
  },
  {
   "cell_type": "code",
   "outputs": [],
   "source": [
    "complete_area = Polygon(\n",
    "    # Room\n",
    "    [\n",
    "        (10, -10),\n",
    "        (10, 10),\n",
    "        (-10, 10),\n",
    "        (-10, -10),\n",
    "    ],\n",
    ")\n",
    "obstacles = [\n",
    "    Polygon(\n",
    "        # bottom right barrier\n",
    "        [\n",
    "            (9.999, -4.0),\n",
    "            (6.5, -4.0),\n",
    "            (6.5, -3.0),\n",
    "            (9.999, -3.0)\n",
    "        ]\n",
    "    ),\n",
    "    Polygon(\n",
    "        # bottom left barrier\n",
    "        [\n",
    "            (-9.999, -4.0),\n",
    "            (3.5, -4.0),\n",
    "            (3.5, -3.0),\n",
    "            (-9.999, -3.0)\n",
    "        ]\n",
    "    ),\n",
    "    Polygon(\n",
    "        # top right barrier\n",
    "        [\n",
    "            (-9.999, 4.0),\n",
    "            (-6.5, 4.0),\n",
    "            (-6.5, 3.0),\n",
    "            (-9.999, 3.0)\n",
    "        ]\n",
    "    ),\n",
    "    Polygon(\n",
    "        # top left barrier\n",
    "        [\n",
    "            (9.999, 4.0),\n",
    "            (-3.5, 4.0),\n",
    "            (-3.5, 3.0),\n",
    "            (9.999, 3.0)\n",
    "        ]\n",
    "    )   \n",
    "]\n",
    "\n",
    "\n",
    "double_door_opposite_final_target = [\n",
    "    [(-9.999, 8), (-9.999, 9.999), (9.999, 9.999), (9.999, 8)],\n",
    "    [(-9.999, -8), (-9.999, -9.999), (9.999, -9.999), (9.999, -8)]\n",
    "]\n",
    "\n",
    "double_door_opposite_start_area = [\n",
    "    [(1.7, -7.5), (6.1, -7.5), (6.1, -8.5), (1.7, -8.5)],\n",
    "    [(-1.7, 7.5), (-6.1, 7.5), (-6.1, 8.5), (-1.7, 8.5)]\n",
    "   \n",
    "]\n",
    "\n",
    "obstacle = shapely.union_all(obstacles)\n",
    "double_door_opposite_area = pedpy.WalkableArea(shapely.difference(complete_area, obstacle))\n",
    "\n",
    "double_door_opposite_traj = extract_trajectories(\n",
    "    Path(\"../output/pedpy/DoubleDoorOppositeBatch.txt\")\n",
    ")\n",
    "\n",
    "double_door_opposite_individual = (\n",
    "    compute_individual_voronoi_polygons(\n",
    "        traj_data=double_door_opposite_traj[0], \n",
    "        walkable_area=double_door_opposite_area\n",
    "    )\n",
    ")\n",
    "    \n",
    "\n",
    "double_door_opposite_individual_cutoff = (\n",
    "    compute_individual_voronoi_polygons(\n",
    "        traj_data=double_door_opposite_traj[0], \n",
    "        walkable_area=double_door_opposite_area,\n",
    "        cut_off= Cutoff(radius=1, quad_segments=3),\n",
    "    )\n",
    ")\n",
    "\n",
    "double_door_opposite_ma = MeasurementArea(\n",
    "     [(4, -2.5), (4, -4.5), (6, -4.5), (6, -2.5)]\n",
    ")\n",
    " \n",
    "double_door_opposite_classic_density = (\n",
    "        compute_classic_density(\n",
    "            traj_data=double_door_opposite_traj[0], \n",
    "            measurement_area=double_door_opposite_ma\n",
    "        )\n",
    ")\n",
    "\n",
    "double_door_opposite_density_voronoi, _ = compute_voronoi_density(\n",
    "    individual_voronoi_data=double_door_opposite_individual, measurement_area=double_door_opposite_ma\n",
    ")\n",
    "\n",
    "double_door_opposite_density_voronoi_cutoff, _ = compute_voronoi_density(\n",
    "    individual_voronoi_data=double_door_opposite_individual_cutoff, measurement_area=double_door_opposite_ma\n",
    ")\n",
    "\n",
    "double_door_opposite_data = {\n",
    "    \"Double Door Opposite Classic\": double_door_opposite_classic_density,\n",
    "    \"Double Door Opposite Voronoi\": double_door_opposite_density_voronoi,\n",
    "    \"Double Door Opposite Voronoi with Cutoff\": double_door_opposite_density_voronoi_cutoff,\n",
    "}\n",
    "\n",
    "double_door_opposite_colors = {\n",
    "    \"Double Door Opposite Classic\": \"blue\",\n",
    "    \"Double Door Opposite Voronoi\": \"orange\",\n",
    "    \"Double Door Opposite Voronoi with Cutoff\": \"grey\",\n",
    "}\n"
   ],
   "metadata": {
    "collapsed": false,
    "ExecuteTime": {
     "end_time": "2024-06-14T15:13:47.343210600Z",
     "start_time": "2024-06-14T15:13:45.463684300Z"
    }
   },
   "id": "d3bb21f5ceebaf65",
   "execution_count": 11
  },
  {
   "cell_type": "markdown",
   "source": [
    "### Anchor\n",
    "\n",
    "This segment focuses specifically on defining spatial regions and managing obstacles within the `Anchor` area. Here's a breakdown of the components developed for this particular region:"
   ],
   "metadata": {
    "collapsed": false
   },
   "id": "284b3d365092c6cd"
  },
  {
   "cell_type": "code",
   "outputs": [],
   "source": [
    "complete_area = Polygon(\n",
    "    # Room\n",
    "    [\n",
    "        (10, -10),\n",
    "        (10, 10),\n",
    "        (-10, 10),\n",
    "        (-10, -10),\n",
    "    ],\n",
    ")\n",
    "        \n",
    "obstacles = [\n",
    "    Polygon(\n",
    "         # bottom left barrier\n",
    "        [\n",
    "            (-9.999, 3.8),\n",
    "            (-9.999, 5.8),\n",
    "            (-3.9, -4.5),\n",
    "            (-5.1, -4.5),\n",
    "        ],\n",
    "    ),\n",
    "    Polygon(\n",
    "         #top left anchor\n",
    "        [\n",
    "            (-2.0, 2.3),\n",
    "            (-2.0, 9.999),\n",
    "            (-3.0, 9.999),\n",
    "            (-3.0, 4.5),\n",
    "            (-6.2, 9.999),\n",
    "            (-7.5, 9.999),\n",
    "            (-3.0, 2.3),\n",
    "        ],   \n",
    "    ),\n",
    "    Polygon(\n",
    "        # bottom right barrier\n",
    "        [\n",
    "            (9.999, 3.8),\n",
    "            (9.999, 5.8),\n",
    "            (3.9, -4.5),\n",
    "            (5.1, -4.5),\n",
    "        ],     \n",
    "    ),\n",
    "    Polygon(\n",
    "        #top left anchor\n",
    "        [\n",
    "            (2.0, 2.3),\n",
    "            (2.0, 9.999),\n",
    "            (3.0, 9.999),\n",
    "            (3.0, 4.5),\n",
    "            (6.2, 9.999),\n",
    "            (7.5, 9.999),\n",
    "            (3.0, 2.3),\n",
    "        ],\n",
    "    ),\n",
    "    Polygon(\n",
    "        #bottom barrier\n",
    "        [\n",
    "            (-9.999, -4.51),\n",
    "            (9.999, -4.51),\n",
    "            (9.999, -5.5),\n",
    "            (-9.999, -5.5),\n",
    "        ]\n",
    "        \n",
    "    )\n",
    "]\n",
    "\n",
    "\n",
    "anchor_final_target = [\n",
    "    [(-2, 8), (-2, 9.999), (2, 9.999), (2, 8)]\n",
    "]\n",
    "\n",
    "anchor_start_area = [\n",
    "    [(-9, 7), (-6, 1), (-3.5, 1), (-7.5, 8.5)],\n",
    "    [(9, 7), (6, 1), (3.5, 1), (7.5, 8.5)]\n",
    "]\n",
    "\n",
    "obstacle = shapely.union_all(obstacles)\n",
    "anchor_area = pedpy.WalkableArea(shapely.difference(complete_area, obstacle))\n",
    "\n",
    "anchor_traj = extract_trajectories(\n",
    "    Path(\"../output/pedpy/Anchor8Batch.txt\")\n",
    ")\n",
    "\n",
    "anchor_individual = (\n",
    "    compute_individual_voronoi_polygons(\n",
    "            traj_data=anchor_traj[0], \n",
    "            walkable_area=anchor_area\n",
    "    )\n",
    ")\n",
    "\n",
    "\n",
    "anchor_individual_cutoff = (\n",
    "        compute_individual_voronoi_polygons(\n",
    "            traj_data=anchor_traj[0], \n",
    "            walkable_area=anchor_area,\n",
    "            cut_off= Cutoff(radius=1, quad_segments=3)\n",
    "    )\n",
    ")\n",
    "\n",
    "anchor_ma = MeasurementArea(\n",
    "    [(-2, 1), (-2, 3), (2, 3), (2, 1)]\n",
    ")\n",
    "\n",
    "anchor_classic_density = (\n",
    "    compute_classic_density(\n",
    "        traj_data=anchor_traj[0], \n",
    "        measurement_area=anchor_ma\n",
    "    )\n",
    ")\n",
    "\n",
    "anchor_density_voronoi, _ = compute_voronoi_density(\n",
    "    individual_voronoi_data=anchor_individual, measurement_area=anchor_ma\n",
    ")\n",
    "\n",
    "anchor_density_voronoi_cutoff, _ = compute_voronoi_density(\n",
    "    individual_voronoi_data=anchor_individual_cutoff, measurement_area=anchor_ma\n",
    ")\n",
    "\n",
    "anchor_data = {\n",
    "    \"Anchor Classic\": anchor_classic_density,\n",
    "    \"Anchor Voronoi\": anchor_density_voronoi,\n",
    "    \"Anchor Voronoi with Cutoff\": anchor_density_voronoi_cutoff,\n",
    "}\n",
    "\n",
    "anchor_colors = {\n",
    "    \"Anchor Classic\": \"blue\",\n",
    "    \"Anchor Voronoi\": \"orange\",\n",
    "    \"Anchor Voronoi with Cutoff\": \"grey\",\n",
    "}"
   ],
   "metadata": {
    "collapsed": false,
    "ExecuteTime": {
     "end_time": "2024-06-14T15:13:30.252339300Z",
     "start_time": "2024-06-14T15:13:27.719684700Z"
    }
   },
   "id": "b4a39f12a3cdb1d5",
   "execution_count": 9
  },
  {
   "cell_type": "code",
   "outputs": [
    {
     "ename": "FileNotFoundError",
     "evalue": "[Errno 2] No such file or directory: 'C:\\\\Users\\\\Utente\\\\Desktop\\\\RL-Godot-Pedestrian-Simulation\\\\output\\\\runs\\\\high_density\\\\hd_standard\\\\plots\\\\Anchor 8\\\\trajectories_high_density\\\\hd_standard.png'",
     "output_type": "error",
     "traceback": [
      "\u001B[1;31m---------------------------------------------------------------------------\u001B[0m",
      "\u001B[1;31mFileNotFoundError\u001B[0m                         Traceback (most recent call last)",
      "Cell \u001B[1;32mIn[10], line 1\u001B[0m\n\u001B[1;32m----> 1\u001B[0m \u001B[43mplot_trajectories\u001B[49m\u001B[43m(\u001B[49m\u001B[43manchor_traj\u001B[49m\u001B[43m,\u001B[49m\u001B[43m \u001B[49m\u001B[43manchor_area\u001B[49m\u001B[43m,\u001B[49m\u001B[43m \u001B[49m\u001B[38;5;124;43m\"\u001B[39;49m\u001B[38;5;124;43mAnchor 8\u001B[39;49m\u001B[38;5;124;43m\"\u001B[39;49m\u001B[43m,\u001B[49m\u001B[43m \u001B[49m\u001B[43manchor_final_target\u001B[49m\u001B[43m,\u001B[49m\u001B[43m \u001B[49m\u001B[43manchor_start_area\u001B[49m\u001B[43m)\u001B[49m\n",
      "Cell \u001B[1;32mIn[4], line 52\u001B[0m, in \u001B[0;36mplot_trajectories\u001B[1;34m(trajectories, walkable_area, level_name, final_targets, start_areas)\u001B[0m\n\u001B[0;32m     50\u001B[0m path \u001B[38;5;241m=\u001B[39m \u001B[38;5;124mf\u001B[39m\u001B[38;5;124m'\u001B[39m\u001B[38;5;124m../output/runs/\u001B[39m\u001B[38;5;132;01m{\u001B[39;00mgroup\u001B[38;5;132;01m}\u001B[39;00m\u001B[38;5;124m/\u001B[39m\u001B[38;5;132;01m{\u001B[39;00mname\u001B[38;5;132;01m}\u001B[39;00m\u001B[38;5;124m/plots/\u001B[39m\u001B[38;5;132;01m{\u001B[39;00mlevel_name\u001B[38;5;132;01m}\u001B[39;00m\u001B[38;5;124m/\u001B[39m\u001B[38;5;124m'\u001B[39m\n\u001B[0;32m     51\u001B[0m os\u001B[38;5;241m.\u001B[39mmakedirs(path, exist_ok\u001B[38;5;241m=\u001B[39m\u001B[38;5;28;01mTrue\u001B[39;00m)\n\u001B[1;32m---> 52\u001B[0m \u001B[43mplt\u001B[49m\u001B[38;5;241;43m.\u001B[39;49m\u001B[43msavefig\u001B[49m\u001B[43m(\u001B[49m\u001B[43mpath\u001B[49m\u001B[43m \u001B[49m\u001B[38;5;241;43m+\u001B[39;49m\u001B[43m \u001B[49m\u001B[38;5;124;43mf\u001B[39;49m\u001B[38;5;124;43m'\u001B[39;49m\u001B[38;5;124;43mtrajectories_\u001B[39;49m\u001B[38;5;132;43;01m{\u001B[39;49;00m\u001B[43mgroup\u001B[49m\u001B[38;5;132;43;01m}\u001B[39;49;00m\u001B[38;5;124;43m/\u001B[39;49m\u001B[38;5;132;43;01m{\u001B[39;49;00m\u001B[43mname\u001B[49m\u001B[38;5;132;43;01m}\u001B[39;49;00m\u001B[38;5;124;43m.png\u001B[39;49m\u001B[38;5;124;43m'\u001B[39;49m\u001B[43m)\u001B[49m\n\u001B[0;32m     53\u001B[0m plt\u001B[38;5;241m.\u001B[39mshow()\n",
      "File \u001B[1;32m~\\anaconda3\\envs\\godotrl\\lib\\site-packages\\matplotlib\\pyplot.py:1134\u001B[0m, in \u001B[0;36msavefig\u001B[1;34m(*args, **kwargs)\u001B[0m\n\u001B[0;32m   1131\u001B[0m fig \u001B[38;5;241m=\u001B[39m gcf()\n\u001B[0;32m   1132\u001B[0m \u001B[38;5;66;03m# savefig default implementation has no return, so mypy is unhappy\u001B[39;00m\n\u001B[0;32m   1133\u001B[0m \u001B[38;5;66;03m# presumably this is here because subclasses can return?\u001B[39;00m\n\u001B[1;32m-> 1134\u001B[0m res \u001B[38;5;241m=\u001B[39m fig\u001B[38;5;241m.\u001B[39msavefig(\u001B[38;5;241m*\u001B[39margs, \u001B[38;5;241m*\u001B[39m\u001B[38;5;241m*\u001B[39mkwargs)  \u001B[38;5;66;03m# type: ignore[func-returns-value]\u001B[39;00m\n\u001B[0;32m   1135\u001B[0m fig\u001B[38;5;241m.\u001B[39mcanvas\u001B[38;5;241m.\u001B[39mdraw_idle()  \u001B[38;5;66;03m# Need this if 'transparent=True', to reset colors.\u001B[39;00m\n\u001B[0;32m   1136\u001B[0m \u001B[38;5;28;01mreturn\u001B[39;00m res\n",
      "File \u001B[1;32m~\\anaconda3\\envs\\godotrl\\lib\\site-packages\\matplotlib\\figure.py:3390\u001B[0m, in \u001B[0;36mFigure.savefig\u001B[1;34m(self, fname, transparent, **kwargs)\u001B[0m\n\u001B[0;32m   3388\u001B[0m     \u001B[38;5;28;01mfor\u001B[39;00m ax \u001B[38;5;129;01min\u001B[39;00m \u001B[38;5;28mself\u001B[39m\u001B[38;5;241m.\u001B[39maxes:\n\u001B[0;32m   3389\u001B[0m         _recursively_make_axes_transparent(stack, ax)\n\u001B[1;32m-> 3390\u001B[0m \u001B[38;5;28mself\u001B[39m\u001B[38;5;241m.\u001B[39mcanvas\u001B[38;5;241m.\u001B[39mprint_figure(fname, \u001B[38;5;241m*\u001B[39m\u001B[38;5;241m*\u001B[39mkwargs)\n",
      "File \u001B[1;32m~\\anaconda3\\envs\\godotrl\\lib\\site-packages\\matplotlib\\backend_bases.py:2193\u001B[0m, in \u001B[0;36mFigureCanvasBase.print_figure\u001B[1;34m(self, filename, dpi, facecolor, edgecolor, orientation, format, bbox_inches, pad_inches, bbox_extra_artists, backend, **kwargs)\u001B[0m\n\u001B[0;32m   2189\u001B[0m \u001B[38;5;28;01mtry\u001B[39;00m:\n\u001B[0;32m   2190\u001B[0m     \u001B[38;5;66;03m# _get_renderer may change the figure dpi (as vector formats\u001B[39;00m\n\u001B[0;32m   2191\u001B[0m     \u001B[38;5;66;03m# force the figure dpi to 72), so we need to set it again here.\u001B[39;00m\n\u001B[0;32m   2192\u001B[0m     \u001B[38;5;28;01mwith\u001B[39;00m cbook\u001B[38;5;241m.\u001B[39m_setattr_cm(\u001B[38;5;28mself\u001B[39m\u001B[38;5;241m.\u001B[39mfigure, dpi\u001B[38;5;241m=\u001B[39mdpi):\n\u001B[1;32m-> 2193\u001B[0m         result \u001B[38;5;241m=\u001B[39m print_method(\n\u001B[0;32m   2194\u001B[0m             filename,\n\u001B[0;32m   2195\u001B[0m             facecolor\u001B[38;5;241m=\u001B[39mfacecolor,\n\u001B[0;32m   2196\u001B[0m             edgecolor\u001B[38;5;241m=\u001B[39medgecolor,\n\u001B[0;32m   2197\u001B[0m             orientation\u001B[38;5;241m=\u001B[39morientation,\n\u001B[0;32m   2198\u001B[0m             bbox_inches_restore\u001B[38;5;241m=\u001B[39m_bbox_inches_restore,\n\u001B[0;32m   2199\u001B[0m             \u001B[38;5;241m*\u001B[39m\u001B[38;5;241m*\u001B[39mkwargs)\n\u001B[0;32m   2200\u001B[0m \u001B[38;5;28;01mfinally\u001B[39;00m:\n\u001B[0;32m   2201\u001B[0m     \u001B[38;5;28;01mif\u001B[39;00m bbox_inches \u001B[38;5;129;01mand\u001B[39;00m restore_bbox:\n",
      "File \u001B[1;32m~\\anaconda3\\envs\\godotrl\\lib\\site-packages\\matplotlib\\backend_bases.py:2043\u001B[0m, in \u001B[0;36mFigureCanvasBase._switch_canvas_and_return_print_method.<locals>.<lambda>\u001B[1;34m(*args, **kwargs)\u001B[0m\n\u001B[0;32m   2039\u001B[0m     optional_kws \u001B[38;5;241m=\u001B[39m {  \u001B[38;5;66;03m# Passed by print_figure for other renderers.\u001B[39;00m\n\u001B[0;32m   2040\u001B[0m         \u001B[38;5;124m\"\u001B[39m\u001B[38;5;124mdpi\u001B[39m\u001B[38;5;124m\"\u001B[39m, \u001B[38;5;124m\"\u001B[39m\u001B[38;5;124mfacecolor\u001B[39m\u001B[38;5;124m\"\u001B[39m, \u001B[38;5;124m\"\u001B[39m\u001B[38;5;124medgecolor\u001B[39m\u001B[38;5;124m\"\u001B[39m, \u001B[38;5;124m\"\u001B[39m\u001B[38;5;124morientation\u001B[39m\u001B[38;5;124m\"\u001B[39m,\n\u001B[0;32m   2041\u001B[0m         \u001B[38;5;124m\"\u001B[39m\u001B[38;5;124mbbox_inches_restore\u001B[39m\u001B[38;5;124m\"\u001B[39m}\n\u001B[0;32m   2042\u001B[0m     skip \u001B[38;5;241m=\u001B[39m optional_kws \u001B[38;5;241m-\u001B[39m {\u001B[38;5;241m*\u001B[39minspect\u001B[38;5;241m.\u001B[39msignature(meth)\u001B[38;5;241m.\u001B[39mparameters}\n\u001B[1;32m-> 2043\u001B[0m     print_method \u001B[38;5;241m=\u001B[39m functools\u001B[38;5;241m.\u001B[39mwraps(meth)(\u001B[38;5;28;01mlambda\u001B[39;00m \u001B[38;5;241m*\u001B[39margs, \u001B[38;5;241m*\u001B[39m\u001B[38;5;241m*\u001B[39mkwargs: meth(\n\u001B[0;32m   2044\u001B[0m         \u001B[38;5;241m*\u001B[39margs, \u001B[38;5;241m*\u001B[39m\u001B[38;5;241m*\u001B[39m{k: v \u001B[38;5;28;01mfor\u001B[39;00m k, v \u001B[38;5;129;01min\u001B[39;00m kwargs\u001B[38;5;241m.\u001B[39mitems() \u001B[38;5;28;01mif\u001B[39;00m k \u001B[38;5;129;01mnot\u001B[39;00m \u001B[38;5;129;01min\u001B[39;00m skip}))\n\u001B[0;32m   2045\u001B[0m \u001B[38;5;28;01melse\u001B[39;00m:  \u001B[38;5;66;03m# Let third-parties do as they see fit.\u001B[39;00m\n\u001B[0;32m   2046\u001B[0m     print_method \u001B[38;5;241m=\u001B[39m meth\n",
      "File \u001B[1;32m~\\anaconda3\\envs\\godotrl\\lib\\site-packages\\matplotlib\\backends\\backend_agg.py:497\u001B[0m, in \u001B[0;36mFigureCanvasAgg.print_png\u001B[1;34m(self, filename_or_obj, metadata, pil_kwargs)\u001B[0m\n\u001B[0;32m    450\u001B[0m \u001B[38;5;28;01mdef\u001B[39;00m \u001B[38;5;21mprint_png\u001B[39m(\u001B[38;5;28mself\u001B[39m, filename_or_obj, \u001B[38;5;241m*\u001B[39m, metadata\u001B[38;5;241m=\u001B[39m\u001B[38;5;28;01mNone\u001B[39;00m, pil_kwargs\u001B[38;5;241m=\u001B[39m\u001B[38;5;28;01mNone\u001B[39;00m):\n\u001B[0;32m    451\u001B[0m \u001B[38;5;250m    \u001B[39m\u001B[38;5;124;03m\"\"\"\u001B[39;00m\n\u001B[0;32m    452\u001B[0m \u001B[38;5;124;03m    Write the figure to a PNG file.\u001B[39;00m\n\u001B[0;32m    453\u001B[0m \n\u001B[1;32m   (...)\u001B[0m\n\u001B[0;32m    495\u001B[0m \u001B[38;5;124;03m        *metadata*, including the default 'Software' key.\u001B[39;00m\n\u001B[0;32m    496\u001B[0m \u001B[38;5;124;03m    \"\"\"\u001B[39;00m\n\u001B[1;32m--> 497\u001B[0m     \u001B[38;5;28;43mself\u001B[39;49m\u001B[38;5;241;43m.\u001B[39;49m\u001B[43m_print_pil\u001B[49m\u001B[43m(\u001B[49m\u001B[43mfilename_or_obj\u001B[49m\u001B[43m,\u001B[49m\u001B[43m \u001B[49m\u001B[38;5;124;43m\"\u001B[39;49m\u001B[38;5;124;43mpng\u001B[39;49m\u001B[38;5;124;43m\"\u001B[39;49m\u001B[43m,\u001B[49m\u001B[43m \u001B[49m\u001B[43mpil_kwargs\u001B[49m\u001B[43m,\u001B[49m\u001B[43m \u001B[49m\u001B[43mmetadata\u001B[49m\u001B[43m)\u001B[49m\n",
      "File \u001B[1;32m~\\anaconda3\\envs\\godotrl\\lib\\site-packages\\matplotlib\\backends\\backend_agg.py:446\u001B[0m, in \u001B[0;36mFigureCanvasAgg._print_pil\u001B[1;34m(self, filename_or_obj, fmt, pil_kwargs, metadata)\u001B[0m\n\u001B[0;32m    441\u001B[0m \u001B[38;5;250m\u001B[39m\u001B[38;5;124;03m\"\"\"\u001B[39;00m\n\u001B[0;32m    442\u001B[0m \u001B[38;5;124;03mDraw the canvas, then save it using `.image.imsave` (to which\u001B[39;00m\n\u001B[0;32m    443\u001B[0m \u001B[38;5;124;03m*pil_kwargs* and *metadata* are forwarded).\u001B[39;00m\n\u001B[0;32m    444\u001B[0m \u001B[38;5;124;03m\"\"\"\u001B[39;00m\n\u001B[0;32m    445\u001B[0m FigureCanvasAgg\u001B[38;5;241m.\u001B[39mdraw(\u001B[38;5;28mself\u001B[39m)\n\u001B[1;32m--> 446\u001B[0m \u001B[43mmpl\u001B[49m\u001B[38;5;241;43m.\u001B[39;49m\u001B[43mimage\u001B[49m\u001B[38;5;241;43m.\u001B[39;49m\u001B[43mimsave\u001B[49m\u001B[43m(\u001B[49m\n\u001B[0;32m    447\u001B[0m \u001B[43m    \u001B[49m\u001B[43mfilename_or_obj\u001B[49m\u001B[43m,\u001B[49m\u001B[43m \u001B[49m\u001B[38;5;28;43mself\u001B[39;49m\u001B[38;5;241;43m.\u001B[39;49m\u001B[43mbuffer_rgba\u001B[49m\u001B[43m(\u001B[49m\u001B[43m)\u001B[49m\u001B[43m,\u001B[49m\u001B[43m \u001B[49m\u001B[38;5;28;43mformat\u001B[39;49m\u001B[38;5;241;43m=\u001B[39;49m\u001B[43mfmt\u001B[49m\u001B[43m,\u001B[49m\u001B[43m \u001B[49m\u001B[43morigin\u001B[49m\u001B[38;5;241;43m=\u001B[39;49m\u001B[38;5;124;43m\"\u001B[39;49m\u001B[38;5;124;43mupper\u001B[39;49m\u001B[38;5;124;43m\"\u001B[39;49m\u001B[43m,\u001B[49m\n\u001B[0;32m    448\u001B[0m \u001B[43m    \u001B[49m\u001B[43mdpi\u001B[49m\u001B[38;5;241;43m=\u001B[39;49m\u001B[38;5;28;43mself\u001B[39;49m\u001B[38;5;241;43m.\u001B[39;49m\u001B[43mfigure\u001B[49m\u001B[38;5;241;43m.\u001B[39;49m\u001B[43mdpi\u001B[49m\u001B[43m,\u001B[49m\u001B[43m \u001B[49m\u001B[43mmetadata\u001B[49m\u001B[38;5;241;43m=\u001B[39;49m\u001B[43mmetadata\u001B[49m\u001B[43m,\u001B[49m\u001B[43m \u001B[49m\u001B[43mpil_kwargs\u001B[49m\u001B[38;5;241;43m=\u001B[39;49m\u001B[43mpil_kwargs\u001B[49m\u001B[43m)\u001B[49m\n",
      "File \u001B[1;32m~\\anaconda3\\envs\\godotrl\\lib\\site-packages\\matplotlib\\image.py:1656\u001B[0m, in \u001B[0;36mimsave\u001B[1;34m(fname, arr, vmin, vmax, cmap, format, origin, dpi, metadata, pil_kwargs)\u001B[0m\n\u001B[0;32m   1654\u001B[0m pil_kwargs\u001B[38;5;241m.\u001B[39msetdefault(\u001B[38;5;124m\"\u001B[39m\u001B[38;5;124mformat\u001B[39m\u001B[38;5;124m\"\u001B[39m, \u001B[38;5;28mformat\u001B[39m)\n\u001B[0;32m   1655\u001B[0m pil_kwargs\u001B[38;5;241m.\u001B[39msetdefault(\u001B[38;5;124m\"\u001B[39m\u001B[38;5;124mdpi\u001B[39m\u001B[38;5;124m\"\u001B[39m, (dpi, dpi))\n\u001B[1;32m-> 1656\u001B[0m image\u001B[38;5;241m.\u001B[39msave(fname, \u001B[38;5;241m*\u001B[39m\u001B[38;5;241m*\u001B[39mpil_kwargs)\n",
      "File \u001B[1;32m~\\anaconda3\\envs\\godotrl\\lib\\site-packages\\PIL\\Image.py:2456\u001B[0m, in \u001B[0;36mImage.save\u001B[1;34m(self, fp, format, **params)\u001B[0m\n\u001B[0;32m   2454\u001B[0m         fp \u001B[38;5;241m=\u001B[39m builtins\u001B[38;5;241m.\u001B[39mopen(filename, \u001B[38;5;124m\"\u001B[39m\u001B[38;5;124mr+b\u001B[39m\u001B[38;5;124m\"\u001B[39m)\n\u001B[0;32m   2455\u001B[0m     \u001B[38;5;28;01melse\u001B[39;00m:\n\u001B[1;32m-> 2456\u001B[0m         fp \u001B[38;5;241m=\u001B[39m \u001B[43mbuiltins\u001B[49m\u001B[38;5;241;43m.\u001B[39;49m\u001B[43mopen\u001B[49m\u001B[43m(\u001B[49m\u001B[43mfilename\u001B[49m\u001B[43m,\u001B[49m\u001B[43m \u001B[49m\u001B[38;5;124;43m\"\u001B[39;49m\u001B[38;5;124;43mw+b\u001B[39;49m\u001B[38;5;124;43m\"\u001B[39;49m\u001B[43m)\u001B[49m\n\u001B[0;32m   2458\u001B[0m \u001B[38;5;28;01mtry\u001B[39;00m:\n\u001B[0;32m   2459\u001B[0m     save_handler(\u001B[38;5;28mself\u001B[39m, fp, filename)\n",
      "\u001B[1;31mFileNotFoundError\u001B[0m: [Errno 2] No such file or directory: 'C:\\\\Users\\\\Utente\\\\Desktop\\\\RL-Godot-Pedestrian-Simulation\\\\output\\\\runs\\\\high_density\\\\hd_standard\\\\plots\\\\Anchor 8\\\\trajectories_high_density\\\\hd_standard.png'"
     ]
    },
    {
     "data": {
      "text/plain": "<Figure size 640x480 with 1 Axes>",
      "image/png": "[encoded data removed]"
     },
     "metadata": {},
     "output_type": "display_data"
    }
   ],
   "source": [
    "plot_trajectories(anchor_traj, anchor_area, \"Anchor 8\", anchor_final_target, anchor_start_area)"
   ],
   "metadata": {
    "collapsed": false,
    "ExecuteTime": {
     "end_time": "2024-06-14T15:13:33.258893100Z",
     "start_time": "2024-06-14T15:13:30.246826900Z"
    }
   },
   "id": "5d79512fc29cfdc6",
   "execution_count": 10
  },
  {
   "cell_type": "markdown",
   "source": [
    "### Omega\n",
    "\n",
    "This segment focuses specifically on defining spatial regions and managing obstacles within the `Omega` area. Here's a breakdown of the components developed for this particular region:"
   ],
   "metadata": {
    "collapsed": false
   },
   "id": "6d2b497193d0a965"
  },
  {
   "cell_type": "code",
   "outputs": [],
   "source": [
    "complete_area = Polygon(\n",
    "    # Room\n",
    "    [\n",
    "        (10, -10),\n",
    "        (10, 10),\n",
    "        (-10, 10),\n",
    "        (-10, -10),\n",
    "    ],\n",
    ")\n",
    "        \n",
    "obstacles = [\n",
    "    Polygon(\n",
    "        # bottom left barrier\n",
    "        [\n",
    "            (-6.5, -9.999),\n",
    "            (-6.5, -3.6),\n",
    "            (2.45, -3.6),\n",
    "            (2.45, -9.999),\n",
    "            (1.45, -9.999),\n",
    "            (1.45, -4.6),\n",
    "            (-5.5, -4.6),\n",
    "            (-5.5, -9.999),\n",
    "        ]\n",
    "    ),\n",
    "    Polygon(\n",
    "        # mid barrier\n",
    "        [\n",
    "            (-9.999, -0.5),\n",
    "            (6.15, -0.5),\n",
    "            (6.15, -6.5),\n",
    "            (7.15, -6.5),\n",
    "            (7.15, 6.6),\n",
    "            (6.15, 6.6),\n",
    "            (-4.0, 0.5),\n",
    "            (-9.999, 0.5),\n",
    "        ]  \n",
    "    ),\n",
    "    Polygon(\n",
    "        [\n",
    "            (-6.5, 9.999),\n",
    "            (-6.5, 3.8),\n",
    "            (-5.5, 3.8),\n",
    "            (4.35, 9.999),\n",
    "            (2.45, 9.999),\n",
    "            \n",
    "        ]\n",
    "    )\n",
    "]\n",
    "\n",
    "omega_final_target = [\n",
    "    [(-9.999, 6.4), (-9.999, 9.999), (-6.4, 9.999), (-6.4, 6.4)]\n",
    "]\n",
    "\n",
    "omega_start_area = [\n",
    "    [(-8, -8), (-8, -9), (-9, -9), (-9, -8)],   \n",
    "]\n",
    "\n",
    "obstacle = shapely.union_all(obstacles)\n",
    "omega_area = pedpy.WalkableArea(shapely.difference(complete_area, obstacle))\n",
    "\n",
    "omega_traj = extract_trajectories(\n",
    "    Path(\"../output/pedpy/OmegaBatch.txt\")\n",
    ")\n",
    "\n",
    "omega_individual = compute_individual_voronoi_polygons(\n",
    "    traj_data=omega_traj[0], \n",
    "    walkable_area=omega_area\n",
    ")\n",
    "\n",
    "omega_individual_cutoff = compute_individual_voronoi_polygons(\n",
    "    traj_data=omega_traj[0], \n",
    "    walkable_area=omega_area,\n",
    "    cut_off= Cutoff(radius=1, quad_segments=3),\n",
    ")"
   ],
   "metadata": {
    "collapsed": false,
    "ExecuteTime": {
     "start_time": "2024-06-14T15:13:33.258893100Z"
    }
   },
   "id": "66a0ba81c3f0cf44",
   "execution_count": null
  },
  {
   "cell_type": "markdown",
   "source": [
    "### Door Choice\n",
    "\n",
    "This segment focuses specifically on defining spatial regions and managing obstacles within the `Door Choice` area. Here's a breakdown of the components developed for this particular region:"
   ],
   "metadata": {
    "collapsed": false
   },
   "id": "1eacd0d46d469d2c"
  },
  {
   "cell_type": "code",
   "outputs": [],
   "source": [
    "complete_area = Polygon(\n",
    "    # Room\n",
    "    [\n",
    "        (10, -10),\n",
    "        (10, 10),\n",
    "        (-10, 10),\n",
    "        (-10, -10),\n",
    "    ],\n",
    ")\n",
    "        \n",
    "obstacles = [\n",
    "    Polygon(\n",
    "        [\n",
    "            (-9.999, 2.5),\n",
    "            (-9.999, 3.5),\n",
    "            (-2.0, 3.5),\n",
    "            (-2.0, 2.5),\n",
    "        ]\n",
    "    ),\n",
    "    Polygon(\n",
    "        [\n",
    "            (9.999, 2.5),\n",
    "            (9.999, 3.5),\n",
    "            (2.0, 3.5),\n",
    "            (2.0, 2.5),\n",
    "        ] \n",
    "    ),\n",
    "    Polygon(\n",
    "        [\n",
    "            (-9.999, -2.5),\n",
    "            (-9.999, -3.5),\n",
    "            (-6.0, -3.5),\n",
    "            (-6.0, -2.5),\n",
    "        ]\n",
    "    ),\n",
    "    Polygon(\n",
    "        [\n",
    "            (9.999, -2.5),\n",
    "            (9.999, -3.5),\n",
    "            (6.0, -3.5),\n",
    "            (6.0, -2.5),\n",
    "        ]\n",
    "    ),\n",
    "    Polygon(\n",
    "        [\n",
    "            (-2.0, -2.5),\n",
    "            (-2.0, -3.5),\n",
    "            (2.0, -3.5),\n",
    "            (2.0, -2.5),\n",
    "        ]\n",
    "    )\n",
    "]\n",
    "\n",
    "door_choice_final_target = [\n",
    "    [(-9.999, 8), (-9.999, 9.999), (9.999, 9.999), (9.999, 8)]\n",
    "]\n",
    "\n",
    "door_choice_start_area = [\n",
    "    [(-8, -5), (-8, -9), (8, -9), (8, -5)],   \n",
    "]\n",
    "\n",
    "obstacle = shapely.union_all(obstacles)\n",
    "door_choice_area = pedpy.WalkableArea(shapely.difference(complete_area, obstacle))\n",
    "\n",
    "door_choice_traj = extract_trajectories(\n",
    "    Path(\"../output/pedpy/DoorChoiceBatch.txt\")\n",
    ")\n",
    "\n",
    "door_choice_individual = compute_individual_voronoi_polygons(\n",
    "    traj_data=door_choice_traj[0], \n",
    "    walkable_area=door_choice_area\n",
    ")\n",
    "\n",
    "door_choice_individual_cutoff = compute_individual_voronoi_polygons(\n",
    "    traj_data=door_choice_traj[0], \n",
    "    walkable_area=door_choice_area,\n",
    "    cut_off= Cutoff(radius=1, quad_segments=3),\n",
    ")"
   ],
   "metadata": {
    "collapsed": false,
    "ExecuteTime": {
     "end_time": "2024-06-14T15:13:33.265082400Z",
     "start_time": "2024-06-14T15:13:33.260893500Z"
    }
   },
   "id": "cfce1076e293711c",
   "execution_count": null
  },
  {
   "cell_type": "markdown",
   "source": [
    "## Visualization\n",
    "\n"
   ],
   "metadata": {
    "collapsed": false
   },
   "id": "9735d285f473e21"
  },
  {
   "cell_type": "markdown",
   "source": [
    "### Curve-C"
   ],
   "metadata": {
    "collapsed": false
   },
   "id": "a2131d0787aed329"
  },
  {
   "cell_type": "code",
   "outputs": [],
   "source": [
    "plot_trajectories(curve_c_traj, curve_c_area,\"Curve C\", curve_c_final_target, curve_c_start_area)"
   ],
   "metadata": {
    "collapsed": false,
    "ExecuteTime": {
     "start_time": "2024-06-14T15:13:33.263083900Z"
    }
   },
   "id": "e03e64318319016a",
   "execution_count": null
  },
  {
   "cell_type": "code",
   "outputs": [],
   "source": [
    "plot_speed_profiles(curve_c_traj, curve_c_area, \"Curve C\", 0, 3000)"
   ],
   "metadata": {
    "collapsed": false,
    "ExecuteTime": {
     "end_time": "2024-06-14T15:13:33.266084100Z",
     "start_time": "2024-06-14T15:13:33.265082400Z"
    }
   },
   "id": "18feb8ad7a8942b2",
   "execution_count": null
  },
  {
   "cell_type": "markdown",
   "source": [
    "### Double Door Opposite"
   ],
   "metadata": {
    "collapsed": false
   },
   "id": "2c191f962d4985"
  },
  {
   "cell_type": "code",
   "outputs": [],
   "source": [
    "plot_trajectories(double_door_opposite_traj, double_door_opposite_area, \"Double Door Opposite\", double_door_opposite_final_target, double_door_opposite_start_area)"
   ],
   "metadata": {
    "collapsed": false,
    "ExecuteTime": {
     "end_time": "2024-06-14T15:13:33.275264600Z",
     "start_time": "2024-06-14T15:13:33.267080800Z"
    }
   },
   "id": "57e007194dc8fc51",
   "execution_count": null
  },
  {
   "cell_type": "code",
   "outputs": [],
   "source": [
    "plot_speed_profiles(double_door_opposite_traj, double_door_opposite_area, \"Double Door Opposite\", 0, 2500)"
   ],
   "metadata": {
    "collapsed": false,
    "ExecuteTime": {
     "start_time": "2024-06-14T15:13:33.270080Z"
    }
   },
   "id": "8ad23dcbf726ef4e",
   "execution_count": null
  },
  {
   "cell_type": "code",
   "outputs": [],
   "source": [
    "plot_density_comparison(double_door_opposite_data, double_door_opposite_colors, \"Double Door Opposite\")"
   ],
   "metadata": {
    "collapsed": false,
    "ExecuteTime": {
     "start_time": "2024-06-14T15:13:33.272081Z"
    }
   },
   "id": "7268408c44cd43c5",
   "execution_count": null
  },
  {
   "cell_type": "markdown",
   "source": [
    "### Omega"
   ],
   "metadata": {
    "collapsed": false
   },
   "id": "5ed42d007cf8c32b"
  },
  {
   "cell_type": "code",
   "outputs": [],
   "source": [
    "plot_trajectories(omega_traj, omega_area, \"Omega\", omega_final_target, omega_start_area)"
   ],
   "metadata": {
    "collapsed": false,
    "ExecuteTime": {
     "start_time": "2024-06-14T15:13:33.274263900Z"
    }
   },
   "id": "7c935abc9cda87c5",
   "execution_count": null
  },
  {
   "cell_type": "code",
   "outputs": [],
   "source": [
    "plot_speed_profiles(omega_traj, omega_area, \"Omega\", 0, 3500)"
   ],
   "metadata": {
    "collapsed": false,
    "ExecuteTime": {
     "end_time": "2024-06-14T15:13:33.280266300Z",
     "start_time": "2024-06-14T15:13:33.277265800Z"
    }
   },
   "id": "d0556ce3bfe7538b",
   "execution_count": null
  },
  {
   "cell_type": "markdown",
   "source": [
    "### Door Choice"
   ],
   "metadata": {
    "collapsed": false
   },
   "id": "5f4a9860a2da25a6"
  },
  {
   "cell_type": "code",
   "outputs": [],
   "source": [
    "plot_trajectories(door_choice_traj, door_choice_area, \"Door Choice\", door_choice_final_target, door_choice_start_area)"
   ],
   "metadata": {
    "collapsed": false,
    "ExecuteTime": {
     "start_time": "2024-06-14T15:13:33.279265300Z"
    }
   },
   "id": "9c70bc955cd8d590",
   "execution_count": null
  },
  {
   "cell_type": "code",
   "outputs": [],
   "source": [
    "plot_speed_profiles(door_choice_traj, door_choice_area, \"Door Choice\", 0, 1200)"
   ],
   "metadata": {
    "collapsed": false,
    "ExecuteTime": {
     "start_time": "2024-06-14T15:13:33.281771200Z"
    }
   },
   "id": "51f6a9f6226e58b",
   "execution_count": null
  },
  {
   "cell_type": "markdown",
   "source": [
    "### Anchor"
   ],
   "metadata": {
    "collapsed": false
   },
   "id": "e1e06cce919f8dd"
  },
  {
   "cell_type": "code",
   "outputs": [],
   "source": [
    "plot_speed_profiles(anchor_traj, anchor_area, \"Anchor\", 0, 1200)"
   ],
   "metadata": {
    "collapsed": false,
    "ExecuteTime": {
     "start_time": "2024-06-14T15:13:33.283776200Z"
    }
   },
   "id": "b9cf07194ee47856",
   "execution_count": null
  },
  {
   "cell_type": "code",
   "outputs": [],
   "source": [
    "plot_density_comparison(anchor_data, anchor_colors, \"Anchor\")"
   ],
   "metadata": {
    "collapsed": false,
    "ExecuteTime": {
     "start_time": "2024-06-14T15:13:33.285776800Z"
    }
   },
   "id": "804eaecec5089f89",
   "execution_count": null
  },
  {
   "cell_type": "markdown",
   "source": [
    "## Density Animation"
   ],
   "metadata": {
    "collapsed": false
   },
   "id": "4ac6f7460aa97a5e"
  },
  {
   "cell_type": "markdown",
   "source": [
    "### Function to Plot Voronoi Density Animation\n",
    "\n",
    "The `plot_voronoi_density_animation` function visualizes changes in pedestrian density within a defined walkable area over a series of frames using Voronoi diagrams, comparing results with and without applying a density cutoff. This animated plot provides insights into the dynamic distribution of pedestrian densities over time. Here's a detailed step-by-step overview of its operations:\n",
    "\n",
    "1. **Initialization**:\n",
    "   - Enables interactive plotting with `%matplotlib notebook` for dynamic updates.\n",
    "   - Initializes a figure with two subplots (`ax1` and `ax2`) and a global color bar at the bottom.\n",
    "\n",
    "2. **Figure and Subplot Configuration**:\n",
    "   - Sets a title for the figure that incorporates the `level_name`.\n",
    "   - Each subplot is set up to display different sets of Voronoi diagrams—without cutoff (`ax1`) and with cutoff (`ax2`).\n",
    "\n",
    "3. **Animation Frame Update Function**:\n",
    "   - Defines an `update` function to refresh the content of each subplot for each frame in the specified range (`frame_start` to `frame_end` with `step` increments).\n",
    "   - Clears previous contents to avoid overlap and resets titles to reflect the current frame.\n",
    "\n",
    "4. **Voronoi Diagram Plotting**:\n",
    "   - For `ax1`, plots Voronoi cells using the provided `voronoi_data` that visualize density without any cutoff.\n",
    "   - For `ax2`, uses `voronoi_data_cutoff` to plot Voronoi cells with a density cutoff, focusing on areas with higher pedestrian influence.\n",
    "   - Both subplots use the same color settings for consistency, defined by the parameters `vmin` and `vmax` to standardize density visualization.\n",
    "\n",
    "5. **Color Bar Setup**:\n",
    "   - Adds a horizontal color bar to the figure, which applies to both subplots, showing the density scale from `vmin` to `vmax`.\n",
    "   - The color bar is labeled to indicate density in units of `1/m^2`, using a gradient color map from green (low density) to yellow (high density).\n",
    "\n",
    "6. **Animation Configuration**:\n",
    "   - Creates an animation (`anim`) using `FuncAnimation` that cycles through the specified frames, calling the `update` function for each frame.\n",
    "   - The animation does not repeat, ending after the last frame is displayed.\n",
    "\n",
    "7. **Display and Return**:\n",
    "   - Displays the animated plot, providing a dynamic visualization of changes in pedestrian density over time.\n",
    "   - Returns the animation object, allowing for further manipulation or saving if required.\n"
   ],
   "metadata": {
    "collapsed": false
   },
   "id": "f34f8676bf1485db"
  },
  {
   "cell_type": "code",
   "outputs": [],
   "source": [
    "%matplotlib notebook\n",
    "\n",
    "def plot_voronoi_density_animation(\n",
    "        voronoi_data_list: list, \n",
    "        voronoi_data_cutoff_list: list, \n",
    "        traj_data_list: list, \n",
    "        walkable_area: WalkableArea, \n",
    "        frame_start: int, \n",
    "        frame_end: int, \n",
    "        step: int, \n",
    "        level_name: str, \n",
    "        vmin: float, \n",
    "        vmax: float) -> FuncAnimation:\n",
    "    frames = list(range(frame_start, frame_end + 1, step))\n",
    "\n",
    "    fig, (ax1, ax2) = plt.subplots(1, 2, figsize=(18, 10))\n",
    "    fig.suptitle(f\"Voronoi Density - {level_name}\")\n",
    "\n",
    "    def update(frame):\n",
    "        ax1.clear()\n",
    "        ax2.clear()\n",
    "\n",
    "        ax1.set_title(f\"Frame {frame} w/o cutoff\")\n",
    "        ax1.set_aspect('equal')\n",
    "        for traj_data, voronoi_data in zip(traj_data_list, voronoi_data_list):\n",
    "            plot_voronoi_cells(\n",
    "                voronoi_data=voronoi_data,\n",
    "                traj_data=traj_data,\n",
    "                frame=frame,\n",
    "                walkable_area=walkable_area,\n",
    "                color_by_column=DENSITY_COL,\n",
    "                axes=ax1,\n",
    "                show_colorbar=False,\n",
    "                vmin=vmin,\n",
    "                vmax=vmax,\n",
    "            )\n",
    "\n",
    "        ax2.set_title(f\"Frame {frame} w/ cutoff\")\n",
    "        ax2.set_aspect('equal')\n",
    "        for traj_data, voronoi_data_cutoff in zip(traj_data_list, voronoi_data_cutoff_list):\n",
    "            plot_voronoi_cells(\n",
    "                voronoi_data=voronoi_data_cutoff,\n",
    "                traj_data=traj_data,\n",
    "                frame=frame,\n",
    "                walkable_area=walkable_area,\n",
    "                color_by_column=DENSITY_COL,\n",
    "                axes=ax2,\n",
    "                show_colorbar=False,\n",
    "                vmin=vmin,\n",
    "                vmax=vmax,\n",
    "            )\n",
    "\n",
    "    cbar_ax = fig.add_axes([0.1, 0.05, 0.8, 0.03])\n",
    "    norm = mpl.colors.Normalize(vmin=vmin, vmax=vmax)\n",
    "    sm = plt.cm.ScalarMappable(cmap=plt.get_cmap(\"YlGn\"), norm=norm)\n",
    "    sm.set_array([])\n",
    "    plt.colorbar(\n",
    "        sm,\n",
    "        cax=cbar_ax,\n",
    "        shrink=0.1,\n",
    "        label=\"$\\\\rho$ \\ 1/$m^2$\",\n",
    "        aspect=2,\n",
    "        orientation=\"horizontal\",\n",
    "    )\n",
    "\n",
    "    plt.subplots_adjust(left=0.05, right=0.95, top=0.85, bottom=0.15, wspace=0.2, hspace=0.35)\n",
    "\n",
    "    anim = FuncAnimation(fig, update, frames=frames, repeat=False)\n",
    "    plt.show()\n",
    "    return anim"
   ],
   "metadata": {
    "collapsed": false,
    "ExecuteTime": {
     "end_time": "2024-06-14T15:14:47.966396100Z",
     "start_time": "2024-06-14T15:14:47.938786600Z"
    }
   },
   "id": "f0ab409cd54a9df4",
   "execution_count": 15
  },
  {
   "cell_type": "code",
   "outputs": [
    {
     "data": {
      "text/plain": "<IPython.core.display.Javascript object>",
      "application/javascript": "/* Put everything inside the global mpl namespace */\n/* global mpl */\nwindow.mpl = {};\n\nmpl.get_websocket_type = function () {\n    if (typeof WebSocket !== 'undefined') {\n        return WebSocket;\n    } else if (typeof MozWebSocket !== 'undefined') {\n        return MozWebSocket;\n    } else {\n        alert(\n            'Your browser does not have WebSocket support. ' +\n                'Please try Chrome, Safari or Firefox ≥ 6. ' +\n                'Firefox 4 and 5 are also supported but you ' +\n                'have to enable WebSockets in about:config.'\n        );\n    }\n};\n\nmpl.figure = function (figure_id, websocket, ondownload, parent_element) {\n    this.id = figure_id;\n\n    this.ws = websocket;\n\n    this.supports_binary = this.ws.binaryType !== undefined;\n\n    if (!this.supports_binary) {\n        var warnings = document.getElementById('mpl-warnings');\n        if (warnings) {\n            warnings.style.display = 'block';\n            warnings.textContent =\n                'This browser does not support binary websocket messages. ' +\n                'Performance may be slow.';\n        }\n    }\n\n    this.imageObj = new Image();\n\n    this.context = undefined;\n    this.message = undefined;\n    this.canvas = undefined;\n    this.rubberband_canvas = undefined;\n    this.rubberband_context = undefined;\n    this.format_dropdown = undefined;\n\n    this.image_mode = 'full';\n\n    this.root = document.createElement('div');\n    this.root.setAttribute('style', 'display: inline-block');\n    this._root_extra_style(this.root);\n\n    parent_element.appendChild(this.root);\n\n    this._init_header(this);\n    this._init_canvas(this);\n    this._init_toolbar(this);\n\n    var fig = this;\n\n    this.waiting = false;\n\n    this.ws.onopen = function () {\n        fig.send_message('supports_binary', { value: fig.supports_binary });\n        fig.send_message('send_image_mode', {});\n        if (fig.ratio !== 1) {\n            fig.send_message('set_device_pixel_ratio', {\n                device_pixel_ratio: fig.ratio,\n            });\n        }\n        fig.send_message('refresh', {});\n    };\n\n    this.imageObj.onload = function () {\n        if (fig.image_mode === 'full') {\n            // Full images could contain transparency (where diff images\n            // almost always do), so we need to clear the canvas so that\n            // there is no ghosting.\n            fig.context.clearRect(0, 0, fig.canvas.width, fig.canvas.height);\n        }\n        fig.context.drawImage(fig.imageObj, 0, 0);\n    };\n\n    this.imageObj.onunload = function () {\n        fig.ws.close();\n    };\n\n    this.ws.onmessage = this._make_on_message_function(this);\n\n    this.ondownload = ondownload;\n};\n\nmpl.figure.prototype._init_header = function () {\n    var titlebar = document.createElement('div');\n    titlebar.classList =\n        'ui-dialog-titlebar ui-widget-header ui-corner-all ui-helper-clearfix';\n    var titletext = document.createElement('div');\n    titletext.classList = 'ui-dialog-title';\n    titletext.setAttribute(\n        'style',\n        'width: 100%; text-align: center; padding: 3px;'\n    );\n    titlebar.appendChild(titletext);\n    this.root.appendChild(titlebar);\n    this.header = titletext;\n};\n\nmpl.figure.prototype._canvas_extra_style = function (_canvas_div) {};\n\nmpl.figure.prototype._root_extra_style = function (_canvas_div) {};\n\nmpl.figure.prototype._init_canvas = function () {\n    var fig = this;\n\n    var canvas_div = (this.canvas_div = document.createElement('div'));\n    canvas_div.setAttribute('tabindex', '0');\n    canvas_div.setAttribute(\n        'style',\n        'border: 1px solid #ddd;' +\n            'box-sizing: content-box;' +\n            'clear: both;' +\n            'min-height: 1px;' +\n            'min-width: 1px;' +\n            'outline: 0;' +\n            'overflow: hidden;' +\n            'position: relative;' +\n            'resize: both;' +\n            'z-index: 2;'\n    );\n\n    function on_keyboard_event_closure(name) {\n        return function (event) {\n            return fig.key_event(event, name);\n        };\n    }\n\n    canvas_div.addEventListener(\n        'keydown',\n        on_keyboard_event_closure('key_press')\n    );\n    canvas_div.addEventListener(\n        'keyup',\n        on_keyboard_event_closure('key_release')\n    );\n\n    this._canvas_extra_style(canvas_div);\n    this.root.appendChild(canvas_div);\n\n    var canvas = (this.canvas = document.createElement('canvas'));\n    canvas.classList.add('mpl-canvas');\n    canvas.setAttribute(\n        'style',\n        'box-sizing: content-box;' +\n            'pointer-events: none;' +\n            'position: relative;' +\n            'z-index: 0;'\n    );\n\n    this.context = canvas.getContext('2d');\n\n    var backingStore =\n        this.context.backingStorePixelRatio ||\n        this.context.webkitBackingStorePixelRatio ||\n        this.context.mozBackingStorePixelRatio ||\n        this.context.msBackingStorePixelRatio ||\n        this.context.oBackingStorePixelRatio ||\n        this.context.backingStorePixelRatio ||\n        1;\n\n    this.ratio = (window.devicePixelRatio || 1) / backingStore;\n\n    var rubberband_canvas = (this.rubberband_canvas = document.createElement(\n        'canvas'\n    ));\n    rubberband_canvas.setAttribute(\n        'style',\n        'box-sizing: content-box;' +\n            'left: 0;' +\n            'pointer-events: none;' +\n            'position: absolute;' +\n            'top: 0;' +\n            'z-index: 1;'\n    );\n\n    // Apply a ponyfill if ResizeObserver is not implemented by browser.\n    if (this.ResizeObserver === undefined) {\n        if (window.ResizeObserver !== undefined) {\n            this.ResizeObserver = window.ResizeObserver;\n        } else {\n            var obs = _JSXTOOLS_RESIZE_OBSERVER({});\n            this.ResizeObserver = obs.ResizeObserver;\n        }\n    }\n\n    this.resizeObserverInstance = new this.ResizeObserver(function (entries) {\n        var nentries = entries.length;\n        for (var i = 0; i < nentries; i++) {\n            var entry = entries[i];\n            var width, height;\n            if (entry.contentBoxSize) {\n                if (entry.contentBoxSize instanceof Array) {\n                    // Chrome 84 implements new version of spec.\n                    width = entry.contentBoxSize[0].inlineSize;\n                    height = entry.contentBoxSize[0].blockSize;\n                } else {\n                    // Firefox implements old version of spec.\n                    width = entry.contentBoxSize.inlineSize;\n                    height = entry.contentBoxSize.blockSize;\n                }\n            } else {\n                // Chrome <84 implements even older version of spec.\n                width = entry.contentRect.width;\n                height = entry.contentRect.height;\n            }\n\n            // Keep the size of the canvas and rubber band canvas in sync with\n            // the canvas container.\n            if (entry.devicePixelContentBoxSize) {\n                // Chrome 84 implements new version of spec.\n                canvas.setAttribute(\n                    'width',\n                    entry.devicePixelContentBoxSize[0].inlineSize\n                );\n                canvas.setAttribute(\n                    'height',\n                    entry.devicePixelContentBoxSize[0].blockSize\n                );\n            } else {\n                canvas.setAttribute('width', width * fig.ratio);\n                canvas.setAttribute('height', height * fig.ratio);\n            }\n            /* This rescales the canvas back to display pixels, so that it\n             * appears correct on HiDPI screens. */\n            canvas.style.width = width + 'px';\n            canvas.style.height = height + 'px';\n\n            rubberband_canvas.setAttribute('width', width);\n            rubberband_canvas.setAttribute('height', height);\n\n            // And update the size in Python. We ignore the initial 0/0 size\n            // that occurs as the element is placed into the DOM, which should\n            // otherwise not happen due to the minimum size styling.\n            if (fig.ws.readyState == 1 && width != 0 && height != 0) {\n                fig.request_resize(width, height);\n            }\n        }\n    });\n    this.resizeObserverInstance.observe(canvas_div);\n\n    function on_mouse_event_closure(name) {\n        /* User Agent sniffing is bad, but WebKit is busted:\n         * https://bugs.webkit.org/show_bug.cgi?id=144526\n         * https://bugs.webkit.org/show_bug.cgi?id=181818\n         * The worst that happens here is that they get an extra browser\n         * selection when dragging, if this check fails to catch them.\n         */\n        var UA = navigator.userAgent;\n        var isWebKit = /AppleWebKit/.test(UA) && !/Chrome/.test(UA);\n        if(isWebKit) {\n            return function (event) {\n                /* This prevents the web browser from automatically changing to\n                 * the text insertion cursor when the button is pressed. We\n                 * want to control all of the cursor setting manually through\n                 * the 'cursor' event from matplotlib */\n                event.preventDefault()\n                return fig.mouse_event(event, name);\n            };\n        } else {\n            return function (event) {\n                return fig.mouse_event(event, name);\n            };\n        }\n    }\n\n    canvas_div.addEventListener(\n        'mousedown',\n        on_mouse_event_closure('button_press')\n    );\n    canvas_div.addEventListener(\n        'mouseup',\n        on_mouse_event_closure('button_release')\n    );\n    canvas_div.addEventListener(\n        'dblclick',\n        on_mouse_event_closure('dblclick')\n    );\n    // Throttle sequential mouse events to 1 every 20ms.\n    canvas_div.addEventListener(\n        'mousemove',\n        on_mouse_event_closure('motion_notify')\n    );\n\n    canvas_div.addEventListener(\n        'mouseenter',\n        on_mouse_event_closure('figure_enter')\n    );\n    canvas_div.addEventListener(\n        'mouseleave',\n        on_mouse_event_closure('figure_leave')\n    );\n\n    canvas_div.addEventListener('wheel', function (event) {\n        if (event.deltaY < 0) {\n            event.step = 1;\n        } else {\n            event.step = -1;\n        }\n        on_mouse_event_closure('scroll')(event);\n    });\n\n    canvas_div.appendChild(canvas);\n    canvas_div.appendChild(rubberband_canvas);\n\n    this.rubberband_context = rubberband_canvas.getContext('2d');\n    this.rubberband_context.strokeStyle = '#000000';\n\n    this._resize_canvas = function (width, height, forward) {\n        if (forward) {\n            canvas_div.style.width = width + 'px';\n            canvas_div.style.height = height + 'px';\n        }\n    };\n\n    // Disable right mouse context menu.\n    canvas_div.addEventListener('contextmenu', function (_e) {\n        event.preventDefault();\n        return false;\n    });\n\n    function set_focus() {\n        canvas.focus();\n        canvas_div.focus();\n    }\n\n    window.setTimeout(set_focus, 100);\n};\n\nmpl.figure.prototype._init_toolbar = function () {\n    var fig = this;\n\n    var toolbar = document.createElement('div');\n    toolbar.classList = 'mpl-toolbar';\n    this.root.appendChild(toolbar);\n\n    function on_click_closure(name) {\n        return function (_event) {\n            return fig.toolbar_button_onclick(name);\n        };\n    }\n\n    function on_mouseover_closure(tooltip) {\n        return function (event) {\n            if (!event.currentTarget.disabled) {\n                return fig.toolbar_button_onmouseover(tooltip);\n            }\n        };\n    }\n\n    fig.buttons = {};\n    var buttonGroup = document.createElement('div');\n    buttonGroup.classList = 'mpl-button-group';\n    for (var toolbar_ind in mpl.toolbar_items) {\n        var name = mpl.toolbar_items[toolbar_ind][0];\n        var tooltip = mpl.toolbar_items[toolbar_ind][1];\n        var image = mpl.toolbar_items[toolbar_ind][2];\n        var method_name = mpl.toolbar_items[toolbar_ind][3];\n\n        if (!name) {\n            /* Instead of a spacer, we start a new button group. */\n            if (buttonGroup.hasChildNodes()) {\n                toolbar.appendChild(buttonGroup);\n            }\n            buttonGroup = document.createElement('div');\n            buttonGroup.classList = 'mpl-button-group';\n            continue;\n        }\n\n        var button = (fig.buttons[name] = document.createElement('button'));\n        button.classList = 'mpl-widget';\n        button.setAttribute('role', 'button');\n        button.setAttribute('aria-disabled', 'false');\n        button.addEventListener('click', on_click_closure(method_name));\n        button.addEventListener('mouseover', on_mouseover_closure(tooltip));\n\n        var icon_img = document.createElement('img');\n        icon_img.src = '_images/' + image + '.png';\n        icon_img.srcset = '_images/' + image + '_large.png 2x';\n        icon_img.alt = tooltip;\n        button.appendChild(icon_img);\n\n        buttonGroup.appendChild(button);\n    }\n\n    if (buttonGroup.hasChildNodes()) {\n        toolbar.appendChild(buttonGroup);\n    }\n\n    var fmt_picker = document.createElement('select');\n    fmt_picker.classList = 'mpl-widget';\n    toolbar.appendChild(fmt_picker);\n    this.format_dropdown = fmt_picker;\n\n    for (var ind in mpl.extensions) {\n        var fmt = mpl.extensions[ind];\n        var option = document.createElement('option');\n        option.selected = fmt === mpl.default_extension;\n        option.innerHTML = fmt;\n        fmt_picker.appendChild(option);\n    }\n\n    var status_bar = document.createElement('span');\n    status_bar.classList = 'mpl-message';\n    toolbar.appendChild(status_bar);\n    this.message = status_bar;\n};\n\nmpl.figure.prototype.request_resize = function (x_pixels, y_pixels) {\n    // Request matplotlib to resize the figure. Matplotlib will then trigger a resize in the client,\n    // which will in turn request a refresh of the image.\n    this.send_message('resize', { width: x_pixels, height: y_pixels });\n};\n\nmpl.figure.prototype.send_message = function (type, properties) {\n    properties['type'] = type;\n    properties['figure_id'] = this.id;\n    this.ws.send(JSON.stringify(properties));\n};\n\nmpl.figure.prototype.send_draw_message = function () {\n    if (!this.waiting) {\n        this.waiting = true;\n        this.ws.send(JSON.stringify({ type: 'draw', figure_id: this.id }));\n    }\n};\n\nmpl.figure.prototype.handle_save = function (fig, _msg) {\n    var format_dropdown = fig.format_dropdown;\n    var format = format_dropdown.options[format_dropdown.selectedIndex].value;\n    fig.ondownload(fig, format);\n};\n\nmpl.figure.prototype.handle_resize = function (fig, msg) {\n    var size = msg['size'];\n    if (size[0] !== fig.canvas.width || size[1] !== fig.canvas.height) {\n        fig._resize_canvas(size[0], size[1], msg['forward']);\n        fig.send_message('refresh', {});\n    }\n};\n\nmpl.figure.prototype.handle_rubberband = function (fig, msg) {\n    var x0 = msg['x0'] / fig.ratio;\n    var y0 = (fig.canvas.height - msg['y0']) / fig.ratio;\n    var x1 = msg['x1'] / fig.ratio;\n    var y1 = (fig.canvas.height - msg['y1']) / fig.ratio;\n    x0 = Math.floor(x0) + 0.5;\n    y0 = Math.floor(y0) + 0.5;\n    x1 = Math.floor(x1) + 0.5;\n    y1 = Math.floor(y1) + 0.5;\n    var min_x = Math.min(x0, x1);\n    var min_y = Math.min(y0, y1);\n    var width = Math.abs(x1 - x0);\n    var height = Math.abs(y1 - y0);\n\n    fig.rubberband_context.clearRect(\n        0,\n        0,\n        fig.canvas.width / fig.ratio,\n        fig.canvas.height / fig.ratio\n    );\n\n    fig.rubberband_context.strokeRect(min_x, min_y, width, height);\n};\n\nmpl.figure.prototype.handle_figure_label = function (fig, msg) {\n    // Updates the figure title.\n    fig.header.textContent = msg['label'];\n};\n\nmpl.figure.prototype.handle_cursor = function (fig, msg) {\n    fig.canvas_div.style.cursor = msg['cursor'];\n};\n\nmpl.figure.prototype.handle_message = function (fig, msg) {\n    fig.message.textContent = msg['message'];\n};\n\nmpl.figure.prototype.handle_draw = function (fig, _msg) {\n    // Request the server to send over a new figure.\n    fig.send_draw_message();\n};\n\nmpl.figure.prototype.handle_image_mode = function (fig, msg) {\n    fig.image_mode = msg['mode'];\n};\n\nmpl.figure.prototype.handle_history_buttons = function (fig, msg) {\n    for (var key in msg) {\n        if (!(key in fig.buttons)) {\n            continue;\n        }\n        fig.buttons[key].disabled = !msg[key];\n        fig.buttons[key].setAttribute('aria-disabled', !msg[key]);\n    }\n};\n\nmpl.figure.prototype.handle_navigate_mode = function (fig, msg) {\n    if (msg['mode'] === 'PAN') {\n        fig.buttons['Pan'].classList.add('active');\n        fig.buttons['Zoom'].classList.remove('active');\n    } else if (msg['mode'] === 'ZOOM') {\n        fig.buttons['Pan'].classList.remove('active');\n        fig.buttons['Zoom'].classList.add('active');\n    } else {\n        fig.buttons['Pan'].classList.remove('active');\n        fig.buttons['Zoom'].classList.remove('active');\n    }\n};\n\nmpl.figure.prototype.updated_canvas_event = function () {\n    // Called whenever the canvas gets updated.\n    this.send_message('ack', {});\n};\n\n// A function to construct a web socket function for onmessage handling.\n// Called in the figure constructor.\nmpl.figure.prototype._make_on_message_function = function (fig) {\n    return function socket_on_message(evt) {\n        if (evt.data instanceof Blob) {\n            var img = evt.data;\n            if (img.type !== 'image/png') {\n                /* FIXME: We get \"Resource interpreted as Image but\n                 * transferred with MIME type text/plain:\" errors on\n                 * Chrome.  But how to set the MIME type?  It doesn't seem\n                 * to be part of the websocket stream */\n                img.type = 'image/png';\n            }\n\n            /* Free the memory for the previous frames */\n            if (fig.imageObj.src) {\n                (window.URL || window.webkitURL).revokeObjectURL(\n                    fig.imageObj.src\n                );\n            }\n\n            fig.imageObj.src = (window.URL || window.webkitURL).createObjectURL(\n                img\n            );\n            fig.updated_canvas_event();\n            fig.waiting = false;\n            return;\n        } else if (\n            typeof evt.data === 'string' &&\n            evt.data.slice(0, 21) === 'data:image/png;base64'\n        ) {\n            fig.imageObj.src = evt.data;\n            fig.updated_canvas_event();\n            fig.waiting = false;\n            return;\n        }\n\n        var msg = JSON.parse(evt.data);\n        var msg_type = msg['type'];\n\n        // Call the  \"handle_{type}\" callback, which takes\n        // the figure and JSON message as its only arguments.\n        try {\n            var callback = fig['handle_' + msg_type];\n        } catch (e) {\n            console.log(\n                \"No handler for the '\" + msg_type + \"' message type: \",\n                msg\n            );\n            return;\n        }\n\n        if (callback) {\n            try {\n                // console.log(\"Handling '\" + msg_type + \"' message: \", msg);\n                callback(fig, msg);\n            } catch (e) {\n                console.log(\n                    \"Exception inside the 'handler_\" + msg_type + \"' callback:\",\n                    e,\n                    e.stack,\n                    msg\n                );\n            }\n        }\n    };\n};\n\nfunction getModifiers(event) {\n    var mods = [];\n    if (event.ctrlKey) {\n        mods.push('ctrl');\n    }\n    if (event.altKey) {\n        mods.push('alt');\n    }\n    if (event.shiftKey) {\n        mods.push('shift');\n    }\n    if (event.metaKey) {\n        mods.push('meta');\n    }\n    return mods;\n}\n\n/*\n * return a copy of an object with only non-object keys\n * we need this to avoid circular references\n * https://stackoverflow.com/a/24161582/3208463\n */\nfunction simpleKeys(original) {\n    return Object.keys(original).reduce(function (obj, key) {\n        if (typeof original[key] !== 'object') {\n            obj[key] = original[key];\n        }\n        return obj;\n    }, {});\n}\n\nmpl.figure.prototype.mouse_event = function (event, name) {\n    if (name === 'button_press') {\n        this.canvas.focus();\n        this.canvas_div.focus();\n    }\n\n    // from https://stackoverflow.com/q/1114465\n    var boundingRect = this.canvas.getBoundingClientRect();\n    var x = (event.clientX - boundingRect.left) * this.ratio;\n    var y = (event.clientY - boundingRect.top) * this.ratio;\n\n    this.send_message(name, {\n        x: x,\n        y: y,\n        button: event.button,\n        step: event.step,\n        modifiers: getModifiers(event),\n        guiEvent: simpleKeys(event),\n    });\n\n    return false;\n};\n\nmpl.figure.prototype._key_event_extra = function (_event, _name) {\n    // Handle any extra behaviour associated with a key event\n};\n\nmpl.figure.prototype.key_event = function (event, name) {\n    // Prevent repeat events\n    if (name === 'key_press') {\n        if (event.key === this._key) {\n            return;\n        } else {\n            this._key = event.key;\n        }\n    }\n    if (name === 'key_release') {\n        this._key = null;\n    }\n\n    var value = '';\n    if (event.ctrlKey && event.key !== 'Control') {\n        value += 'ctrl+';\n    }\n    else if (event.altKey && event.key !== 'Alt') {\n        value += 'alt+';\n    }\n    else if (event.shiftKey && event.key !== 'Shift') {\n        value += 'shift+';\n    }\n\n    value += 'k' + event.key;\n\n    this._key_event_extra(event, name);\n\n    this.send_message(name, { key: value, guiEvent: simpleKeys(event) });\n    return false;\n};\n\nmpl.figure.prototype.toolbar_button_onclick = function (name) {\n    if (name === 'download') {\n        this.handle_save(this, null);\n    } else {\n        this.send_message('toolbar_button', { name: name });\n    }\n};\n\nmpl.figure.prototype.toolbar_button_onmouseover = function (tooltip) {\n    this.message.textContent = tooltip;\n};\n\n///////////////// REMAINING CONTENT GENERATED BY embed_js.py /////////////////\n// prettier-ignore\nvar _JSXTOOLS_RESIZE_OBSERVER=function(A){var t,i=new WeakMap,n=new WeakMap,a=new WeakMap,r=new WeakMap,o=new Set;function s(e){if(!(this instanceof s))throw new TypeError(\"Constructor requires 'new' operator\");i.set(this,e)}function h(){throw new TypeError(\"Function is not a constructor\")}function c(e,t,i,n){e=0 in arguments?Number(arguments[0]):0,t=1 in arguments?Number(arguments[1]):0,i=2 in arguments?Number(arguments[2]):0,n=3 in arguments?Number(arguments[3]):0,this.right=(this.x=this.left=e)+(this.width=i),this.bottom=(this.y=this.top=t)+(this.height=n),Object.freeze(this)}function d(){t=requestAnimationFrame(d);var s=new WeakMap,p=new Set;o.forEach((function(t){r.get(t).forEach((function(i){var r=t instanceof window.SVGElement,o=a.get(t),d=r?0:parseFloat(o.paddingTop),f=r?0:parseFloat(o.paddingRight),l=r?0:parseFloat(o.paddingBottom),u=r?0:parseFloat(o.paddingLeft),g=r?0:parseFloat(o.borderTopWidth),m=r?0:parseFloat(o.borderRightWidth),w=r?0:parseFloat(o.borderBottomWidth),b=u+f,F=d+l,v=(r?0:parseFloat(o.borderLeftWidth))+m,W=g+w,y=r?0:t.offsetHeight-W-t.clientHeight,E=r?0:t.offsetWidth-v-t.clientWidth,R=b+v,z=F+W,M=r?t.width:parseFloat(o.width)-R-E,O=r?t.height:parseFloat(o.height)-z-y;if(n.has(t)){var k=n.get(t);if(k[0]===M&&k[1]===O)return}n.set(t,[M,O]);var S=Object.create(h.prototype);S.target=t,S.contentRect=new c(u,d,M,O),s.has(i)||(s.set(i,[]),p.add(i)),s.get(i).push(S)}))})),p.forEach((function(e){i.get(e).call(e,s.get(e),e)}))}return s.prototype.observe=function(i){if(i instanceof window.Element){r.has(i)||(r.set(i,new Set),o.add(i),a.set(i,window.getComputedStyle(i)));var n=r.get(i);n.has(this)||n.add(this),cancelAnimationFrame(t),t=requestAnimationFrame(d)}},s.prototype.unobserve=function(i){if(i instanceof window.Element&&r.has(i)){var n=r.get(i);n.has(this)&&(n.delete(this),n.size||(r.delete(i),o.delete(i))),n.size||r.delete(i),o.size||cancelAnimationFrame(t)}},A.DOMRectReadOnly=c,A.ResizeObserver=s,A.ResizeObserverEntry=h,A}; // eslint-disable-line\nmpl.toolbar_items = [[\"Home\", \"Reset original view\", \"fa fa-home\", \"home\"], [\"Back\", \"Back to previous view\", \"fa fa-arrow-left\", \"back\"], [\"Forward\", \"Forward to next view\", \"fa fa-arrow-right\", \"forward\"], [\"\", \"\", \"\", \"\"], [\"Pan\", \"Left button pans, Right button zooms\\nx/y fixes axis, CTRL fixes aspect\", \"fa fa-arrows\", \"pan\"], [\"Zoom\", \"Zoom to rectangle\\nx/y fixes axis\", \"fa fa-square-o\", \"zoom\"], [\"\", \"\", \"\", \"\"], [\"Download\", \"Download plot\", \"fa fa-floppy-o\", \"download\"]];\n\nmpl.extensions = [\"eps\", \"jpeg\", \"pgf\", \"pdf\", \"png\", \"ps\", \"raw\", \"svg\", \"tif\", \"webp\"];\n\nmpl.default_extension = \"png\";/* global mpl */\n\nvar comm_websocket_adapter = function (comm) {\n    // Create a \"websocket\"-like object which calls the given IPython comm\n    // object with the appropriate methods. Currently this is a non binary\n    // socket, so there is still some room for performance tuning.\n    var ws = {};\n\n    ws.binaryType = comm.kernel.ws.binaryType;\n    ws.readyState = comm.kernel.ws.readyState;\n    function updateReadyState(_event) {\n        if (comm.kernel.ws) {\n            ws.readyState = comm.kernel.ws.readyState;\n        } else {\n            ws.readyState = 3; // Closed state.\n        }\n    }\n    comm.kernel.ws.addEventListener('open', updateReadyState);\n    comm.kernel.ws.addEventListener('close', updateReadyState);\n    comm.kernel.ws.addEventListener('error', updateReadyState);\n\n    ws.close = function () {\n        comm.close();\n    };\n    ws.send = function (m) {\n        //console.log('sending', m);\n        comm.send(m);\n    };\n    // Register the callback with on_msg.\n    comm.on_msg(function (msg) {\n        //console.log('receiving', msg['content']['data'], msg);\n        var data = msg['content']['data'];\n        if (data['blob'] !== undefined) {\n            data = {\n                data: new Blob(msg['buffers'], { type: data['blob'] }),\n            };\n        }\n        // Pass the mpl event to the overridden (by mpl) onmessage function.\n        ws.onmessage(data);\n    });\n    return ws;\n};\n\nmpl.mpl_figure_comm = function (comm, msg) {\n    // This is the function which gets called when the mpl process\n    // starts-up an IPython Comm through the \"matplotlib\" channel.\n\n    var id = msg.content.data.id;\n    // Get hold of the div created by the display call when the Comm\n    // socket was opened in Python.\n    var element = document.getElementById(id);\n    var ws_proxy = comm_websocket_adapter(comm);\n\n    function ondownload(figure, _format) {\n        window.open(figure.canvas.toDataURL());\n    }\n\n    var fig = new mpl.figure(id, ws_proxy, ondownload, element);\n\n    // Call onopen now - mpl needs it, as it is assuming we've passed it a real\n    // web socket which is closed, not our websocket->open comm proxy.\n    ws_proxy.onopen();\n\n    fig.parent_element = element;\n    fig.cell_info = mpl.find_output_cell(\"<div id='\" + id + \"'></div>\");\n    if (!fig.cell_info) {\n        console.error('Failed to find cell for figure', id, fig);\n        return;\n    }\n    fig.cell_info[0].output_area.element.on(\n        'cleared',\n        { fig: fig },\n        fig._remove_fig_handler\n    );\n};\n\nmpl.figure.prototype.handle_close = function (fig, msg) {\n    var width = fig.canvas.width / fig.ratio;\n    fig.cell_info[0].output_area.element.off(\n        'cleared',\n        fig._remove_fig_handler\n    );\n    fig.resizeObserverInstance.unobserve(fig.canvas_div);\n\n    // Update the output cell to use the data from the current canvas.\n    fig.push_to_output();\n    var dataURL = fig.canvas.toDataURL();\n    // Re-enable the keyboard manager in IPython - without this line, in FF,\n    // the notebook keyboard shortcuts fail.\n    IPython.keyboard_manager.enable();\n    fig.parent_element.innerHTML =\n        '<img src=\"' + dataURL + '\" width=\"' + width + '\">';\n    fig.close_ws(fig, msg);\n};\n\nmpl.figure.prototype.close_ws = function (fig, msg) {\n    fig.send_message('closing', msg);\n    // fig.ws.close()\n};\n\nmpl.figure.prototype.push_to_output = function (_remove_interactive) {\n    // Turn the data on the canvas into data in the output cell.\n    var width = this.canvas.width / this.ratio;\n    var dataURL = this.canvas.toDataURL();\n    this.cell_info[1]['text/html'] =\n        '<img src=\"' + dataURL + '\" width=\"' + width + '\">';\n};\n\nmpl.figure.prototype.updated_canvas_event = function () {\n    // Tell IPython that the notebook contents must change.\n    IPython.notebook.set_dirty(true);\n    this.send_message('ack', {});\n    var fig = this;\n    // Wait a second, then push the new image to the DOM so\n    // that it is saved nicely (might be nice to debounce this).\n    setTimeout(function () {\n        fig.push_to_output();\n    }, 1000);\n};\n\nmpl.figure.prototype._init_toolbar = function () {\n    var fig = this;\n\n    var toolbar = document.createElement('div');\n    toolbar.classList = 'btn-toolbar';\n    this.root.appendChild(toolbar);\n\n    function on_click_closure(name) {\n        return function (_event) {\n            return fig.toolbar_button_onclick(name);\n        };\n    }\n\n    function on_mouseover_closure(tooltip) {\n        return function (event) {\n            if (!event.currentTarget.disabled) {\n                return fig.toolbar_button_onmouseover(tooltip);\n            }\n        };\n    }\n\n    fig.buttons = {};\n    var buttonGroup = document.createElement('div');\n    buttonGroup.classList = 'btn-group';\n    var button;\n    for (var toolbar_ind in mpl.toolbar_items) {\n        var name = mpl.toolbar_items[toolbar_ind][0];\n        var tooltip = mpl.toolbar_items[toolbar_ind][1];\n        var image = mpl.toolbar_items[toolbar_ind][2];\n        var method_name = mpl.toolbar_items[toolbar_ind][3];\n\n        if (!name) {\n            /* Instead of a spacer, we start a new button group. */\n            if (buttonGroup.hasChildNodes()) {\n                toolbar.appendChild(buttonGroup);\n            }\n            buttonGroup = document.createElement('div');\n            buttonGroup.classList = 'btn-group';\n            continue;\n        }\n\n        button = fig.buttons[name] = document.createElement('button');\n        button.classList = 'btn btn-default';\n        button.href = '#';\n        button.title = name;\n        button.innerHTML = '<i class=\"fa ' + image + ' fa-lg\"></i>';\n        button.addEventListener('click', on_click_closure(method_name));\n        button.addEventListener('mouseover', on_mouseover_closure(tooltip));\n        buttonGroup.appendChild(button);\n    }\n\n    if (buttonGroup.hasChildNodes()) {\n        toolbar.appendChild(buttonGroup);\n    }\n\n    // Add the status bar.\n    var status_bar = document.createElement('span');\n    status_bar.classList = 'mpl-message pull-right';\n    toolbar.appendChild(status_bar);\n    this.message = status_bar;\n\n    // Add the close button to the window.\n    var buttongrp = document.createElement('div');\n    buttongrp.classList = 'btn-group inline pull-right';\n    button = document.createElement('button');\n    button.classList = 'btn btn-mini btn-primary';\n    button.href = '#';\n    button.title = 'Stop Interaction';\n    button.innerHTML = '<i class=\"fa fa-power-off icon-remove icon-large\"></i>';\n    button.addEventListener('click', function (_evt) {\n        fig.handle_close(fig, {});\n    });\n    button.addEventListener(\n        'mouseover',\n        on_mouseover_closure('Stop Interaction')\n    );\n    buttongrp.appendChild(button);\n    var titlebar = this.root.querySelector('.ui-dialog-titlebar');\n    titlebar.insertBefore(buttongrp, titlebar.firstChild);\n};\n\nmpl.figure.prototype._remove_fig_handler = function (event) {\n    var fig = event.data.fig;\n    if (event.target !== this) {\n        // Ignore bubbled events from children.\n        return;\n    }\n    fig.close_ws(fig, {});\n};\n\nmpl.figure.prototype._root_extra_style = function (el) {\n    el.style.boxSizing = 'content-box'; // override notebook setting of border-box.\n};\n\nmpl.figure.prototype._canvas_extra_style = function (el) {\n    // this is important to make the div 'focusable\n    el.setAttribute('tabindex', 0);\n    // reach out to IPython and tell the keyboard manager to turn it's self\n    // off when our div gets focus\n\n    // location in version 3\n    if (IPython.notebook.keyboard_manager) {\n        IPython.notebook.keyboard_manager.register_events(el);\n    } else {\n        // location in version 2\n        IPython.keyboard_manager.register_events(el);\n    }\n};\n\nmpl.figure.prototype._key_event_extra = function (event, _name) {\n    // Check for shift+enter\n    if (event.shiftKey && event.which === 13) {\n        this.canvas_div.blur();\n        // select the cell after this one\n        var index = IPython.notebook.find_cell_index(this.cell_info[0]);\n        IPython.notebook.select(index + 1);\n    }\n};\n\nmpl.figure.prototype.handle_save = function (fig, _msg) {\n    fig.ondownload(fig, null);\n};\n\nmpl.find_output_cell = function (html_output) {\n    // Return the cell and output element which can be found *uniquely* in the notebook.\n    // Note - this is a bit hacky, but it is done because the \"notebook_saving.Notebook\"\n    // IPython event is triggered only after the cells have been serialised, which for\n    // our purposes (turning an active figure into a static one), is too late.\n    var cells = IPython.notebook.get_cells();\n    var ncells = cells.length;\n    for (var i = 0; i < ncells; i++) {\n        var cell = cells[i];\n        if (cell.cell_type === 'code') {\n            for (var j = 0; j < cell.output_area.outputs.length; j++) {\n                var data = cell.output_area.outputs[j];\n                if (data.data) {\n                    // IPython >= 3 moved mimebundle to data attribute of output\n                    data = data.data;\n                }\n                if (data['text/html'] === html_output) {\n                    return [cell, data, j];\n                }\n            }\n        }\n    }\n};\n\n// Register the function which deals with the matplotlib target/channel.\n// The kernel may be null if the page has been refreshed.\nif (IPython.notebook.kernel !== null) {\n    IPython.notebook.kernel.comm_manager.register_target(\n        'matplotlib',\n        mpl.mpl_figure_comm\n    );\n}\n"
     },
     "metadata": {},
     "output_type": "display_data"
    },
    {
     "data": {
      "text/plain": "<IPython.core.display.HTML object>",
      "text/html": "<div id='9ced7ae6-060a-4cd4-affd-d07a97b72ac5'></div>"
     },
     "metadata": {},
     "output_type": "display_data"
    }
   ],
   "source": [
    "ddo_anim = plot_voronoi_density_animation(\n",
    "    indivi\n",
    ")"
   ],
   "metadata": {
    "collapsed": false,
    "ExecuteTime": {
     "end_time": "2024-06-14T15:14:59.033083600Z",
     "start_time": "2024-06-14T15:14:58.972877100Z"
    }
   },
   "id": "e2f21854040fa1c3",
   "execution_count": 17
  },
  {
   "cell_type": "code",
   "outputs": [],
   "source": [
    "#cc_anim = plot_voronoi_density_animation(curve_c_individual, curve_c_individual_cutoff, curve_c_traj[0], curve_c_area, 0, 180, 5, \"Curve-C\", 0, 1)"
   ],
   "metadata": {
    "collapsed": false,
    "ExecuteTime": {
     "start_time": "2024-06-14T15:13:33.290291500Z"
    }
   },
   "id": "c20096e0fdb58d5a",
   "execution_count": null
  },
  {
   "cell_type": "code",
   "outputs": [],
   "source": [
    "#o_anim = plot_voronoi_density_animation(omega_individual, omega_individual_cutoff, omega_traj[0], omega_area, 0, 150, 5, \"Omega\", 0, 1)"
   ],
   "metadata": {
    "collapsed": false,
    "ExecuteTime": {
     "end_time": "2024-06-14T15:13:33.378406300Z",
     "start_time": "2024-06-14T15:13:33.291796Z"
    }
   },
   "id": "73a9f1bef1665b4e",
   "execution_count": null
  },
  {
   "cell_type": "code",
   "outputs": [],
   "source": [
    "#dc_anim = plot_voronoi_density_animation(door_choice_individual, door_choice_individual_cutoff, door_choice_traj[0], door_choice_area, 0, 100, 5, \"Door Choice\", 0, 1)"
   ],
   "metadata": {
    "collapsed": false,
    "ExecuteTime": {
     "start_time": "2024-06-14T15:13:33.292800900Z"
    }
   },
   "id": "1dd1cb053236d63a",
   "execution_count": null
  },
  {
   "cell_type": "code",
   "outputs": [],
   "source": [
    "#a_anim = plot_voronoi_density_animation(anchor_individual, anchor_individual_cutoff, anchor_traj[0],anchor_area, 0, 50, 2, \"Anchor\", 0, 2)"
   ],
   "metadata": {
    "collapsed": false,
    "ExecuteTime": {
     "start_time": "2024-06-14T15:13:33.299802200Z"
    }
   },
   "id": "1618b26ed550b8a2",
   "execution_count": null
  },
  {
   "cell_type": "code",
   "outputs": [],
   "source": [],
   "metadata": {
    "collapsed": false,
    "ExecuteTime": {
     "start_time": "2024-06-14T15:13:33.299802200Z"
    }
   },
   "id": "53d3d0d6df52c267",
   "execution_count": null
  }
 ],
 "metadata": {
  "kernelspec": {
   "display_name": "Python 3",
   "language": "python",
   "name": "python3"
  },
  "language_info": {
   "codemirror_mode": {
    "name": "ipython",
    "version": 2
   },
   "file_extension": ".py",
   "mimetype": "text/x-python",
   "name": "python",
   "nbconvert_exporter": "python",
   "pygments_lexer": "ipython2",
   "version": "2.7.6"
  }
 },
 "nbformat": 4,
 "nbformat_minor": 5
}
